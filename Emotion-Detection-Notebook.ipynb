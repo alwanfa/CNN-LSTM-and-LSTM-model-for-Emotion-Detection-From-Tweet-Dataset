{
  "cells": [
    {
      "cell_type": "code",
      "execution_count": null,
      "metadata": {
        "colab": {
          "base_uri": "https://localhost:8080/"
        },
        "id": "X5yQrTxwoNpm",
        "outputId": "a5aa2cb6-9433-4d42-9340-b0a2bc54274f"
      },
      "outputs": [
        {
          "output_type": "stream",
          "name": "stdout",
          "text": [
            "Collecting keras-tuner\n",
            "  Downloading keras_tuner-1.4.7-py3-none-any.whl (129 kB)\n",
            "\u001b[2K     \u001b[90m━━━━━━━━━━━━━━━━━━━━━━━━━━━━━━━━━━━━━━━━\u001b[0m \u001b[32m129.1/129.1 kB\u001b[0m \u001b[31m1.5 MB/s\u001b[0m eta \u001b[36m0:00:00\u001b[0m\n",
            "\u001b[?25hRequirement already satisfied: keras in /usr/local/lib/python3.10/dist-packages (from keras-tuner) (2.15.0)\n",
            "Requirement already satisfied: packaging in /usr/local/lib/python3.10/dist-packages (from keras-tuner) (24.0)\n",
            "Requirement already satisfied: requests in /usr/local/lib/python3.10/dist-packages (from keras-tuner) (2.31.0)\n",
            "Collecting kt-legacy (from keras-tuner)\n",
            "  Downloading kt_legacy-1.0.5-py3-none-any.whl (9.6 kB)\n",
            "Requirement already satisfied: charset-normalizer<4,>=2 in /usr/local/lib/python3.10/dist-packages (from requests->keras-tuner) (3.3.2)\n",
            "Requirement already satisfied: idna<4,>=2.5 in /usr/local/lib/python3.10/dist-packages (from requests->keras-tuner) (3.7)\n",
            "Requirement already satisfied: urllib3<3,>=1.21.1 in /usr/local/lib/python3.10/dist-packages (from requests->keras-tuner) (2.0.7)\n",
            "Requirement already satisfied: certifi>=2017.4.17 in /usr/local/lib/python3.10/dist-packages (from requests->keras-tuner) (2024.2.2)\n",
            "Installing collected packages: kt-legacy, keras-tuner\n",
            "Successfully installed keras-tuner-1.4.7 kt-legacy-1.0.5\n"
          ]
        }
      ],
      "source": [
        "!pip install keras-tuner\n",
        "\n",
        "from keras.models import Sequential\n",
        "from keras.layers import Dense, Dropout, Conv1D, MaxPool1D, GlobalMaxPool1D, GlobalAveragePooling1D, GlobalAveragePooling3D, LSTM, Embedding, Activation, Flatten, AveragePooling1D, BatchNormalization, Reshape, Concatenate, Input\n",
        "from keras.callbacks import EarlyStopping, ModelCheckpoint, LearningRateScheduler\n",
        "from keras.losses import CategoricalCrossentropy, SparseCategoricalCrossentropy\n",
        "# from keras.metrics import Recall, Precision, F1Score, Accuracy, categorical_accuracy\n",
        "from keras import backend as K\n",
        "from keras.preprocessing.sequence import pad_sequences\n",
        "from keras.preprocessing.text import Tokenizer\n",
        "# !pip install tensorflow-addons\n",
        "# import tensorflow_addons as tfa\n",
        "from tensorflow.keras.models import Model\n",
        "from tensorflow.keras.metrics import Recall, Precision, F1Score\n",
        "from sklearn.preprocessing import OneHotEncoder\n",
        "from sklearn.model_selection import train_test_split, StratifiedKFold\n",
        "from sklearn.metrics import recall_score, precision_score, f1_score, confusion_matrix\n",
        "from gensim.models import Word2Vec, fasttext\n",
        "# from keras.initializers import Constant\n",
        "# from keras.regularizers import  c\n",
        "# from nltk.corpus import stopwords\n",
        "# from tqdm import tqdm\n",
        "from sklearn.model_selection import GridSearchCV\n",
        "from transformers import pipeline\n",
        "from tensorboard.plugins.hparams import api as hp\n",
        "import keras_tuner as kt\n",
        "\n",
        "# from Sastrawi.Stemmer.StemmerFactory import StemmerFactory\n",
        "import keras\n",
        "import pickle\n",
        "import os\n",
        "import json\n",
        "import tensorflow as tf\n",
        "import pandas as pd\n",
        "import numpy as np\n",
        "import matplotlib.pyplot as plt\n",
        "import re"
      ]
    },
    {
      "cell_type": "markdown",
      "metadata": {
        "id": "hZheii72JF8K"
      },
      "source": [
        "# Loading Data"
      ]
    },
    {
      "cell_type": "code",
      "execution_count": null,
      "metadata": {
        "id": "8MYDGAhI7RAD"
      },
      "outputs": [],
      "source": [
        "# npt_stop = pd.read_csv(\"/content/drive/MyDrive/Skripsi/emotion_detection_CNN-LSTM/Data/readyToTrain/no_postag_with_stopwords/no_postag_with_stopwords.csv\")\n",
        "# npt_nostop = pd.read_csv(\"/content/drive/MyDrive/Skripsi/emotion_detection_CNN-LSTM/Data/readyToTrain/no_postag_without_stopwords/no_postag_without_stopwords.csv\")\n",
        "# pt_stop = pd.read_csv(\"/content/drive/MyDrive/Skripsi/emotion_detection_CNN-LSTM/Data/readyToTrain/postag_with_stopwords/postag_with_stopwords.csv\")\n",
        "pt_nonstop = pd.read_csv(\"/content/drive/MyDrive/Skripsi/emotion_detection_CNN-LSTM/Data/readyToTrain/postag_without_stopwords/postag_without_stopwords.csv\")\n",
        "pt_nonstop[\"Tweet\"].fillna(\"\", inplace=True)\n",
        "clearDf = pt_nonstop.copy()\n",
        "max_token_sentence = max([len(text.split()) for text in clearDf[\"Tweet\"]])\n",
        "num_of_long_sentences = len([len(text.split()) for text in clearDf[\"Tweet\"] if len(text.split())>100])\n",
        "max_token_sentence\n",
        "index_long_sentence = [i for i, text in enumerate(clearDf[\"Tweet\"]) if len(text.split())>100]\n",
        "clearDf.drop(index_long_sentence, axis = 0, inplace = True)"
      ]
    },
    {
      "cell_type": "code",
      "execution_count": null,
      "metadata": {
        "id": "yaMoKgx1w9mr"
      },
      "outputs": [],
      "source": [
        "embedding_matrix = np.load(\"/content/drive/MyDrive/Skripsi/emotion_detection_CNN-LSTM/Data/readyToTrain/postag_without_stopwords/embedding_matrix.npy\")"
      ]
    },
    {
      "cell_type": "code",
      "execution_count": null,
      "metadata": {
        "id": "jMPrQIWTIY9y"
      },
      "outputs": [],
      "source": [
        "\n",
        "# saving\n",
        "# with open('ft_tokenizer.pickle', 'wb') as handle:\n",
        "#     pickle.dump(ft_tokenizer, handle, protocol=pickle.HIGHEST_PROTOCOL)\n",
        "\n",
        "# # loading\n",
        "with open('/content/drive/MyDrive/Skripsi/emotion_detection_CNN-LSTM/Data/readyToTrain/postag_without_stopwords/ft_tokenizer.pickle', 'rb') as handle:\n",
        "    ft_tokenizer = pickle.load(handle)"
      ]
    },
    {
      "cell_type": "code",
      "execution_count": null,
      "metadata": {
        "id": "9ya3MQUpvmo6"
      },
      "outputs": [],
      "source": [
        "# encode_text = w2v_tokenizer_fit_to_texts(formalDf[\"Tweet\"]) # Word2Vec Tokenizer\n",
        "# encode_text[0]\n",
        "# ft_tokenizer = Tokenizer()\n",
        "# ft_tokenizer.fit_on_texts(clearDf[\"Tweet\"])\n",
        "encode_text = ft_tokenizer.texts_to_sequences(clearDf[\"Tweet\"])\n",
        "\n"
      ]
    },
    {
      "cell_type": "code",
      "execution_count": null,
      "metadata": {
        "id": "1-ATdl2Jy9Ey"
      },
      "outputs": [],
      "source": [
        "# PARAM FOR EMBEDDING LAYER\n",
        "max_sen_len = 100  # max sentence of a review\n",
        "vocab_size = len(ft_tokenizer.index_word)+1  # total number of words\n",
        "embed_dim = 300\n",
        "input_dim = vocab_size\n",
        "output_dim = embed_dim"
      ]
    },
    {
      "cell_type": "code",
      "execution_count": null,
      "metadata": {
        "colab": {
          "base_uri": "https://localhost:8080/"
        },
        "id": "0ZMwaGFFp4pU",
        "outputId": "7134a74b-3282-42d5-ed6d-3a3b9231c081"
      },
      "outputs": [
        {
          "output_type": "execute_result",
          "data": {
            "text/plain": [
              "array([[0., 1., 0., 0., 0., 0.],\n",
              "       [0., 0., 0., 1., 0., 0.],\n",
              "       [1., 0., 0., 0., 0., 0.],\n",
              "       ...,\n",
              "       [1., 0., 0., 0., 0., 0.],\n",
              "       [0., 0., 1., 0., 0., 0.],\n",
              "       [0., 0., 0., 0., 0., 1.]])"
            ]
          },
          "metadata": {},
          "execution_count": 17
        }
      ],
      "source": [
        "# now padding to have a amximum length of 1565\n",
        "X = pad_sequences(encode_text, maxlen=max_sen_len, padding='pre', value = 0)\n",
        "\n",
        "# y = formalDf.apply(lambda row : emotions.index(row[\"Label\"]), axis = 1).values.astype(\"int32\") # Label Encoding\n",
        "encoder = OneHotEncoder(sparse_output = False) #Onehot encoding\n",
        "y = encoder.fit_transform(clearDf[[\"Label\"]])\n",
        "lossfun = CategoricalCrossentropy()\n",
        "# y = encoder.inverse_transform(y)\n",
        "y"
      ]
    },
    {
      "cell_type": "code",
      "execution_count": null,
      "metadata": {
        "id": "P0mB66lSRhBo"
      },
      "outputs": [],
      "source": [
        "from joblib import dump, load\n",
        "# dump(encoder, 'encoder.joblib') # save the model\n",
        "clf = load('/content/drive/MyDrive/Skripsi/emotion_detection_CNN-LSTM/Data/readyToTrain/postag_without_stopwords/encoder.joblib') # load and reuse the model"
      ]
    },
    {
      "cell_type": "markdown",
      "metadata": {
        "id": "nWGpWldDhaja"
      },
      "source": [
        "# Split Data"
      ]
    },
    {
      "cell_type": "markdown",
      "metadata": {
        "id": "SnanTqyYJNhU"
      },
      "source": [
        "## Split 80 train set, 10 val test, 10 test set"
      ]
    },
    {
      "cell_type": "code",
      "execution_count": null,
      "metadata": {
        "collapsed": true,
        "id": "lfmxhFTCjS5G"
      },
      "outputs": [],
      "source": [
        "X_train,X_test, y_train, y_test = train_test_split(\n",
        "    X, y, random_state = 42, test_size = 0.2, stratify = y\n",
        ")\n",
        "train_df = pd.concat([pd.DataFrame(X_train), pd.DataFrame(y_train)], axis=1)\n",
        "test_df = pd.concat([pd.DataFrame(X_test), pd.DataFrame(y_test)], axis=1)\n",
        "train_df.to_csv(\"/content/drive/MyDrive/Skripsi/emotion_detection_CNN-LSTM/Revisi/split80_20/train_eval.csv\", index = False)\n",
        "test_df.to_csv(\"/content/drive/MyDrive/Skripsi/emotion_detection_CNN-LSTM/Revisi/split80_20/test.csv\", index = False)\n",
        "pd.DataFrame(X_train).to_csv(\"/content/drive/MyDrive/Skripsi/emotion_detection_CNN-LSTM/Revisi/split80_20/X_train.csv\", index = False)\n",
        "pd.DataFrame(X_test).to_csv(\"/content/drive/MyDrive/Skripsi/emotion_detection_CNN-LSTM/Revisi/split80_20/X_test.csv\", index = False)\n",
        "pd.DataFrame(y_train).to_csv(\"/content/drive/MyDrive/Skripsi/emotion_detection_CNN-LSTM/Revisi/split80_20/y_train.csv\", index = False)\n",
        "pd.DataFrame(y_test).to_csv(\"/content/drive/MyDrive/Skripsi/emotion_detection_CNN-LSTM/Revisi/split80_20/y_test.csv\", index = False)"
      ]
    },
    {
      "cell_type": "markdown",
      "metadata": {
        "id": "Q7y2OkrUJVhR"
      },
      "source": [
        "## Split 50% Train val, 50% K-fold crossval"
      ]
    },
    {
      "cell_type": "code",
      "execution_count": null,
      "metadata": {
        "id": "KtaU7K61Es2C"
      },
      "outputs": [],
      "source": [
        "X_train,X_test, y_train, y_test = train_test_split(\n",
        "    X, y, random_state = 42, test_size = 0.5, stratify = y\n",
        ")\n",
        "train_df = pd.concat([pd.DataFrame(X_train), pd.DataFrame(y_train)], axis=1)\n",
        "test_df = pd.concat([pd.DataFrame(X_test), pd.DataFrame(y_test)], axis=1)\n",
        "\n",
        "train_df.to_csv(\"/content/drive/MyDrive/Skripsi/emotion_detection_CNN-LSTM/Revisi/dev50-kfold50/train.csv\", index = False)\n",
        "test_df.to_csv(\"/content/drive/MyDrive/Skripsi/emotion_detection_CNN-LSTM/Revisi/dev50-kfold50/test.csv\", index = False)\n",
        "\n"
      ]
    },
    {
      "cell_type": "markdown",
      "metadata": {
        "id": "Qb-mQFONFIB_"
      },
      "source": [
        "# Metaparams"
      ]
    },
    {
      "cell_type": "code",
      "execution_count": null,
      "metadata": {
        "id": "wDsmMVaWE4Bi"
      },
      "outputs": [],
      "source": [
        "\n",
        "metrics = [\n",
        "    'accuracy',\n",
        "]\n",
        "\n",
        "# metrics2 = [\n",
        "#     'accuracy',\n",
        "# ]\n",
        "optimizer = keras.optimizers.legacy.Adam(learning_rate = 0.0001)\n",
        "loss = CategoricalCrossentropy()\n"
      ]
    },
    {
      "cell_type": "markdown",
      "metadata": {
        "id": "M2dgh2LUmKKa"
      },
      "source": [
        "# Models Arch + Tuning setup"
      ]
    },
    {
      "cell_type": "code",
      "execution_count": null,
      "metadata": {
        "id": "tsRMa-_VpZ13"
      },
      "outputs": [],
      "source": [
        "class LSTMModel(kt.HyperModel):\n",
        "  def build(self, hp):\n",
        "      model = Sequential()\n",
        "      # model.add(Embedding(input_dim = input_dim, output_dim = output_dim, weights = [w2v_model.wv.vectors], input_length = max_rev_len, trainable = False, mask_zero = True, embeddings_regularizer=l2(.01)))\n",
        "      model.add(Embedding(input_dim = input_dim, output_dim = output_dim, weights = [embedding_matrix], input_length = max_sen_len, trainable = False))\n",
        "\n",
        "      hp_lstm_units = hp.Choice('lstm_unit', [32, 64, 128, 256])\n",
        "      hp_dropout_lstm = hp.Choice('dropout_rate', [.1,.2,.3,.4,.5])\n",
        "      hp_learning_rate = hp.Float(\"lr\", min_value=1e-4, max_value=1e-2, sampling=\"log\")\n",
        "\n",
        "      model.add(LSTM(hp_lstm_units, dropout=hp_dropout_lstm, return_sequences = False))\n",
        "      model.add(Dense(6, activation = \"softmax\"))\n",
        "      model.compile(\n",
        "          optimizer= keras.optimizers.legacy.Adam(learning_rate = hp_learning_rate),\n",
        "          loss = lossfun,\n",
        "          metrics=['accuracy'],\n",
        "      )\n",
        "\n",
        "      return model\n",
        "\n",
        "  def fit(self, hp, model, *args, **kwargs):\n",
        "      return model.fit(\n",
        "          *args,\n",
        "          batch_size=hp.Choice(\"batch_size\", [64, 128, 256]),\n",
        "          **kwargs,\n",
        "      )\n"
      ]
    },
    {
      "cell_type": "code",
      "execution_count": null,
      "metadata": {
        "id": "6w1TdNRcFSG-"
      },
      "outputs": [],
      "source": [
        "class CNNLSTMModel(kt.HyperModel):\n",
        "  def build(self, hp) :\n",
        "      hp_num_of_kernel = hp.Choice('num_of_kernel', [32,64,128,256])\n",
        "      hp_lstm_units = hp.Choice('lstm_unit', [32, 64, 128, 256])\n",
        "      hp_kernel_size = hp.Choice('kernel_size', [1,2])\n",
        "      hp_dropout_rate = hp.Choice('dropout_rate', [.1,.2,.3,.4,.5])\n",
        "      hp_learning_rate = hp.Float(\"lr\", min_value=1e-4, max_value=1e-2, sampling=\"log\")\n",
        "\n",
        "\n",
        "      input_layer = Input(shape = (max_sen_len,))\n",
        "      embedding_layer = Embedding(input_dim = input_dim, output_dim = output_dim, weights = [embedding_matrix], input_length = max_sen_len, trainable = False)(input_layer)\n",
        "      def add_conv_layer(filter_size):\n",
        "          return Conv1D(filters=hp_num_of_kernel, kernel_size=filter_size, activation='relu', padding='same')(embedding_layer)\n",
        "\n",
        "      list_conv_layer = []\n",
        "\n",
        "      with hp.conditional_scope(\"kernel_size\", 1):\n",
        "        if hp_kernel_size == 1:\n",
        "          for ks in [4,6,8] :\n",
        "            list_conv_layer.append(add_conv_layer(ks))\n",
        "      with hp.conditional_scope(\"kernel_size\", 2):\n",
        "        if hp_kernel_size == 2:\n",
        "          for ks in [6,8,10] :\n",
        "            list_conv_layer.append(add_conv_layer(ks))\n",
        "\n",
        "      # Concatenate the outputs of the three Conv1D layers\n",
        "      concatenate = Concatenate(axis=-1)(list_conv_layer)\n",
        "      dropout = Dropout(hp_dropout_rate)(concatenate)\n",
        "      pooling_layer = MaxPool1D()(dropout)\n",
        "      dropout = Dropout(hp_dropout_rate)(pooling_layer)\n",
        "      # model.add(BatchNormalization())\n",
        "      # model.add(Dropout(hp_dropout_rate))\n",
        "      lstm = LSTM(hp_lstm_units, dropout = hp_dropout_rate, return_sequences = False)(dropout)\n",
        "      # dropout = Dropout(hp_dropout_rate)(lstm)\n",
        "      # output_layer = Dense(6)(lstm)\n",
        "      output_layer = Dense(6, activation='softmax')(lstm)\n",
        "      model = Model(inputs = input_layer, outputs = output_layer)\n",
        "      model.compile(\n",
        "          optimizer= keras.optimizers.legacy.Adam(learning_rate = hp_learning_rate),\n",
        "          loss = lossfun,\n",
        "          metrics=['accuracy'],\n",
        "      )\n",
        "      return model\n",
        "  def fit(self, hp, model, *args, **kwargs):\n",
        "    return model.fit(\n",
        "        *args,\n",
        "          batch_size = hp.Choice(\"batch_size\", [32, 64, 128, 256]),\n",
        "        **kwargs,\n",
        "    )\n"
      ]
    },
    {
      "cell_type": "code",
      "source": [
        "def c1lstm_builder(hp):\n",
        "    model = Sequential()\n",
        "    # model.add(Embedding(input_dim = input_dim, output_dim = output_dim, weights = [w2v_model.wv.vectors], input_length = max_rev_len, trainable = False, mask_zero = True, embeddings_regularizer=l2(.01)))\n",
        "    model.add(Embedding(input_dim = input_dim, output_dim = output_dim, weights = [embedding_matrix], input_length = max_sen_len, trainable = False))\n",
        "\n",
        "    hp_lstm_units = hp.Choice('lstm_unit', [32, 64, 128, 256, 512])\n",
        "    hp_dropout_lstm = hp.Choice('dropout_rate', [.3,.4,.5])\n",
        "    hp_learning_rate = hp.Choice(\"lr\",[.001, .0001])\n",
        "    hp_num_of_kernel = hp.Choice('num_of_kernel', [32,64,128,256])\n",
        "    hp_kernel_size = hp.Choice('kernel_size', [4,6,8,10])\n",
        "    hp_pooling_layer = hp.Choice('pooling_layer', ['avg', \"max\"])\n",
        "\n",
        "\n",
        "    model.add(Conv1D(filters=hp_num_of_kernel, kernel_size=hp_kernel_size, activation='relu', padding='same'))\n",
        "    with hp.conditional_scope(\"pooling_layer\", 'avg'):\n",
        "      if hp_pooling_layer == 'avg':\n",
        "        model.add(AveragePooling1D())\n",
        "    with hp.conditional_scope(\"pooling_layer\", 'max'):\n",
        "      if hp_pooling_layer == 'mac':\n",
        "        model.add(MaxPool1D())\n",
        "    model.add(LSTM(hp_lstm_units, dropout=hp_dropout_lstm, return_sequences = False))\n",
        "    model.add(Dense(6, activation = \"softmax\"))\n",
        "    model.compile(\n",
        "        optimizer= keras.optimizers.legacy.Adam(learning_rate = hp_learning_rate),\n",
        "        loss = lossfun,\n",
        "        metrics=['accuracy'],\n",
        "    )\n",
        "\n",
        "    return model"
      ],
      "metadata": {
        "id": "wykhN2SqXFLU"
      },
      "execution_count": null,
      "outputs": []
    },
    {
      "cell_type": "markdown",
      "metadata": {
        "id": "0aRHWpxzFPtc"
      },
      "source": [
        "# 80 20 split"
      ]
    },
    {
      "cell_type": "markdown",
      "metadata": {
        "id": "q3kpHwB-L5rx"
      },
      "source": [
        "##Loading Data 80 20"
      ]
    },
    {
      "cell_type": "code",
      "execution_count": null,
      "metadata": {
        "id": "9eWSdIlXL83L"
      },
      "outputs": [],
      "source": [
        "X_test = pd.read_csv(\"/content/drive/MyDrive/Skripsi/emotion_detection_CNN-LSTM/Revisi/split80_20/X_test.csv\")\n",
        "X_train = pd.read_csv(\"/content/drive/MyDrive/Skripsi/emotion_detection_CNN-LSTM/Revisi/split80_20/X_train.csv\")\n",
        "y_test = pd.read_csv(\"/content/drive/MyDrive/Skripsi/emotion_detection_CNN-LSTM/Revisi/split80_20/y_test.csv\")\n",
        "y_train = pd.read_csv(\"/content/drive/MyDrive/Skripsi/emotion_detection_CNN-LSTM/Revisi/split80_20/y_train.csv\")"
      ]
    },
    {
      "cell_type": "markdown",
      "metadata": {
        "id": "YmoMVcS7KS_2"
      },
      "source": [
        "## LSTM"
      ]
    },
    {
      "cell_type": "markdown",
      "metadata": {
        "id": "x3wa2vkJKdxR"
      },
      "source": [
        "###Training + dev"
      ]
    },
    {
      "cell_type": "code",
      "execution_count": null,
      "metadata": {
        "colab": {
          "base_uri": "https://localhost:8080/"
        },
        "id": "iA10fFmoXbpM",
        "outputId": "91c195eb-5c34-46f2-b494-a22347080f9f"
      },
      "outputs": [
        {
          "name": "stdout",
          "output_type": "stream",
          "text": [
            "Reloading Tuner from /content/drive/MyDrive/Skripsi/emotion_detection_CNN-LSTM/Revisi/split80_20/tuning/lstm/tuner0.json\n"
          ]
        }
      ],
      "source": [
        "lstm_tuner = kt.Hyperband(lstm_builder,\n",
        "                     objective = 'val_loss',\n",
        "                     max_epochs = 30,\n",
        "                     factor = 3,\n",
        "                     directory = \"/content/drive/MyDrive/Skripsi/emotion_detection_CNN-LSTM/Revisi/split80_20/tuning\",\n",
        "                     project_name = \"lstm\")"
      ]
    },
    {
      "cell_type": "code",
      "execution_count": null,
      "metadata": {
        "id": "xFQzgEFLePLi"
      },
      "outputs": [],
      "source": [
        "stop_early = EarlyStopping(monitor='val_loss', patience = 5)\n"
      ]
    },
    {
      "cell_type": "code",
      "execution_count": null,
      "metadata": {
        "colab": {
          "base_uri": "https://localhost:8080/"
        },
        "id": "O4AYtKhzYePn",
        "outputId": "c648f89a-fb5a-45c8-9276-009cb4a8967d"
      },
      "outputs": [
        {
          "name": "stdout",
          "output_type": "stream",
          "text": [
            "Trial 90 Complete [00h 00m 35s]\n",
            "val_loss: 0.8664271831512451\n",
            "\n",
            "Best val_loss So Far: 0.8410476446151733\n",
            "Total elapsed time: 00h 22m 43s\n"
          ]
        }
      ],
      "source": [
        "lstm_tuner.search(X_train, y_train, validation_split = 0.2, callbacks = [stop_early])"
      ]
    },
    {
      "cell_type": "code",
      "execution_count": null,
      "metadata": {
        "id": "OIK0yVL7aYb9"
      },
      "outputs": [],
      "source": [
        "best_hps = lstm_tuner.get_best_hyperparameters(num_trials=1)[0]\n"
      ]
    },
    {
      "cell_type": "code",
      "execution_count": null,
      "metadata": {
        "id": "OVz00LwFO_hx"
      },
      "outputs": [],
      "source": [
        "checkpoint = keras.callbacks.ModelCheckpoint(\n",
        "    \"/content/drive/MyDrive/Skripsi/emotion_detection_CNN-LSTM/Revisi/split80_20/lstm/bestweights.h5\",\n",
        "    monitor=\"val_loss\",\n",
        "    save_best_only=True,\n",
        "    save_weights_only=True,\n",
        "    mode=\"auto\"\n",
        ")"
      ]
    },
    {
      "cell_type": "code",
      "execution_count": null,
      "metadata": {
        "colab": {
          "base_uri": "https://localhost:8080/"
        },
        "id": "ac8sIIqad0iT",
        "outputId": "f0b1a415-e1cd-4cdd-bc79-8421319630ac"
      },
      "outputs": [
        {
          "name": "stdout",
          "output_type": "stream",
          "text": [
            "Epoch 1/50\n",
            "142/142 [==============================] - 5s 21ms/step - loss: 1.4426 - accuracy: 0.4491 - val_loss: 1.1232 - val_accuracy: 0.6108\n",
            "Epoch 2/50\n",
            "142/142 [==============================] - 2s 12ms/step - loss: 1.0322 - accuracy: 0.6333 - val_loss: 0.9703 - val_accuracy: 0.6655\n",
            "Epoch 3/50\n",
            "142/142 [==============================] - 2s 13ms/step - loss: 0.9847 - accuracy: 0.6474 - val_loss: 0.9353 - val_accuracy: 0.6770\n",
            "Epoch 4/50\n",
            "142/142 [==============================] - 1s 9ms/step - loss: 0.8761 - accuracy: 0.6840 - val_loss: 0.8915 - val_accuracy: 0.6726\n",
            "Epoch 5/50\n",
            "142/142 [==============================] - 1s 8ms/step - loss: 0.8093 - accuracy: 0.6991 - val_loss: 0.8861 - val_accuracy: 0.6893\n",
            "Epoch 6/50\n",
            "142/142 [==============================] - 1s 8ms/step - loss: 0.7818 - accuracy: 0.7209 - val_loss: 0.8765 - val_accuracy: 0.6920\n",
            "Epoch 7/50\n",
            "142/142 [==============================] - 1s 8ms/step - loss: 0.7357 - accuracy: 0.7322 - val_loss: 0.8913 - val_accuracy: 0.6955\n",
            "Epoch 8/50\n",
            "142/142 [==============================] - 1s 8ms/step - loss: 0.6966 - accuracy: 0.7372 - val_loss: 0.9419 - val_accuracy: 0.6911\n",
            "Epoch 9/50\n",
            "142/142 [==============================] - 1s 8ms/step - loss: 0.6812 - accuracy: 0.7463 - val_loss: 0.8872 - val_accuracy: 0.7114\n",
            "Epoch 10/50\n",
            "142/142 [==============================] - 1s 7ms/step - loss: 0.6473 - accuracy: 0.7567 - val_loss: 0.9206 - val_accuracy: 0.6858\n",
            "Epoch 11/50\n",
            "142/142 [==============================] - 1s 8ms/step - loss: 0.6167 - accuracy: 0.7741 - val_loss: 0.9401 - val_accuracy: 0.6937\n"
          ]
        }
      ],
      "source": [
        "model = lstm_tuner.hypermodel.build(best_hps)\n",
        "history = model.fit(X_train,y_train, epochs = 50, callbacks = [stop_early, checkpoint], validation_split = .2)"
      ]
    },
    {
      "cell_type": "code",
      "execution_count": null,
      "metadata": {
        "colab": {
          "base_uri": "https://localhost:8080/",
          "height": 539
        },
        "id": "7eGnaZrnfeOT",
        "outputId": "51a61c3d-e469-4116-f3ec-5af397ce2090"
      },
      "outputs": [
        {
          "data": {
            "text/plain": [
              "[<matplotlib.lines.Line2D at 0x7e7ecbf0ab90>]"
            ]
          },
          "execution_count": 26,
          "metadata": {},
          "output_type": "execute_result"
        },
        {
          "data": {
            "image/png": "[encoded data removed]",
            "text/plain": [
              "<Figure size 1500x600 with 2 Axes>"
            ]
          },
          "metadata": {},
          "output_type": "display_data"
        }
      ],
      "source": [
        "fig, ax = plt.subplots(1,2, figsize = (15,6))\n",
        "ax[0].plot(history.history['accuracy'])\n",
        "ax[0].plot(history.history['val_accuracy'])\n",
        "ax[1].plot(history.history['loss'])\n",
        "ax[1].plot(history.history['val_loss'])"
      ]
    },
    {
      "cell_type": "markdown",
      "metadata": {
        "id": "8ILQ0devKbe3"
      },
      "source": [
        "###Evaluate"
      ]
    },
    {
      "cell_type": "code",
      "execution_count": null,
      "metadata": {
        "colab": {
          "background_save": true
        },
        "id": "yExYC_WBf7uR",
        "outputId": "4e0c1142-ce9e-4970-823f-72afd6d03d22"
      },
      "outputs": [
        {
          "name": "stdout",
          "output_type": "stream",
          "text": [
            "45/45 [==============================] - 2s 10ms/step - loss: 0.8728 - accuracy: 0.6836\n",
            "45/45 [==============================] - 1s 7ms/step\n"
          ]
        }
      ],
      "source": [
        "\n",
        "model = lstm_tuner.hypermodel.build(best_hps)\n",
        "model.load_weights(\"/content/drive/MyDrive/Skripsi/emotion_detection_CNN-LSTM/Revisi/split80_20/lstm/bestweights.h5\")\n",
        "eval_metric = model.evaluate(X_test,y_test.values)\n",
        "y_pred = model.predict(X_test)\n",
        "y_pred = [np.argmax(pred) for pred in y_pred]\n",
        "y_true = [np.argmax(true) for true in y_test.values]\n",
        "y_true\n",
        "metric = {}\n",
        "macro_precision = precision_score(y_true, y_pred, average='macro')\n",
        "part_precision = precision_score(y_true, y_pred, average = None)\n",
        "macro_recall = recall_score(y_true, y_pred, average = 'macro')\n",
        "part_recall = recall_score(y_true, y_pred, average = None)\n",
        "macro_f1 = f1_score(y_true, y_pred, average = 'macro')\n",
        "part_f1 = f1_score(y_true, y_pred, average = None)\n",
        "metrics[\"macro_precision\"] = macro_precision\n",
        "metrics[\"macro_recall\"] = macro_recall\n",
        "metrics[\"macro_f1\"] = macro_f1\n",
        "metrics[\"part_precision\"] = part_precision.tolist()\n",
        "metrics[\"part_recall\"] = part_recall.tolist()\n",
        "metrics[\"part_f1\"] = part_f1.tolist()\n",
        "metrics['loss'] = eval_metric[0]\n",
        "metrics['accuracy'] = eval_metric[1]"
      ]
    },
    {
      "cell_type": "code",
      "execution_count": null,
      "metadata": {
        "colab": {
          "base_uri": "https://localhost:8080/"
        },
        "id": "OU2sNPICgSXH",
        "outputId": "f4ed33ff-fe82-4811-f6d2-e6a100738a1f"
      },
      "outputs": [
        {
          "data": {
            "text/plain": [
              "{}"
            ]
          },
          "execution_count": 36,
          "metadata": {},
          "output_type": "execute_result"
        }
      ],
      "source": [
        "metrics"
      ]
    },
    {
      "cell_type": "markdown",
      "metadata": {
        "id": "jvIfCN7UKov4"
      },
      "source": [
        "## CNN-LSTM"
      ]
    },
    {
      "cell_type": "markdown",
      "metadata": {
        "id": "TGeM3INXKov5"
      },
      "source": [
        "###Training + dev"
      ]
    },
    {
      "cell_type": "code",
      "execution_count": null,
      "metadata": {
        "id": "vZaqt_uyKov5"
      },
      "outputs": [],
      "source": [
        "cnnlstm_tuner = kt.Hyperband(cnn_lstm_builder,\n",
        "                     objective = 'val_loss',\n",
        "                     max_epochs = 30,\n",
        "                     factor = 3,\n",
        "                     directory = \"/content/drive/MyDrive/Skripsi/emotion_detection_CNN-LSTM/Revisi/split80_20/tuning\",\n",
        "                     project_name = \"cnn_lstm\")"
      ]
    },
    {
      "cell_type": "code",
      "execution_count": null,
      "metadata": {
        "id": "_jGOHrxpKov6"
      },
      "outputs": [],
      "source": [
        "stop_early = EarlyStopping(monitor='val_loss', patience = 5)\n"
      ]
    },
    {
      "cell_type": "code",
      "execution_count": null,
      "metadata": {
        "collapsed": true,
        "id": "48f4QOOuKov6",
        "colab": {
          "base_uri": "https://localhost:8080/"
        },
        "outputId": "3a28858d-c489-421d-e2ee-8be084ab79f8"
      },
      "outputs": [
        {
          "output_type": "stream",
          "name": "stdout",
          "text": [
            "Trial 90 Complete [00h 01m 01s]\n",
            "val_loss: 0.9401220083236694\n",
            "\n",
            "Best val_loss So Far: 0.8523857593536377\n",
            "Total elapsed time: 00h 23m 34s\n"
          ]
        }
      ],
      "source": [
        "cnnlstm_tuner.search(X_train, y_train, epochs=30, validation_split = 0.2, callbacks = [stop_early])"
      ]
    },
    {
      "cell_type": "code",
      "execution_count": null,
      "metadata": {
        "id": "cVp1QD-pKov6"
      },
      "outputs": [],
      "source": [
        "best_hps = cnnlstm_tuner.get_best_hyperparameters(num_trials=1)[0]\n"
      ]
    },
    {
      "cell_type": "code",
      "source": [
        "checkpoint = keras.callbacks.ModelCheckpoint(\n",
        "    \"/content/drive/MyDrive/Skripsi/emotion_detection_CNN-LSTM/Revisi/split80_20/cnnlstm/bestweights.h5\",\n",
        "    monitor=\"val_loss\",\n",
        "    save_best_only=True,\n",
        "    save_weights_only=True,\n",
        "    mode=\"auto\"\n",
        ")"
      ],
      "metadata": {
        "id": "Bcva-RnmD2uO"
      },
      "execution_count": null,
      "outputs": []
    },
    {
      "cell_type": "code",
      "execution_count": null,
      "metadata": {
        "id": "jtzqTk3zKowK",
        "colab": {
          "base_uri": "https://localhost:8080/"
        },
        "outputId": "69a9e097-9ef5-4f0e-adf0-cfcfb84adbd7"
      },
      "outputs": [
        {
          "output_type": "stream",
          "name": "stdout",
          "text": [
            "Epoch 1/50\n",
            "142/142 [==============================] - 5s 16ms/step - loss: 1.4360 - accuracy: 0.4370 - val_loss: 1.0878 - val_accuracy: 0.5896\n",
            "Epoch 2/50\n",
            "142/142 [==============================] - 2s 13ms/step - loss: 1.0660 - accuracy: 0.6127 - val_loss: 0.9840 - val_accuracy: 0.6346\n",
            "Epoch 3/50\n",
            "142/142 [==============================] - 2s 12ms/step - loss: 0.9615 - accuracy: 0.6443 - val_loss: 0.9352 - val_accuracy: 0.6443\n",
            "Epoch 4/50\n",
            "142/142 [==============================] - 2s 11ms/step - loss: 0.9057 - accuracy: 0.6710 - val_loss: 0.9412 - val_accuracy: 0.6558\n",
            "Epoch 5/50\n",
            "142/142 [==============================] - 2s 12ms/step - loss: 0.8621 - accuracy: 0.6845 - val_loss: 0.8834 - val_accuracy: 0.6681\n",
            "Epoch 6/50\n",
            "142/142 [==============================] - 1s 10ms/step - loss: 0.8215 - accuracy: 0.6988 - val_loss: 0.8721 - val_accuracy: 0.6787\n",
            "Epoch 7/50\n",
            "142/142 [==============================] - 1s 10ms/step - loss: 0.7740 - accuracy: 0.7112 - val_loss: 0.8570 - val_accuracy: 0.6805\n",
            "Epoch 8/50\n",
            "142/142 [==============================] - 1s 8ms/step - loss: 0.7507 - accuracy: 0.7251 - val_loss: 0.8786 - val_accuracy: 0.6831\n",
            "Epoch 9/50\n",
            "142/142 [==============================] - 1s 8ms/step - loss: 0.7280 - accuracy: 0.7328 - val_loss: 0.8623 - val_accuracy: 0.6911\n",
            "Epoch 10/50\n",
            "142/142 [==============================] - 1s 8ms/step - loss: 0.6963 - accuracy: 0.7417 - val_loss: 0.9636 - val_accuracy: 0.6593\n",
            "Epoch 11/50\n",
            "142/142 [==============================] - 1s 10ms/step - loss: 0.6699 - accuracy: 0.7509 - val_loss: 0.9271 - val_accuracy: 0.6778\n",
            "Epoch 12/50\n",
            "142/142 [==============================] - 2s 12ms/step - loss: 0.6551 - accuracy: 0.7587 - val_loss: 0.8952 - val_accuracy: 0.6743\n"
          ]
        }
      ],
      "source": [
        "model = cnnlstm_tuner.hypermodel.build(best_hps)\n",
        "history = model.fit(X_train,y_train, epochs = 50, callbacks = [stop_early, checkpoint ], validation_split = .2)"
      ]
    },
    {
      "cell_type": "code",
      "execution_count": null,
      "metadata": {
        "colab": {
          "base_uri": "https://localhost:8080/",
          "height": 539
        },
        "id": "_no18xIdKowL",
        "outputId": "ae75c919-f149-43bd-fa40-8eda827dff89"
      },
      "outputs": [
        {
          "output_type": "execute_result",
          "data": {
            "text/plain": [
              "[<matplotlib.lines.Line2D at 0x7bbb65388820>]"
            ]
          },
          "metadata": {},
          "execution_count": 41
        },
        {
          "output_type": "display_data",
          "data": {
            "text/plain": [
              "<Figure size 1500x600 with 2 Axes>"
            ],
            "image/png": "[encoded data removed]"
          },
          "metadata": {}
        }
      ],
      "source": [
        "fig, ax = plt.subplots(1,2, figsize = (15,6))\n",
        "ax[0].plot(history.history['accuracy'])\n",
        "ax[0].plot(history.history['val_accuracy'])\n",
        "ax[1].plot(history.history['loss'])\n",
        "ax[1].plot(history.history['val_loss'])"
      ]
    },
    {
      "cell_type": "markdown",
      "metadata": {
        "id": "s6vZpmQWKowL"
      },
      "source": [
        "###Evaluate"
      ]
    },
    {
      "cell_type": "code",
      "execution_count": null,
      "metadata": {
        "colab": {
          "base_uri": "https://localhost:8080/"
        },
        "id": "Dlgn839aKowM",
        "outputId": "75fc434e-e3f8-4e09-a50b-f4107955c623"
      },
      "outputs": [
        {
          "output_type": "stream",
          "name": "stdout",
          "text": [
            "45/45 [==============================] - 4s 22ms/step - loss: 0.8714 - accuracy: 0.6914\n",
            "45/45 [==============================] - 2s 8ms/step\n"
          ]
        }
      ],
      "source": [
        "\n",
        "model = cnnlstm_tuner.hypermodel.build(best_hps)\n",
        "model.load_weights(\"/content/drive/MyDrive/Skripsi/emotion_detection_CNN-LSTM/Revisi/split80_20/cnnlstm/bestweights.h5\")\n",
        "eval_metric = model.evaluate(X_test,y_test.values)\n",
        "y_pred = model.predict(X_test)\n",
        "y_pred = [np.argmax(pred) for pred in y_pred]\n",
        "y_true = [np.argmax(true) for true in y_test.values]\n",
        "y_true\n",
        "metrics = {}\n",
        "macro_precision = precision_score(y_true, y_pred, average='macro')\n",
        "part_precision = precision_score(y_true, y_pred, average = None)\n",
        "macro_recall = recall_score(y_true, y_pred, average = 'macro')\n",
        "part_recall = recall_score(y_true, y_pred, average = None)\n",
        "macro_f1 = f1_score(y_true, y_pred, average = 'macro')\n",
        "part_f1 = f1_score(y_true, y_pred, average = None)\n",
        "metrics[\"macro_precision\"] = macro_precision\n",
        "metrics[\"macro_recall\"] = macro_recall\n",
        "metrics[\"macro_f1\"] = macro_f1\n",
        "metrics[\"part_precision\"] = part_precision.tolist()\n",
        "metrics[\"part_recall\"] = part_recall.tolist()\n",
        "metrics[\"part_f1\"] = part_f1.tolist()\n",
        "metrics['loss'] = eval_metric[0]\n",
        "metrics['accuracy'] = eval_metric[1]"
      ]
    },
    {
      "cell_type": "code",
      "execution_count": null,
      "metadata": {
        "colab": {
          "base_uri": "https://localhost:8080/"
        },
        "id": "fAm9hgpKKowM",
        "outputId": "2fa7d933-3d33-4b2c-a2e5-2e3c15e8dc26"
      },
      "outputs": [
        {
          "output_type": "execute_result",
          "data": {
            "text/plain": [
              "{'macro_precision': 0.6967381007602734,\n",
              " 'macro_recall': 0.7238528989336889,\n",
              " 'macro_f1': 0.7050101120240577,\n",
              " 'part_precision': [0.7304347826086957,\n",
              "  0.7487179487179487,\n",
              "  0.6610169491525424,\n",
              "  0.6323529411764706,\n",
              "  0.6634615384615384,\n",
              "  0.7444444444444445],\n",
              " 'part_recall': [0.7433628318584071,\n",
              "  0.8021978021978022,\n",
              "  0.7647058823529411,\n",
              "  0.8486842105263158,\n",
              "  0.5175,\n",
              "  0.6666666666666666],\n",
              " 'part_f1': [0.736842105263158,\n",
              "  0.7745358090185676,\n",
              "  0.7090909090909091,\n",
              "  0.7247191011235954,\n",
              "  0.5814606741573033,\n",
              "  0.7034120734908137],\n",
              " 'loss': 0.8713638186454773,\n",
              " 'accuracy': 0.6913841962814331}"
            ]
          },
          "metadata": {},
          "execution_count": 43
        }
      ],
      "source": [
        "metrics"
      ]
    },
    {
      "cell_type": "code",
      "source": [
        "with open('/content/drive/MyDrive/Skripsi/Revisi/split80_20/lstm/lstm_performance.json') as json_file:\n",
        "    data = json.load(json_file)\n",
        "\n",
        "data"
      ],
      "metadata": {
        "colab": {
          "base_uri": "https://localhost:8080/"
        },
        "id": "LpbYekPNEkZU",
        "outputId": "0070131a-331c-432c-c885-31a920668a2a"
      },
      "execution_count": null,
      "outputs": [
        {
          "output_type": "execute_result",
          "data": {
            "text/plain": [
              "{'macro_precision': 0.6986658181026297,\n",
              " 'macro_recall': 0.7132266894318757,\n",
              " 'macro_f1': 0.6950585461173321,\n",
              " 'part_precision': [0.7593582887700535,\n",
              "  0.6842105263157895,\n",
              "  0.7545454545454545,\n",
              "  0.5882352941176471,\n",
              "  0.6230366492146597,\n",
              "  0.782608695652174],\n",
              " 'part_recall': [0.6283185840707964,\n",
              "  0.8571428571428571,\n",
              "  0.6509803921568628,\n",
              "  0.9210526315789473,\n",
              "  0.595,\n",
              "  0.6268656716417911],\n",
              " 'part_f1': [0.6876513317191283,\n",
              "  0.7609756097560976,\n",
              "  0.6989473684210527,\n",
              "  0.717948717948718,\n",
              "  0.6086956521739131,\n",
              "  0.696132596685083],\n",
              " 'loss': 0.8728103041648865,\n",
              " 'accuracy': 0.6836158037185669}"
            ]
          },
          "metadata": {},
          "execution_count": 44
        }
      ]
    },
    {
      "cell_type": "markdown",
      "source": [
        "## CNN 1 layer + LSTM"
      ],
      "metadata": {
        "id": "CIeE71nnYmgq"
      }
    },
    {
      "cell_type": "code",
      "execution_count": null,
      "metadata": {
        "id": "SoWlKcxOYvAj"
      },
      "outputs": [],
      "source": [
        "c1lstm_tuner = kt.Hyperband(c1lstm_builder,\n",
        "                     objective = 'val_loss',\n",
        "                     max_epochs = 25,\n",
        "                     factor = 3,\n",
        "                     directory = \"/content/drive/MyDrive/Skripsi/emotion_detection_CNN-LSTM/Revisi/split80_20/tuning\",\n",
        "                     project_name = \"c1lstm\")"
      ]
    },
    {
      "cell_type": "code",
      "execution_count": null,
      "metadata": {
        "id": "jttR0AUhYvAk"
      },
      "outputs": [],
      "source": [
        "stop_early = EarlyStopping(monitor='val_loss', patience = 5)\n"
      ]
    },
    {
      "cell_type": "code",
      "execution_count": null,
      "metadata": {
        "colab": {
          "base_uri": "https://localhost:8080/"
        },
        "outputId": "5cb400f3-bebe-4e39-fd6e-5edec428c8d3",
        "id": "XYlmOlXDYvAk"
      },
      "outputs": [
        {
          "output_type": "stream",
          "name": "stdout",
          "text": [
            "Trial 30 Complete [00h 00m 31s]\n",
            "val_loss: 0.9663127064704895\n",
            "\n",
            "Best val_loss So Far: 0.8701437711715698\n",
            "Total elapsed time: 00h 07m 53s\n"
          ]
        }
      ],
      "source": [
        "c1lstm_tuner.search(X_train, y_train, validation_split = 0.2, callbacks = [stop_early])"
      ]
    },
    {
      "cell_type": "code",
      "execution_count": null,
      "metadata": {
        "id": "OSkLr8XuYvAk"
      },
      "outputs": [],
      "source": [
        "best_hps = c1lstm_tuner.get_best_hyperparameters(num_trials=1)[0]\n"
      ]
    },
    {
      "cell_type": "code",
      "execution_count": null,
      "metadata": {
        "id": "NKLV0DN2YvAl"
      },
      "outputs": [],
      "source": [
        "checkpoint = keras.callbacks.ModelCheckpoint(\n",
        "    \"/content/drive/MyDrive/Skripsi/emotion_detection_CNN-LSTM/Revisi/split80_20/c1lstm/bestweights.h5\",\n",
        "    monitor=\"val_loss\",\n",
        "    save_best_only=True,\n",
        "    save_weights_only=True,\n",
        "    mode=\"auto\"\n",
        ")"
      ]
    },
    {
      "cell_type": "code",
      "execution_count": null,
      "metadata": {
        "colab": {
          "base_uri": "https://localhost:8080/"
        },
        "outputId": "e6cf7e5f-4ee8-4459-88a6-33c67b65795f",
        "id": "hczAY6CGYvAl"
      },
      "outputs": [
        {
          "output_type": "stream",
          "name": "stdout",
          "text": [
            "Epoch 1/50\n",
            "142/142 [==============================] - 10s 37ms/step - loss: 1.8002 - accuracy: 0.2910 - val_loss: 1.7173 - val_accuracy: 0.2692\n",
            "Epoch 2/50\n",
            "142/142 [==============================] - 3s 20ms/step - loss: 1.5907 - accuracy: 0.3716 - val_loss: 1.5798 - val_accuracy: 0.4139\n",
            "Epoch 3/50\n",
            "142/142 [==============================] - 3s 18ms/step - loss: 1.2851 - accuracy: 0.5123 - val_loss: 1.1795 - val_accuracy: 0.5428\n",
            "Epoch 4/50\n",
            "142/142 [==============================] - 3s 18ms/step - loss: 1.4757 - accuracy: 0.4253 - val_loss: 1.3747 - val_accuracy: 0.4440\n",
            "Epoch 5/50\n",
            "142/142 [==============================] - 2s 16ms/step - loss: 1.3274 - accuracy: 0.4858 - val_loss: 1.3526 - val_accuracy: 0.4387\n",
            "Epoch 6/50\n",
            "142/142 [==============================] - 3s 21ms/step - loss: 1.1611 - accuracy: 0.5546 - val_loss: 1.0873 - val_accuracy: 0.6090\n",
            "Epoch 7/50\n",
            "142/142 [==============================] - 2s 16ms/step - loss: 1.0584 - accuracy: 0.6068 - val_loss: 1.1738 - val_accuracy: 0.5825\n",
            "Epoch 8/50\n",
            "142/142 [==============================] - 3s 18ms/step - loss: 1.0024 - accuracy: 0.6275 - val_loss: 1.0488 - val_accuracy: 0.6372\n",
            "Epoch 9/50\n",
            "142/142 [==============================] - 3s 18ms/step - loss: 0.9204 - accuracy: 0.6659 - val_loss: 1.0749 - val_accuracy: 0.6055\n",
            "Epoch 10/50\n",
            "142/142 [==============================] - 2s 16ms/step - loss: 0.8966 - accuracy: 0.6767 - val_loss: 1.0846 - val_accuracy: 0.6275\n",
            "Epoch 11/50\n",
            "142/142 [==============================] - 3s 22ms/step - loss: 0.8757 - accuracy: 0.6891 - val_loss: 1.0016 - val_accuracy: 0.6452\n",
            "Epoch 12/50\n",
            "142/142 [==============================] - 2s 17ms/step - loss: 0.8308 - accuracy: 0.7105 - val_loss: 1.0149 - val_accuracy: 0.6267\n",
            "Epoch 13/50\n",
            "142/142 [==============================] - 2s 17ms/step - loss: 0.8154 - accuracy: 0.7183 - val_loss: 0.9869 - val_accuracy: 0.6337\n",
            "Epoch 14/50\n",
            "142/142 [==============================] - 3s 18ms/step - loss: 0.7884 - accuracy: 0.7278 - val_loss: 0.9790 - val_accuracy: 0.6523\n",
            "Epoch 15/50\n",
            "142/142 [==============================] - 2s 17ms/step - loss: 0.7704 - accuracy: 0.7302 - val_loss: 0.9969 - val_accuracy: 0.6558\n",
            "Epoch 16/50\n",
            "142/142 [==============================] - 2s 17ms/step - loss: 0.7395 - accuracy: 0.7386 - val_loss: 0.9662 - val_accuracy: 0.6628\n",
            "Epoch 17/50\n",
            "142/142 [==============================] - 2s 16ms/step - loss: 0.7103 - accuracy: 0.7498 - val_loss: 0.9862 - val_accuracy: 0.6699\n",
            "Epoch 18/50\n",
            "142/142 [==============================] - 2s 16ms/step - loss: 0.6794 - accuracy: 0.7633 - val_loss: 1.0911 - val_accuracy: 0.6346\n",
            "Epoch 19/50\n",
            "142/142 [==============================] - 2s 17ms/step - loss: 0.6681 - accuracy: 0.7644 - val_loss: 1.0433 - val_accuracy: 0.6425\n",
            "Epoch 20/50\n",
            "142/142 [==============================] - 3s 18ms/step - loss: 0.6400 - accuracy: 0.7766 - val_loss: 0.9744 - val_accuracy: 0.6655\n",
            "Epoch 21/50\n",
            "142/142 [==============================] - 2s 16ms/step - loss: 0.6119 - accuracy: 0.7854 - val_loss: 1.0499 - val_accuracy: 0.6523\n"
          ]
        }
      ],
      "source": [
        "model = c1lstm_tuner.hypermodel.build(best_hps)\n",
        "history = model.fit(X_train,y_train, epochs = 50, callbacks = [stop_early, checkpoint], validation_split = .2)"
      ]
    },
    {
      "cell_type": "code",
      "execution_count": null,
      "metadata": {
        "colab": {
          "base_uri": "https://localhost:8080/",
          "height": 356
        },
        "outputId": "dd40f716-3a06-42fc-c108-c351d498cf0b",
        "id": "Ww_aDVTvYvAl"
      },
      "outputs": [
        {
          "output_type": "execute_result",
          "data": {
            "text/plain": [
              "[<matplotlib.lines.Line2D at 0x78821f653d60>]"
            ]
          },
          "metadata": {},
          "execution_count": 25
        },
        {
          "output_type": "display_data",
          "data": {
            "text/plain": [
              "<Figure size 1500x600 with 2 Axes>"
            ],
            "image/png": "[encoded data removed]"
          },
          "metadata": {}
        }
      ],
      "source": [
        "fig, ax = plt.subplots(1,2, figsize = (15,6))\n",
        "ax[0].plot(history.history['accuracy'])\n",
        "ax[0].plot(history.history['val_accuracy'])\n",
        "ax[1].plot(history.history['loss'])\n",
        "ax[1].plot(history.history['val_loss'])"
      ]
    },
    {
      "cell_type": "markdown",
      "metadata": {
        "id": "TMz4QaEMYvAl"
      },
      "source": [
        "###Evaluate"
      ]
    },
    {
      "cell_type": "code",
      "execution_count": null,
      "metadata": {
        "colab": {
          "base_uri": "https://localhost:8080/"
        },
        "outputId": "fa4677fe-d9a4-4672-f8d3-570ea50ae394",
        "id": "mds26P7wYvAl"
      },
      "outputs": [
        {
          "output_type": "stream",
          "name": "stdout",
          "text": [
            "45/45 [==============================] - 2s 11ms/step - loss: 0.9746 - accuracy: 0.6610\n",
            "45/45 [==============================] - 1s 7ms/step\n"
          ]
        }
      ],
      "source": [
        "\n",
        "model = c1lstm_tuner.hypermodel.build(best_hps)\n",
        "model.load_weights(\"/content/drive/MyDrive/Skripsi/emotion_detection_CNN-LSTM/Revisi/split80_20/c1lstm/bestweights.h5\")\n",
        "eval_metric = model.evaluate(X_test,y_test.values)\n",
        "y_pred = model.predict(X_test)\n",
        "y_pred = [np.argmax(pred) for pred in y_pred]\n",
        "y_true = [np.argmax(true) for true in y_test.values]\n",
        "y_true\n",
        "metrics = {}\n",
        "macro_precision = precision_score(y_true, y_pred, average='macro')\n",
        "part_precision = precision_score(y_true, y_pred, average = None)\n",
        "macro_recall = recall_score(y_true, y_pred, average = 'macro')\n",
        "part_recall = recall_score(y_true, y_pred, average = None)\n",
        "macro_f1 = f1_score(y_true, y_pred, average = 'macro')\n",
        "part_f1 = f1_score(y_true, y_pred, average = None)\n",
        "metrics[\"macro_precision\"] = macro_precision\n",
        "metrics[\"macro_recall\"] = macro_recall\n",
        "metrics[\"macro_f1\"] = macro_f1\n",
        "metrics[\"part_precision\"] = part_precision.tolist()\n",
        "metrics[\"part_recall\"] = part_recall.tolist()\n",
        "metrics[\"part_f1\"] = part_f1.tolist()\n",
        "metrics['loss'] = eval_metric[0]\n",
        "metrics['accuracy'] = eval_metric[1]"
      ]
    },
    {
      "cell_type": "code",
      "source": [
        "metrics"
      ],
      "metadata": {
        "colab": {
          "base_uri": "https://localhost:8080/"
        },
        "id": "fWDMpMRQcAlJ",
        "outputId": "a58828e7-7565-4c05-b4db-c768852c4c8a"
      },
      "execution_count": null,
      "outputs": [
        {
          "output_type": "execute_result",
          "data": {
            "text/plain": [
              "{'macro_precision': 0.6605090550364907,\n",
              " 'macro_recall': 0.6965589370036267,\n",
              " 'macro_f1': 0.6720337924785045,\n",
              " 'part_precision': [0.7272727272727273,\n",
              "  0.6609442060085837,\n",
              "  0.6705882352941176,\n",
              "  0.6080402010050251,\n",
              "  0.6610738255033557,\n",
              "  0.6351351351351351],\n",
              " 'part_recall': [0.672566371681416,\n",
              "  0.8461538461538461,\n",
              "  0.6705882352941176,\n",
              "  0.7960526315789473,\n",
              "  0.4925,\n",
              "  0.7014925373134329],\n",
              " 'part_f1': [0.6988505747126438,\n",
              "  0.7421686746987952,\n",
              "  0.6705882352941176,\n",
              "  0.6894586894586895,\n",
              "  0.5644699140401146,\n",
              "  0.6666666666666666],\n",
              " 'loss': 0.9745581746101379,\n",
              " 'accuracy': 0.6610169410705566}"
            ]
          },
          "metadata": {},
          "execution_count": 29
        }
      ]
    },
    {
      "cell_type": "code",
      "execution_count": null,
      "metadata": {
        "id": "aHTpoNMHYvAl"
      },
      "outputs": [],
      "source": [
        "with open(\"/content/drive/MyDrive/Skripsi/Revisi/split80_20/c1lstm/performance.json\", 'w') as js :\n",
        "  json.dump(metrics, js)"
      ]
    },
    {
      "cell_type": "markdown",
      "source": [
        "# 50 50 Cross Validation"
      ],
      "metadata": {
        "id": "8PT94H1nvsm4"
      }
    },
    {
      "cell_type": "code",
      "source": [
        "train_df = pd.read_csv(\"/content/drive/MyDrive/Skripsi/emotion_detection_CNN-LSTM/Revisi/dev50-kfold50/train.csv\")\n",
        "test_df = pd.read_csv(\"/content/drive/MyDrive/Skripsi/emotion_detection_CNN-LSTM/Revisi/dev50-kfold50/test.csv\")\n",
        "X_train = train_df.iloc[:, :-6].values\n",
        "y_train = train_df.iloc[:, -6:].values\n",
        "X_test = test_df.iloc[:, :-6].values\n",
        "y_test = test_df.iloc[:, -6:].values"
      ],
      "metadata": {
        "id": "vgI4_yCgwFAv"
      },
      "execution_count": null,
      "outputs": []
    },
    {
      "cell_type": "markdown",
      "source": [
        "## Creating Kfold 30 10"
      ],
      "metadata": {
        "id": "AvDlqsSA1EAr"
      }
    },
    {
      "cell_type": "code",
      "execution_count": null,
      "metadata": {
        "colab": {
          "base_uri": "https://localhost:8080/"
        },
        "id": "GfuqMohko20M",
        "outputId": "1f9c2009-2b37-42d3-f857-3ddff2081c80"
      },
      "outputs": [
        {
          "output_type": "stream",
          "name": "stdout",
          "text": [
            "0 - train 3421 row - test 118 row\n",
            "1 - train 3421 row - test 118 row\n",
            "2 - train 3421 row - test 118 row\n",
            "3 - train 3421 row - test 118 row\n",
            "4 - train 3421 row - test 118 row\n",
            "5 - train 3421 row - test 118 row\n",
            "6 - train 3421 row - test 118 row\n",
            "7 - train 3421 row - test 118 row\n",
            "8 - train 3421 row - test 118 row\n",
            "9 - train 3421 row - test 118 row\n",
            "10 - train 3421 row - test 118 row\n",
            "11 - train 3421 row - test 118 row\n",
            "12 - train 3421 row - test 118 row\n",
            "13 - train 3421 row - test 118 row\n",
            "14 - train 3421 row - test 118 row\n",
            "15 - train 3421 row - test 118 row\n",
            "16 - train 3421 row - test 118 row\n",
            "17 - train 3421 row - test 118 row\n",
            "18 - train 3421 row - test 118 row\n",
            "19 - train 3421 row - test 118 row\n",
            "20 - train 3421 row - test 118 row\n",
            "21 - train 3421 row - test 118 row\n",
            "22 - train 3421 row - test 118 row\n",
            "23 - train 3421 row - test 118 row\n",
            "24 - train 3421 row - test 118 row\n",
            "25 - train 3421 row - test 118 row\n",
            "26 - train 3421 row - test 118 row\n",
            "27 - train 3421 row - test 118 row\n",
            "28 - train 3421 row - test 118 row\n",
            "29 - train 3422 row - test 117 row\n"
          ]
        }
      ],
      "source": [
        "fold30_index = []\n",
        "stratifiedKFold = StratifiedKFold(n_splits = 30, random_state = 42, shuffle = True)\n",
        "for i, (train_index, test_index) in enumerate(stratifiedKFold.split(X_test, y_test.argmax(1))) :\n",
        "    print(f\"{i} - train {len(train_index)} row - test {len(test_index)} row\")\n",
        "    fold30_index.append((train_index, test_index))"
      ]
    },
    {
      "cell_type": "code",
      "source": [
        "fold10_index = []\n",
        "stratifiedKFold = StratifiedKFold(n_splits = 10, random_state = 42, shuffle = True)\n",
        "for i, (train_index, test_index) in enumerate(stratifiedKFold.split(X_test, y_test.argmax(1))) :\n",
        "    print(f\"{i} - train {len(train_index)} row - test {len(test_index)} row\")\n",
        "    fold10_index.append((train_index, test_index))"
      ],
      "metadata": {
        "colab": {
          "base_uri": "https://localhost:8080/"
        },
        "id": "FJ7f8B2T0sEQ",
        "outputId": "ff349808-7be1-4e25-a968-1144fe83651f"
      },
      "execution_count": null,
      "outputs": [
        {
          "output_type": "stream",
          "name": "stdout",
          "text": [
            "0 - train 3185 row - test 354 row\n",
            "1 - train 3185 row - test 354 row\n",
            "2 - train 3185 row - test 354 row\n",
            "3 - train 3185 row - test 354 row\n",
            "4 - train 3185 row - test 354 row\n",
            "5 - train 3185 row - test 354 row\n",
            "6 - train 3185 row - test 354 row\n",
            "7 - train 3185 row - test 354 row\n",
            "8 - train 3185 row - test 354 row\n",
            "9 - train 3186 row - test 353 row\n"
          ]
        }
      ]
    },
    {
      "cell_type": "code",
      "execution_count": null,
      "metadata": {
        "id": "acukDW-Kycxt"
      },
      "outputs": [],
      "source": [
        "folds30_index = np.array(fold30_index, dtype = object)\n",
        "np.save(\"/content/drive/MyDrive/Skripsi/Revisi/split50_50/folds30_index.npy\", folds30_index, allow_pickle = True)\n",
        "\n",
        "folds10_index = np.array(fold10_index, dtype = object)\n",
        "np.save(\"/content/drive/MyDrive/Skripsi/Revisi/split50_50/folds10_index.npy\", folds10_index, allow_pickle = True)"
      ]
    },
    {
      "cell_type": "markdown",
      "source": [
        "## Loading  Kfold 30 10"
      ],
      "metadata": {
        "id": "iVOu1lSS1Ivh"
      }
    },
    {
      "cell_type": "code",
      "source": [
        "fold30_index = np.load(\"/content/drive/MyDrive/Skripsi/emotion_detection_CNN-LSTM/Revisi/split50_50/folds30_index.npy\", allow_pickle = True)\n",
        "fold10_index = np.load(\"/content/drive/MyDrive/Skripsi/emotion_detection_CNN-LSTM/Revisi/split50_50/folds10_index.npy\", allow_pickle = True)"
      ],
      "metadata": {
        "id": "uShLy1l_0kEg"
      },
      "execution_count": null,
      "outputs": []
    },
    {
      "cell_type": "markdown",
      "source": [
        "## LSTM"
      ],
      "metadata": {
        "id": "sZNWk0pyv15g"
      }
    },
    {
      "cell_type": "markdown",
      "source": [
        "### Training Tuning"
      ],
      "metadata": {
        "id": "p-vu1iNCv4lA"
      }
    },
    {
      "cell_type": "code",
      "execution_count": null,
      "metadata": {
        "id": "PVeWpV-lxoC5"
      },
      "outputs": [],
      "source": [
        "lstm_tuner = kt.Hyperband(LSTMModel(),\n",
        "                     objective = 'val_loss',\n",
        "                     max_epochs = 45,\n",
        "                     factor = 3,\n",
        "                     overwrite = True,\n",
        "                     directory = \"/content/drive/MyDrive/Skripsi/emotion_detection_CNN-LSTM/Revisi/split50_50/tuning\",\n",
        "                     project_name = \"lstm\")"
      ]
    },
    {
      "cell_type": "code",
      "execution_count": null,
      "metadata": {
        "id": "7iBTToGixoDA"
      },
      "outputs": [],
      "source": [
        "stop_early = EarlyStopping(monitor='val_loss', patience = 5)\n"
      ]
    },
    {
      "cell_type": "code",
      "execution_count": null,
      "metadata": {
        "colab": {
          "base_uri": "https://localhost:8080/"
        },
        "outputId": "4fa6e291-4a8e-4c4c-a394-5531900a7284",
        "id": "CRnWUcm8xoDB"
      },
      "outputs": [
        {
          "output_type": "stream",
          "name": "stdout",
          "text": [
            "Trial 90 Complete [00h 00m 15s]\n",
            "val_loss: 0.9909387826919556\n",
            "\n",
            "Best val_loss So Far: 0.8705189228057861\n",
            "Total elapsed time: 00h 11m 47s\n"
          ]
        }
      ],
      "source": [
        "lstm_tuner.search(X_train, y_train, validation_split = 0.2, callbacks = [stop_early])"
      ]
    },
    {
      "cell_type": "code",
      "execution_count": null,
      "metadata": {
        "id": "dwXp3TImxoDB"
      },
      "outputs": [],
      "source": [
        "best_hps = lstm_tuner.get_best_hyperparameters(num_trials=1)[0]\n"
      ]
    },
    {
      "cell_type": "code",
      "execution_count": null,
      "metadata": {
        "id": "kYvEhp_HxoDB"
      },
      "outputs": [],
      "source": [
        "checkpoint = keras.callbacks.ModelCheckpoint(\n",
        "    \"/content/drive/MyDrive/Skripsi/emotion_detection_CNN-LSTM/Revisi/split50_50/lstm/bestweights.h5\",\n",
        "    monitor=\"val_loss\",\n",
        "    save_best_only=True,\n",
        "    save_weights_only=True,\n",
        "    mode=\"auto\"\n",
        ")"
      ]
    },
    {
      "cell_type": "code",
      "execution_count": null,
      "metadata": {
        "colab": {
          "base_uri": "https://localhost:8080/"
        },
        "outputId": "3a0bfb94-ddb9-4edd-efb3-2193b8528af9",
        "id": "7kEjkaW5xoDB"
      },
      "outputs": [
        {
          "output_type": "stream",
          "name": "stdout",
          "text": [
            "Epoch 1/50\n",
            "89/89 [==============================] - 7s 66ms/step - loss: 1.5159 - accuracy: 0.4108 - val_loss: 1.2123 - val_accuracy: 0.5678\n",
            "Epoch 2/50\n",
            "89/89 [==============================] - 1s 9ms/step - loss: 1.1032 - accuracy: 0.5938 - val_loss: 1.0470 - val_accuracy: 0.6299\n",
            "Epoch 3/50\n",
            "89/89 [==============================] - 1s 9ms/step - loss: 0.9771 - accuracy: 0.6471 - val_loss: 0.9912 - val_accuracy: 0.6412\n",
            "Epoch 4/50\n",
            "89/89 [==============================] - 1s 8ms/step - loss: 0.8901 - accuracy: 0.6733 - val_loss: 0.9404 - val_accuracy: 0.6483\n",
            "Epoch 5/50\n",
            "89/89 [==============================] - 1s 11ms/step - loss: 0.8328 - accuracy: 0.7082 - val_loss: 0.9342 - val_accuracy: 0.6681\n",
            "Epoch 6/50\n",
            "89/89 [==============================] - 1s 12ms/step - loss: 0.7630 - accuracy: 0.7202 - val_loss: 0.8810 - val_accuracy: 0.6766\n",
            "Epoch 7/50\n",
            "89/89 [==============================] - 1s 10ms/step - loss: 0.7164 - accuracy: 0.7361 - val_loss: 0.8889 - val_accuracy: 0.6864\n",
            "Epoch 8/50\n",
            "89/89 [==============================] - 1s 11ms/step - loss: 0.6591 - accuracy: 0.7524 - val_loss: 0.9024 - val_accuracy: 0.6780\n",
            "Epoch 9/50\n",
            "89/89 [==============================] - 1s 9ms/step - loss: 0.6052 - accuracy: 0.7750 - val_loss: 0.8964 - val_accuracy: 0.6864\n",
            "Epoch 10/50\n",
            "89/89 [==============================] - 1s 8ms/step - loss: 0.5765 - accuracy: 0.7831 - val_loss: 0.9444 - val_accuracy: 0.6751\n",
            "Epoch 11/50\n",
            "89/89 [==============================] - 1s 8ms/step - loss: 0.5314 - accuracy: 0.8100 - val_loss: 0.9590 - val_accuracy: 0.6907\n"
          ]
        }
      ],
      "source": [
        "model = lstm_tuner.hypermodel.build(best_hps)\n",
        "history = model.fit(X_train,y_train, epochs = 50, callbacks = [stop_early, checkpoint], validation_split = .2)"
      ]
    },
    {
      "cell_type": "code",
      "execution_count": null,
      "metadata": {
        "colab": {
          "base_uri": "https://localhost:8080/",
          "height": 539
        },
        "outputId": "ab52d62f-8e4e-4d63-a481-d4e0e5a1f1a2",
        "id": "cA0mSuqgxoDB"
      },
      "outputs": [
        {
          "output_type": "execute_result",
          "data": {
            "text/plain": [
              "[<matplotlib.lines.Line2D at 0x7c3762c467d0>]"
            ]
          },
          "metadata": {},
          "execution_count": 26
        },
        {
          "output_type": "display_data",
          "data": {
            "text/plain": [
              "<Figure size 1500x600 with 2 Axes>"
            ],
            "image/png": "[encoded data removed]"
          },
          "metadata": {}
        }
      ],
      "source": [
        "fig, ax = plt.subplots(1,2, figsize = (15,6))\n",
        "ax[0].plot(history.history['accuracy'])\n",
        "ax[0].plot(history.history['val_accuracy'])\n",
        "ax[1].plot(history.history['loss'])\n",
        "ax[1].plot(history.history['val_loss'])"
      ]
    },
    {
      "cell_type": "markdown",
      "source": [
        "### K-Fold test"
      ],
      "metadata": {
        "id": "v01qd8Vkv7f0"
      }
    },
    {
      "cell_type": "markdown",
      "source": [
        "### 10-Fold"
      ],
      "metadata": {
        "id": "sljfn21-68lG"
      }
    },
    {
      "cell_type": "code",
      "source": [
        "for i,(train_index, test_index) in enumerate(fold10_index) :\n",
        "    model = lstm_tuner.hypermodel.build(best_hps)\n",
        "    model.load_weights(\"/content/drive/MyDrive/Skripsi/emotion_detection_CNN-LSTM/Revisi/split50_50/lstm/bestweights.h5\")\n",
        "    checkpoint = ModelCheckpoint(f\"/content/drive/MyDrive/Skripsi/Revisi/split50_50/lstm/10-fold/bestweights{i}.h5\",monitor='val_loss', verbose=0, restore_best_weights=True, mode='min', save_weights_only = True)\n",
        "    model.fit(x=X_test[train_index], y = y_test[train_index], epochs = 50, validation_data = (X_test[test_index], y_test[test_index]), callbacks = [stop_early, checkpoint], verbose = False)"
      ],
      "metadata": {
        "id": "Y_hRQWym0i3A"
      },
      "execution_count": null,
      "outputs": []
    },
    {
      "cell_type": "code",
      "source": [
        "lstm10_fold_performance = []\n",
        "\n",
        "for i in range(10):\n",
        "    model = lstm_tuner.hypermodel.build(best_hps)\n",
        "    model.load_weights(f\"/content/drive/MyDrive/Skripsi/Revisi/split50_50/lstm/10-fold/bestweights{i}.h5\")\n",
        "    model.compile(loss=lossfun, optimizer=optimizer, metrics = metrics)\n",
        "    eval_metric = model.evaluate(X_test[fold10_index[i][1]],y_test[fold10_index[i][1]])\n",
        "    y_pred = model.predict(X_test[fold10_index[i][1]])\n",
        "    y_pred = [np.argmax(pred) for pred in y_pred]\n",
        "    y_true = [np.argmax(true) for true in y_test[fold10_index[i][1]]]\n",
        "    fold_metrics = {}\n",
        "    fold_metrics[\"num_fold\"] = i\n",
        "    for j, metric_name in enumerate(model.metrics_names) :\n",
        "        fold_metrics[metric_name] = eval_metric[j]\n",
        "    macro_precision = precision_score(y_true, y_pred, average='macro')\n",
        "    part_precision = precision_score(y_true, y_pred, average = None)\n",
        "    macro_recall = recall_score(y_true, y_pred, average = 'macro')\n",
        "    part_recall = recall_score(y_true, y_pred, average = None)\n",
        "    macro_f1 = f1_score(y_true, y_pred, average = 'macro')\n",
        "    part_f1 = f1_score(y_true, y_pred, average = None)\n",
        "    fold_metrics[\"macro_precision\"] = macro_precision\n",
        "    fold_metrics[\"macro_recall\"] = macro_recall\n",
        "    fold_metrics[\"macro_f1\"] = macro_f1\n",
        "    fold_metrics[\"part_precision\"] = part_precision.tolist()\n",
        "    fold_metrics[\"part_recall\"] = part_recall.tolist()\n",
        "    fold_metrics[\"part_f1\"] = part_f1.tolist()\n",
        "\n",
        "\n",
        "\n",
        "    lstm10_fold_performance.append(fold_metrics)"
      ],
      "metadata": {
        "colab": {
          "base_uri": "https://localhost:8080/"
        },
        "id": "BTg18lH5it8q",
        "outputId": "5c7cdb32-b46c-4132-a323-53301731d01c"
      },
      "execution_count": null,
      "outputs": [
        {
          "output_type": "stream",
          "name": "stdout",
          "text": [
            "12/12 [==============================] - 1s 6ms/step - loss: 0.9845 - accuracy: 0.6780\n",
            "12/12 [==============================] - 0s 4ms/step\n",
            "12/12 [==============================] - 1s 7ms/step - loss: 0.8745 - accuracy: 0.7288\n",
            "12/12 [==============================] - 1s 6ms/step\n",
            "12/12 [==============================] - 1s 7ms/step - loss: 0.8935 - accuracy: 0.6695\n",
            "12/12 [==============================] - 1s 5ms/step\n",
            "12/12 [==============================] - 1s 5ms/step - loss: 0.8338 - accuracy: 0.7034\n",
            "12/12 [==============================] - 0s 3ms/step\n",
            "12/12 [==============================] - 1s 5ms/step - loss: 0.9400 - accuracy: 0.6610\n",
            "12/12 [==============================] - 0s 4ms/step\n",
            "12/12 [==============================] - 1s 5ms/step - loss: 0.8857 - accuracy: 0.6949\n",
            "12/12 [==============================] - 0s 4ms/step\n",
            "12/12 [==============================] - 1s 5ms/step - loss: 0.8527 - accuracy: 0.6977\n",
            "12/12 [==============================] - 0s 4ms/step\n",
            "12/12 [==============================] - 1s 5ms/step - loss: 0.7909 - accuracy: 0.7203\n",
            "12/12 [==============================] - 0s 4ms/step\n",
            "12/12 [==============================] - 4s 7ms/step - loss: 0.8125 - accuracy: 0.6921\n",
            "12/12 [==============================] - 1s 5ms/step\n",
            "12/12 [==============================] - 1s 5ms/step - loss: 0.8902 - accuracy: 0.6997\n",
            "12/12 [==============================] - 0s 4ms/step\n"
          ]
        }
      ]
    },
    {
      "cell_type": "code",
      "source": [
        "with open(\"/content/drive/MyDrive/Skripsi/emotion_detection_CNN-LSTM/Revisi/split50_50/lstm/lstm10_performance.json\", \"w\") as js :\n",
        "    json.dump(lstm10_fold_performance, js)"
      ],
      "metadata": {
        "id": "1YRoFpVImAfC"
      },
      "execution_count": null,
      "outputs": []
    },
    {
      "cell_type": "markdown",
      "source": [
        "### 30 Fold"
      ],
      "metadata": {
        "id": "uTbqsl6JiPgr"
      }
    },
    {
      "cell_type": "code",
      "source": [
        "for i,(train_index, test_index) in enumerate(fold30_index) :\n",
        "    model = lstm_tuner.hypermodel.build(best_hps)\n",
        "    model.load_weights(\"/content/drive/MyDrive/Skripsi/emotion_detection_CNN-LSTM/Revisi/split50_50/lstm/bestweights.h5\")\n",
        "    checkpoint = ModelCheckpoint(f\"/content/drive/MyDrive/Skripsi/Revisi/split50_50/lstm/30-fold/bestweights{i}.h5\",monitor='val_loss', verbose=0, restore_best_weights=True, mode='min', save_weights_only = True)\n",
        "    model.fit(x=X_test[train_index], y = y_test[train_index], epochs = 50, validation_data = (X_test[test_index], y_test[test_index]), callbacks = [stop_early, checkpoint], verbose = False)"
      ],
      "metadata": {
        "id": "WHeqBEjSk5QO"
      },
      "execution_count": null,
      "outputs": []
    },
    {
      "cell_type": "code",
      "source": [
        "lstm30_fold_performance = []\n",
        "\n",
        "for i in range(30):\n",
        "    model = lstm_tuner.hypermodel.build(best_hps)\n",
        "    model.load_weights(f\"/content/drive/MyDrive/Skripsi/Revisi/split50_50/lstm/30-fold/bestweights{i}.h5\")\n",
        "    model.compile(loss=lossfun, optimizer=optimizer, metrics = metrics)\n",
        "    eval_metric = model.evaluate(X_test[fold30_index[i][1]],y_test[fold30_index[i][1]])\n",
        "    y_pred = model.predict(X_test[fold30_index[i][1]])\n",
        "    y_pred = [np.argmax(pred) for pred in y_pred]\n",
        "    y_true = [np.argmax(true) for true in y_test[fold30_index[i][1]]]\n",
        "    fold_metrics = {}\n",
        "    fold_metrics[\"num_fold\"] = i\n",
        "    for j, metric_name in enumerate(model.metrics_names) :\n",
        "        fold_metrics[metric_name] = eval_metric[j]\n",
        "    macro_precision = precision_score(y_true, y_pred, average='macro')\n",
        "    part_precision = precision_score(y_true, y_pred, average = None)\n",
        "    macro_recall = recall_score(y_true, y_pred, average = 'macro')\n",
        "    part_recall = recall_score(y_true, y_pred, average = None)\n",
        "    macro_f1 = f1_score(y_true, y_pred, average = 'macro')\n",
        "    part_f1 = f1_score(y_true, y_pred, average = None)\n",
        "    fold_metrics[\"macro_precision\"] = macro_precision\n",
        "    fold_metrics[\"macro_recall\"] = macro_recall\n",
        "    fold_metrics[\"macro_f1\"] = macro_f1\n",
        "    fold_metrics[\"part_precision\"] = part_precision.tolist()\n",
        "    fold_metrics[\"part_recall\"] = part_recall.tolist()\n",
        "    fold_metrics[\"part_f1\"] = part_f1.tolist()\n",
        "\n",
        "\n",
        "\n",
        "    lstm30_fold_performance.append(fold_metrics)"
      ],
      "metadata": {
        "colab": {
          "base_uri": "https://localhost:8080/",
          "height": 211
        },
        "outputId": "d819280d-47d7-4375-d865-b4a771005488",
        "id": "GvM8YWNYk5QP"
      },
      "execution_count": null,
      "outputs": [
        {
          "output_type": "error",
          "ename": "NameError",
          "evalue": "name 'lstm_tuner' is not defined",
          "traceback": [
            "\u001b[0;31m---------------------------------------------------------------------------\u001b[0m",
            "\u001b[0;31mNameError\u001b[0m                                 Traceback (most recent call last)",
            "\u001b[0;32m<ipython-input-1-39d27f66d0ec>\u001b[0m in \u001b[0;36m<cell line: 3>\u001b[0;34m()\u001b[0m\n\u001b[1;32m      2\u001b[0m \u001b[0;34m\u001b[0m\u001b[0m\n\u001b[1;32m      3\u001b[0m \u001b[0;32mfor\u001b[0m \u001b[0mi\u001b[0m \u001b[0;32min\u001b[0m \u001b[0mrange\u001b[0m\u001b[0;34m(\u001b[0m\u001b[0;36m30\u001b[0m\u001b[0;34m)\u001b[0m\u001b[0;34m:\u001b[0m\u001b[0;34m\u001b[0m\u001b[0;34m\u001b[0m\u001b[0m\n\u001b[0;32m----> 4\u001b[0;31m     \u001b[0mmodel\u001b[0m \u001b[0;34m=\u001b[0m \u001b[0mlstm_tuner\u001b[0m\u001b[0;34m.\u001b[0m\u001b[0mhypermodel\u001b[0m\u001b[0;34m.\u001b[0m\u001b[0mbuild\u001b[0m\u001b[0;34m(\u001b[0m\u001b[0mbest_hps\u001b[0m\u001b[0;34m)\u001b[0m\u001b[0;34m\u001b[0m\u001b[0;34m\u001b[0m\u001b[0m\n\u001b[0m\u001b[1;32m      5\u001b[0m     \u001b[0mmodel\u001b[0m\u001b[0;34m.\u001b[0m\u001b[0mload_weights\u001b[0m\u001b[0;34m(\u001b[0m\u001b[0;34mf\"/content/drive/MyDrive/Skripsi/Revisi/split50_50/lstm/30-fold/bestweights{i}.h5\"\u001b[0m\u001b[0;34m)\u001b[0m\u001b[0;34m\u001b[0m\u001b[0;34m\u001b[0m\u001b[0m\n\u001b[1;32m      6\u001b[0m     \u001b[0mmodel\u001b[0m\u001b[0;34m.\u001b[0m\u001b[0mcompile\u001b[0m\u001b[0;34m(\u001b[0m\u001b[0mloss\u001b[0m\u001b[0;34m=\u001b[0m\u001b[0mlossfun\u001b[0m\u001b[0;34m,\u001b[0m \u001b[0moptimizer\u001b[0m\u001b[0;34m=\u001b[0m\u001b[0moptimizer\u001b[0m\u001b[0;34m,\u001b[0m \u001b[0mmetrics\u001b[0m \u001b[0;34m=\u001b[0m \u001b[0mmetrics\u001b[0m\u001b[0;34m)\u001b[0m\u001b[0;34m\u001b[0m\u001b[0;34m\u001b[0m\u001b[0m\n",
            "\u001b[0;31mNameError\u001b[0m: name 'lstm_tuner' is not defined"
          ]
        }
      ]
    },
    {
      "cell_type": "code",
      "source": [
        "with open(\"/content/drive/MyDrive/Skripsi/emotion_detection_CNN-LSTM/Revisi/split50_50/lstm/lstm30_performance.json\", \"w\") as js :\n",
        "    json.dump(lstm30_fold_performance, js)"
      ],
      "metadata": {
        "id": "8rhHuhbBoYu4"
      },
      "execution_count": null,
      "outputs": []
    },
    {
      "cell_type": "markdown",
      "source": [
        "## CNNLSTM"
      ],
      "metadata": {
        "id": "SGmI5cYNGWCc"
      }
    },
    {
      "cell_type": "markdown",
      "source": [
        "### Training Tuning"
      ],
      "metadata": {
        "id": "w67dYVqFGWCo"
      }
    },
    {
      "cell_type": "code",
      "execution_count": null,
      "metadata": {
        "id": "SOgr5MlfGWCp"
      },
      "outputs": [],
      "source": [
        "cnnlstm_tuner = kt.Hyperband(CNNLSTMModel(),\n",
        "                     objective = 'val_loss',\n",
        "                     max_epochs = 50,\n",
        "                     factor = 3,\n",
        "                     overwrite = True,\n",
        "                     directory = \"/content/drive/MyDrive/Skripsi/emotion_detection_CNN-LSTM/Revisi/split50_50/tuning\",\n",
        "                     project_name = \"cnnlstm\")"
      ]
    },
    {
      "cell_type": "code",
      "execution_count": null,
      "metadata": {
        "id": "9NsJ4P8JGWCp"
      },
      "outputs": [],
      "source": [
        "stop_early = EarlyStopping(monitor='val_loss', patience = 5)\n"
      ]
    },
    {
      "cell_type": "code",
      "execution_count": null,
      "metadata": {
        "colab": {
          "base_uri": "https://localhost:8080/"
        },
        "outputId": "af7f317a-aac9-4341-d886-802d1dfaf99c",
        "id": "cRCNn1CvGWCp"
      },
      "outputs": [
        {
          "output_type": "stream",
          "name": "stdout",
          "text": [
            "Trial 90 Complete [00h 00m 23s]\n",
            "val_loss: 1.019451379776001\n",
            "\n",
            "Best val_loss So Far: 0.9204381108283997\n",
            "Total elapsed time: 00h 25m 19s\n"
          ]
        }
      ],
      "source": [
        "cnnlstm_tuner.search(X_train, y_train, validation_split = 0.2, callbacks = [stop_early])"
      ]
    },
    {
      "cell_type": "code",
      "execution_count": null,
      "metadata": {
        "id": "bzksFgigGWCq"
      },
      "outputs": [],
      "source": [
        "best_hps = cnnlstm_tuner.get_best_hyperparameters(num_trials=1)[0]\n"
      ]
    },
    {
      "cell_type": "code",
      "execution_count": null,
      "metadata": {
        "id": "JClG0goPGWCq"
      },
      "outputs": [],
      "source": [
        "checkpoint = keras.callbacks.ModelCheckpoint(\n",
        "    \"/content/drive/MyDrive/Skripsi/emotion_detection_CNN-LSTM/Revisi/split50_50/cnnlstm/bestweights.h5\",\n",
        "    monitor=\"val_loss\",\n",
        "    save_best_only=True,\n",
        "    save_weights_only=True,\n",
        "    mode=\"auto\"\n",
        ")"
      ]
    },
    {
      "cell_type": "code",
      "execution_count": null,
      "metadata": {
        "colab": {
          "base_uri": "https://localhost:8080/"
        },
        "outputId": "f02fc7c9-3916-4b7c-9c25-53fabea3bf30",
        "id": "Jv3wA_DGGWCq"
      },
      "outputs": [
        {
          "output_type": "stream",
          "name": "stdout",
          "text": [
            "Epoch 1/50\n",
            "89/89 [==============================] - 6s 31ms/step - loss: 1.6732 - accuracy: 0.3105 - val_loss: 1.4600 - val_accuracy: 0.4280\n",
            "Epoch 2/50\n",
            "89/89 [==============================] - 1s 13ms/step - loss: 1.4009 - accuracy: 0.4670 - val_loss: 1.2432 - val_accuracy: 0.5085\n",
            "Epoch 3/50\n",
            "89/89 [==============================] - 1s 12ms/step - loss: 1.2464 - accuracy: 0.5383 - val_loss: 1.1526 - val_accuracy: 0.5777\n",
            "Epoch 4/50\n",
            "89/89 [==============================] - 1s 14ms/step - loss: 1.1119 - accuracy: 0.5846 - val_loss: 1.0835 - val_accuracy: 0.6116\n",
            "Epoch 5/50\n",
            "89/89 [==============================] - 1s 14ms/step - loss: 1.0504 - accuracy: 0.6132 - val_loss: 1.0243 - val_accuracy: 0.6229\n",
            "Epoch 6/50\n",
            "89/89 [==============================] - 1s 15ms/step - loss: 1.0078 - accuracy: 0.6298 - val_loss: 1.0013 - val_accuracy: 0.6356\n",
            "Epoch 7/50\n",
            "89/89 [==============================] - 1s 11ms/step - loss: 0.9682 - accuracy: 0.6507 - val_loss: 1.0144 - val_accuracy: 0.6384\n",
            "Epoch 8/50\n",
            "89/89 [==============================] - 1s 10ms/step - loss: 0.9602 - accuracy: 0.6499 - val_loss: 0.9939 - val_accuracy: 0.6356\n",
            "Epoch 9/50\n",
            "89/89 [==============================] - 1s 10ms/step - loss: 0.9002 - accuracy: 0.6673 - val_loss: 0.9709 - val_accuracy: 0.6370\n",
            "Epoch 10/50\n",
            "89/89 [==============================] - 1s 11ms/step - loss: 0.8724 - accuracy: 0.6821 - val_loss: 0.9480 - val_accuracy: 0.6525\n",
            "Epoch 11/50\n",
            "89/89 [==============================] - 1s 10ms/step - loss: 0.8483 - accuracy: 0.6948 - val_loss: 0.9499 - val_accuracy: 0.6554\n",
            "Epoch 12/50\n",
            "89/89 [==============================] - 1s 10ms/step - loss: 0.8232 - accuracy: 0.7051 - val_loss: 0.9597 - val_accuracy: 0.6667\n",
            "Epoch 13/50\n",
            "89/89 [==============================] - 1s 10ms/step - loss: 0.8285 - accuracy: 0.6952 - val_loss: 0.9371 - val_accuracy: 0.6582\n",
            "Epoch 14/50\n",
            "89/89 [==============================] - 1s 10ms/step - loss: 0.8034 - accuracy: 0.7008 - val_loss: 0.9609 - val_accuracy: 0.6610\n",
            "Epoch 15/50\n",
            "89/89 [==============================] - 1s 10ms/step - loss: 0.7724 - accuracy: 0.7277 - val_loss: 0.9698 - val_accuracy: 0.6554\n",
            "Epoch 16/50\n",
            "89/89 [==============================] - 1s 10ms/step - loss: 0.7621 - accuracy: 0.7206 - val_loss: 0.9487 - val_accuracy: 0.6554\n",
            "Epoch 17/50\n",
            "89/89 [==============================] - 1s 11ms/step - loss: 0.7229 - accuracy: 0.7337 - val_loss: 0.9352 - val_accuracy: 0.6568\n",
            "Epoch 18/50\n",
            "89/89 [==============================] - 1s 13ms/step - loss: 0.7301 - accuracy: 0.7425 - val_loss: 0.9527 - val_accuracy: 0.6540\n",
            "Epoch 19/50\n",
            "89/89 [==============================] - 1s 14ms/step - loss: 0.7030 - accuracy: 0.7471 - val_loss: 0.9636 - val_accuracy: 0.6525\n",
            "Epoch 20/50\n",
            "89/89 [==============================] - 1s 14ms/step - loss: 0.6925 - accuracy: 0.7520 - val_loss: 0.9313 - val_accuracy: 0.6766\n",
            "Epoch 21/50\n",
            "89/89 [==============================] - 1s 12ms/step - loss: 0.6945 - accuracy: 0.7506 - val_loss: 0.9887 - val_accuracy: 0.6540\n",
            "Epoch 22/50\n",
            "89/89 [==============================] - 1s 9ms/step - loss: 0.6656 - accuracy: 0.7647 - val_loss: 0.9682 - val_accuracy: 0.6681\n",
            "Epoch 23/50\n",
            "89/89 [==============================] - 1s 11ms/step - loss: 0.6644 - accuracy: 0.7591 - val_loss: 0.9194 - val_accuracy: 0.6822\n",
            "Epoch 24/50\n",
            "89/89 [==============================] - 1s 10ms/step - loss: 0.6342 - accuracy: 0.7626 - val_loss: 0.9477 - val_accuracy: 0.6723\n",
            "Epoch 25/50\n",
            "89/89 [==============================] - 1s 10ms/step - loss: 0.6196 - accuracy: 0.7768 - val_loss: 0.9524 - val_accuracy: 0.6709\n",
            "Epoch 26/50\n",
            "89/89 [==============================] - 1s 10ms/step - loss: 0.6119 - accuracy: 0.7799 - val_loss: 0.9856 - val_accuracy: 0.6469\n",
            "Epoch 27/50\n",
            "89/89 [==============================] - 1s 10ms/step - loss: 0.6149 - accuracy: 0.7838 - val_loss: 0.9669 - val_accuracy: 0.6624\n",
            "Epoch 28/50\n",
            "89/89 [==============================] - 1s 10ms/step - loss: 0.5981 - accuracy: 0.7863 - val_loss: 1.0095 - val_accuracy: 0.6695\n"
          ]
        }
      ],
      "source": [
        "model = cnnlstm_tuner.hypermodel.build(best_hps)\n",
        "history = model.fit(X_train,y_train, epochs = 50, callbacks = [stop_early, checkpoint], validation_split = .2)"
      ]
    },
    {
      "cell_type": "code",
      "execution_count": null,
      "metadata": {
        "colab": {
          "base_uri": "https://localhost:8080/",
          "height": 539
        },
        "outputId": "3e98fdc0-8a9b-4297-eca0-3fea9928f714",
        "id": "L2ARe-8rGWCq"
      },
      "outputs": [
        {
          "output_type": "execute_result",
          "data": {
            "text/plain": [
              "[<matplotlib.lines.Line2D at 0x7e9b0ee690c0>]"
            ]
          },
          "metadata": {},
          "execution_count": 59
        },
        {
          "output_type": "display_data",
          "data": {
            "text/plain": [
              "<Figure size 1500x600 with 2 Axes>"
            ],
            "image/png": "[encoded data removed]"
          },
          "metadata": {}
        }
      ],
      "source": [
        "fig, ax = plt.subplots(1,2, figsize = (15,6))\n",
        "ax[0].plot(history.history['accuracy'])\n",
        "ax[0].plot(history.history['val_accuracy'])\n",
        "ax[1].plot(history.history['loss'])\n",
        "ax[1].plot(history.history['val_loss'])"
      ]
    },
    {
      "cell_type": "markdown",
      "source": [
        "### K-Fold test"
      ],
      "metadata": {
        "id": "hA6PVvN1GWCr"
      }
    },
    {
      "cell_type": "markdown",
      "source": [
        "#### 10-Fold"
      ],
      "metadata": {
        "id": "XGeX0h-fGWCr"
      }
    },
    {
      "cell_type": "code",
      "source": [
        "for i,(train_index, test_index) in enumerate(fold10_index) :\n",
        "    model = cnnlstm_tuner.hypermodel.build(best_hps)\n",
        "    model.load_weights(\"/content/drive/MyDrive/Skripsi/emotion_detection_CNN-LSTM/Revisi/split50_50/cnnlstm/bestweights.h5\")\n",
        "    checkpoint = ModelCheckpoint(f\"/content/drive/MyDrive/Skripsi/Revisi/split50_50/lstm/10-fold/bestweights{i}.h5\",monitor='val_loss', verbose=0, restore_best_weights=True, mode='min', save_weights_only = True)\n",
        "    model.fit(x=X_test[train_index], y = y_test[train_index], epochs = 50, validation_data = (X_test[test_index], y_test[test_index]), callbacks = [stop_early, checkpoint], verbose = False)"
      ],
      "metadata": {
        "id": "rUwSdFD7ngal"
      },
      "execution_count": null,
      "outputs": []
    },
    {
      "cell_type": "code",
      "source": [
        "cnnlstm10_fold_performance = []\n",
        "\n",
        "for i in range(10):\n",
        "    model = cnnlstm_tuner.hypermodel.build(best_hps)\n",
        "    model.load_weights(f\"/content/drive/MyDrive/Skripsi/Revisi/split50_50/lstm/10-fold/bestweights{i}.h5\")\n",
        "    model.compile(loss=lossfun, optimizer=optimizer, metrics = metrics)\n",
        "    eval_metric = model.evaluate(X_test[fold10_index[i][1]],y_test[fold10_index[i][1]])\n",
        "    y_pred = model.predict(X_test[fold10_index[i][1]])\n",
        "    y_pred = [np.argmax(pred) for pred in y_pred]\n",
        "    y_true = [np.argmax(true) for true in y_test[fold10_index[i][1]]]\n",
        "    fold_metrics = {}\n",
        "    fold_metrics[\"num_fold\"] = i\n",
        "    for j, metric_name in enumerate(model.metrics_names) :\n",
        "        fold_metrics[metric_name] = eval_metric[j]\n",
        "    macro_precision = precision_score(y_true, y_pred, average='macro')\n",
        "    part_precision = precision_score(y_true, y_pred, average = None)\n",
        "    macro_recall = recall_score(y_true, y_pred, average = 'macro')\n",
        "    part_recall = recall_score(y_true, y_pred, average = None)\n",
        "    macro_f1 = f1_score(y_true, y_pred, average = 'macro')\n",
        "    part_f1 = f1_score(y_true, y_pred, average = None)\n",
        "    fold_metrics[\"macro_precision\"] = macro_precision\n",
        "    fold_metrics[\"macro_recall\"] = macro_recall\n",
        "    fold_metrics[\"macro_f1\"] = macro_f1\n",
        "    fold_metrics[\"part_precision\"] = part_precision.tolist()\n",
        "    fold_metrics[\"part_recall\"] = part_recall.tolist()\n",
        "    fold_metrics[\"part_f1\"] = part_f1.tolist()\n",
        "\n",
        "\n",
        "\n",
        "    cnnlstm10_fold_performance.append(fold_metrics)"
      ],
      "metadata": {
        "id": "bhkkpZt1ngam",
        "colab": {
          "base_uri": "https://localhost:8080/"
        },
        "outputId": "cf261e73-5f70-4d80-8a79-4c8c3fc73737"
      },
      "execution_count": null,
      "outputs": [
        {
          "output_type": "stream",
          "name": "stdout",
          "text": [
            "12/12 [==============================] - 1s 7ms/step - loss: 0.9150 - accuracy: 0.6667\n",
            "12/12 [==============================] - 0s 5ms/step\n",
            "12/12 [==============================] - 1s 7ms/step - loss: 0.7830 - accuracy: 0.7345\n",
            "12/12 [==============================] - 1s 6ms/step\n",
            "12/12 [==============================] - 1s 7ms/step - loss: 0.8833 - accuracy: 0.6921\n",
            "12/12 [==============================] - 0s 5ms/step\n",
            "12/12 [==============================] - 1s 7ms/step - loss: 0.8447 - accuracy: 0.7006\n",
            "12/12 [==============================] - 0s 5ms/step\n",
            "12/12 [==============================] - 1s 7ms/step - loss: 0.8725 - accuracy: 0.6949\n",
            "12/12 [==============================] - 1s 5ms/step\n",
            "12/12 [==============================] - 1s 7ms/step - loss: 0.9121 - accuracy: 0.6638\n",
            "12/12 [==============================] - 0s 5ms/step\n",
            "12/12 [==============================] - 1s 9ms/step - loss: 0.8171 - accuracy: 0.7006\n",
            "12/12 [==============================] - 1s 7ms/step\n",
            "12/12 [==============================] - 1s 7ms/step - loss: 0.7525 - accuracy: 0.7006\n",
            "12/12 [==============================] - 1s 5ms/step\n",
            "12/12 [==============================] - 1s 7ms/step - loss: 0.7888 - accuracy: 0.7288\n",
            "12/12 [==============================] - 1s 5ms/step\n",
            "12/12 [==============================] - 1s 7ms/step - loss: 0.8845 - accuracy: 0.7139\n",
            "12/12 [==============================] - 0s 5ms/step\n"
          ]
        }
      ]
    },
    {
      "cell_type": "markdown",
      "source": [
        "#### 30-fold"
      ],
      "metadata": {
        "id": "mpdptXV5m9dA"
      }
    },
    {
      "cell_type": "code",
      "source": [
        "for i,(train_index, test_index) in enumerate(fold30_index) :\n",
        "    model = cnnlstm_tuner.hypermodel.build(best_hps)\n",
        "    model.load_weights(\"/content/drive/MyDrive/Skripsi/emotion_detection_CNN-LSTM/Revisi/split50_50/cnnlstm/bestweights.h5\")\n",
        "    checkpoint = ModelCheckpoint(f\"/content/drive/MyDrive/Skripsi/Revisi/split50_50/cnnlstm/30-fold/bestweights{i}.h5\",monitor='val_loss', verbose=0, restore_best_weights=True, mode='min', save_weights_only = True)\n",
        "    model.fit(x=X_test[train_index], y = y_test[train_index], epochs = 50, validation_data = (X_test[test_index], y_test[test_index]), callbacks = [stop_early, checkpoint], verbose = False)"
      ],
      "metadata": {
        "id": "U_71jpnTm3Uj"
      },
      "execution_count": null,
      "outputs": []
    },
    {
      "cell_type": "code",
      "source": [
        "cnnlstm30_fold_performance = []\n",
        "\n",
        "for i in range(30):\n",
        "    model = cnnlstm_tuner.hypermodel.build(best_hps)\n",
        "    model.load_weights(f\"/content/drive/MyDrive/Skripsi/Revisi/split50_50/cnnlstm/30-fold/bestweights{i}.h5\")\n",
        "    model.compile(loss=lossfun, optimizer=optimizer, metrics = metrics)\n",
        "    eval_metric = model.evaluate(X_test[fold30_index[i][1]],y_test[fold30_index[i][1]])\n",
        "    y_pred = model.predict(X_test[fold30_index[i][1]])\n",
        "    y_pred = [np.argmax(pred) for pred in y_pred]\n",
        "    y_true = [np.argmax(true) for true in y_test[fold30_index[i][1]]]\n",
        "    fold_metrics = {}\n",
        "    fold_metrics[\"num_fold\"] = i\n",
        "    for j, metric_name in enumerate(model.metrics_names) :\n",
        "        fold_metrics[metric_name] = eval_metric[j]\n",
        "    macro_precision = precision_score(y_true, y_pred, average='macro')\n",
        "    part_precision = precision_score(y_true, y_pred, average = None)\n",
        "    macro_recall = recall_score(y_true, y_pred, average = 'macro')\n",
        "    part_recall = recall_score(y_true, y_pred, average = None)\n",
        "    macro_f1 = f1_score(y_true, y_pred, average = 'macro')\n",
        "    part_f1 = f1_score(y_true, y_pred, average = None)\n",
        "    fold_metrics[\"macro_precision\"] = macro_precision\n",
        "    fold_metrics[\"macro_recall\"] = macro_recall\n",
        "    fold_metrics[\"macro_f1\"] = macro_f1\n",
        "    fold_metrics[\"part_precision\"] = part_precision.tolist()\n",
        "    fold_metrics[\"part_recall\"] = part_recall.tolist()\n",
        "    fold_metrics[\"part_f1\"] = part_f1.tolist()\n",
        "\n",
        "\n",
        "\n",
        "    cnnlstm30_fold_performance.append(fold_metrics)"
      ],
      "metadata": {
        "id": "Pr321Pk2m3Uk"
      },
      "execution_count": null,
      "outputs": []
    }
  ],
  "metadata": {
    "accelerator": "GPU",
    "colab": {
      "gpuType": "T4",
      "provenance": [],
      "collapsed_sections": [
        "hZheii72JF8K",
        "SnanTqyYJNhU",
        "Q7y2OkrUJVhR",
        "Qb-mQFONFIB_",
        "x3wa2vkJKdxR",
        "TGeM3INXKov5",
        "8PT94H1nvsm4",
        "AvDlqsSA1EAr",
        "iVOu1lSS1Ivh",
        "sZNWk0pyv15g",
        "uTbqsl6JiPgr",
        "w67dYVqFGWCo"
      ]
    },
    "kernelspec": {
      "display_name": "Python 3",
      "name": "python3"
    },
    "language_info": {
      "name": "python"
    }
  },
  "nbformat": 4,
  "nbformat_minor": 0
}