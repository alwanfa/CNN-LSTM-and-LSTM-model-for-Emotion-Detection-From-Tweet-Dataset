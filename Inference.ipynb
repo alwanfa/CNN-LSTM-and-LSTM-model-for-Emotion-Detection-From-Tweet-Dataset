{
  "nbformat": 4,
  "nbformat_minor": 0,
  "metadata": {
    "colab": {
      "provenance": [],
      "collapsed_sections": [
        "l3v-H5nJN765"
      ]
    },
    "kernelspec": {
      "name": "python3",
      "display_name": "Python 3"
    },
    "language_info": {
      "name": "python"
    },
    "widgets": {
      "application/vnd.jupyter.widget-state+json": {
        "fa30f208cd814e28a907da6fff99d9c2": {
          "model_module": "@jupyter-widgets/controls",
          "model_name": "HBoxModel",
          "model_module_version": "1.5.0",
          "state": {
            "_dom_classes": [],
            "_model_module": "@jupyter-widgets/controls",
            "_model_module_version": "1.5.0",
            "_model_name": "HBoxModel",
            "_view_count": null,
            "_view_module": "@jupyter-widgets/controls",
            "_view_module_version": "1.5.0",
            "_view_name": "HBoxView",
            "box_style": "",
            "children": [
              "IPY_MODEL_e76609a3bb614546acbc58e44a47973b",
              "IPY_MODEL_1b2dd2035ce34777b587a3b62f3ac6a1",
              "IPY_MODEL_eefb4a276a9f411faa8801f697e895ea"
            ],
            "layout": "IPY_MODEL_1cd3f96d3e2b4923b6e8212f6a6353df"
          }
        },
        "e76609a3bb614546acbc58e44a47973b": {
          "model_module": "@jupyter-widgets/controls",
          "model_name": "HTMLModel",
          "model_module_version": "1.5.0",
          "state": {
            "_dom_classes": [],
            "_model_module": "@jupyter-widgets/controls",
            "_model_module_version": "1.5.0",
            "_model_name": "HTMLModel",
            "_view_count": null,
            "_view_module": "@jupyter-widgets/controls",
            "_view_module_version": "1.5.0",
            "_view_name": "HTMLView",
            "description": "",
            "description_tooltip": null,
            "layout": "IPY_MODEL_b9c34b1822bb48f0b2767d9cd4543be7",
            "placeholder": "​",
            "style": "IPY_MODEL_f8731a85822d453fa2487ec45130faf5",
            "value": "config.json: 100%"
          }
        },
        "1b2dd2035ce34777b587a3b62f3ac6a1": {
          "model_module": "@jupyter-widgets/controls",
          "model_name": "FloatProgressModel",
          "model_module_version": "1.5.0",
          "state": {
            "_dom_classes": [],
            "_model_module": "@jupyter-widgets/controls",
            "_model_module_version": "1.5.0",
            "_model_name": "FloatProgressModel",
            "_view_count": null,
            "_view_module": "@jupyter-widgets/controls",
            "_view_module_version": "1.5.0",
            "_view_name": "ProgressView",
            "bar_style": "success",
            "description": "",
            "description_tooltip": null,
            "layout": "IPY_MODEL_711d0b8a693a42499fcacd4fd1c55f32",
            "max": 1700,
            "min": 0,
            "orientation": "horizontal",
            "style": "IPY_MODEL_45ba61cc424546f0875ae50fb326dc38",
            "value": 1700
          }
        },
        "eefb4a276a9f411faa8801f697e895ea": {
          "model_module": "@jupyter-widgets/controls",
          "model_name": "HTMLModel",
          "model_module_version": "1.5.0",
          "state": {
            "_dom_classes": [],
            "_model_module": "@jupyter-widgets/controls",
            "_model_module_version": "1.5.0",
            "_model_name": "HTMLModel",
            "_view_count": null,
            "_view_module": "@jupyter-widgets/controls",
            "_view_module_version": "1.5.0",
            "_view_name": "HTMLView",
            "description": "",
            "description_tooltip": null,
            "layout": "IPY_MODEL_4ddc44008b7a4af0a81b9fe9caa138b3",
            "placeholder": "​",
            "style": "IPY_MODEL_86f0fdac06bd496d9878084c07b576db",
            "value": " 1.70k/1.70k [00:00&lt;00:00, 40.4kB/s]"
          }
        },
        "1cd3f96d3e2b4923b6e8212f6a6353df": {
          "model_module": "@jupyter-widgets/base",
          "model_name": "LayoutModel",
          "model_module_version": "1.2.0",
          "state": {
            "_model_module": "@jupyter-widgets/base",
            "_model_module_version": "1.2.0",
            "_model_name": "LayoutModel",
            "_view_count": null,
            "_view_module": "@jupyter-widgets/base",
            "_view_module_version": "1.2.0",
            "_view_name": "LayoutView",
            "align_content": null,
            "align_items": null,
            "align_self": null,
            "border": null,
            "bottom": null,
            "display": null,
            "flex": null,
            "flex_flow": null,
            "grid_area": null,
            "grid_auto_columns": null,
            "grid_auto_flow": null,
            "grid_auto_rows": null,
            "grid_column": null,
            "grid_gap": null,
            "grid_row": null,
            "grid_template_areas": null,
            "grid_template_columns": null,
            "grid_template_rows": null,
            "height": null,
            "justify_content": null,
            "justify_items": null,
            "left": null,
            "margin": null,
            "max_height": null,
            "max_width": null,
            "min_height": null,
            "min_width": null,
            "object_fit": null,
            "object_position": null,
            "order": null,
            "overflow": null,
            "overflow_x": null,
            "overflow_y": null,
            "padding": null,
            "right": null,
            "top": null,
            "visibility": null,
            "width": null
          }
        },
        "b9c34b1822bb48f0b2767d9cd4543be7": {
          "model_module": "@jupyter-widgets/base",
          "model_name": "LayoutModel",
          "model_module_version": "1.2.0",
          "state": {
            "_model_module": "@jupyter-widgets/base",
            "_model_module_version": "1.2.0",
            "_model_name": "LayoutModel",
            "_view_count": null,
            "_view_module": "@jupyter-widgets/base",
            "_view_module_version": "1.2.0",
            "_view_name": "LayoutView",
            "align_content": null,
            "align_items": null,
            "align_self": null,
            "border": null,
            "bottom": null,
            "display": null,
            "flex": null,
            "flex_flow": null,
            "grid_area": null,
            "grid_auto_columns": null,
            "grid_auto_flow": null,
            "grid_auto_rows": null,
            "grid_column": null,
            "grid_gap": null,
            "grid_row": null,
            "grid_template_areas": null,
            "grid_template_columns": null,
            "grid_template_rows": null,
            "height": null,
            "justify_content": null,
            "justify_items": null,
            "left": null,
            "margin": null,
            "max_height": null,
            "max_width": null,
            "min_height": null,
            "min_width": null,
            "object_fit": null,
            "object_position": null,
            "order": null,
            "overflow": null,
            "overflow_x": null,
            "overflow_y": null,
            "padding": null,
            "right": null,
            "top": null,
            "visibility": null,
            "width": null
          }
        },
        "f8731a85822d453fa2487ec45130faf5": {
          "model_module": "@jupyter-widgets/controls",
          "model_name": "DescriptionStyleModel",
          "model_module_version": "1.5.0",
          "state": {
            "_model_module": "@jupyter-widgets/controls",
            "_model_module_version": "1.5.0",
            "_model_name": "DescriptionStyleModel",
            "_view_count": null,
            "_view_module": "@jupyter-widgets/base",
            "_view_module_version": "1.2.0",
            "_view_name": "StyleView",
            "description_width": ""
          }
        },
        "711d0b8a693a42499fcacd4fd1c55f32": {
          "model_module": "@jupyter-widgets/base",
          "model_name": "LayoutModel",
          "model_module_version": "1.2.0",
          "state": {
            "_model_module": "@jupyter-widgets/base",
            "_model_module_version": "1.2.0",
            "_model_name": "LayoutModel",
            "_view_count": null,
            "_view_module": "@jupyter-widgets/base",
            "_view_module_version": "1.2.0",
            "_view_name": "LayoutView",
            "align_content": null,
            "align_items": null,
            "align_self": null,
            "border": null,
            "bottom": null,
            "display": null,
            "flex": null,
            "flex_flow": null,
            "grid_area": null,
            "grid_auto_columns": null,
            "grid_auto_flow": null,
            "grid_auto_rows": null,
            "grid_column": null,
            "grid_gap": null,
            "grid_row": null,
            "grid_template_areas": null,
            "grid_template_columns": null,
            "grid_template_rows": null,
            "height": null,
            "justify_content": null,
            "justify_items": null,
            "left": null,
            "margin": null,
            "max_height": null,
            "max_width": null,
            "min_height": null,
            "min_width": null,
            "object_fit": null,
            "object_position": null,
            "order": null,
            "overflow": null,
            "overflow_x": null,
            "overflow_y": null,
            "padding": null,
            "right": null,
            "top": null,
            "visibility": null,
            "width": null
          }
        },
        "45ba61cc424546f0875ae50fb326dc38": {
          "model_module": "@jupyter-widgets/controls",
          "model_name": "ProgressStyleModel",
          "model_module_version": "1.5.0",
          "state": {
            "_model_module": "@jupyter-widgets/controls",
            "_model_module_version": "1.5.0",
            "_model_name": "ProgressStyleModel",
            "_view_count": null,
            "_view_module": "@jupyter-widgets/base",
            "_view_module_version": "1.2.0",
            "_view_name": "StyleView",
            "bar_color": null,
            "description_width": ""
          }
        },
        "4ddc44008b7a4af0a81b9fe9caa138b3": {
          "model_module": "@jupyter-widgets/base",
          "model_name": "LayoutModel",
          "model_module_version": "1.2.0",
          "state": {
            "_model_module": "@jupyter-widgets/base",
            "_model_module_version": "1.2.0",
            "_model_name": "LayoutModel",
            "_view_count": null,
            "_view_module": "@jupyter-widgets/base",
            "_view_module_version": "1.2.0",
            "_view_name": "LayoutView",
            "align_content": null,
            "align_items": null,
            "align_self": null,
            "border": null,
            "bottom": null,
            "display": null,
            "flex": null,
            "flex_flow": null,
            "grid_area": null,
            "grid_auto_columns": null,
            "grid_auto_flow": null,
            "grid_auto_rows": null,
            "grid_column": null,
            "grid_gap": null,
            "grid_row": null,
            "grid_template_areas": null,
            "grid_template_columns": null,
            "grid_template_rows": null,
            "height": null,
            "justify_content": null,
            "justify_items": null,
            "left": null,
            "margin": null,
            "max_height": null,
            "max_width": null,
            "min_height": null,
            "min_width": null,
            "object_fit": null,
            "object_position": null,
            "order": null,
            "overflow": null,
            "overflow_x": null,
            "overflow_y": null,
            "padding": null,
            "right": null,
            "top": null,
            "visibility": null,
            "width": null
          }
        },
        "86f0fdac06bd496d9878084c07b576db": {
          "model_module": "@jupyter-widgets/controls",
          "model_name": "DescriptionStyleModel",
          "model_module_version": "1.5.0",
          "state": {
            "_model_module": "@jupyter-widgets/controls",
            "_model_module_version": "1.5.0",
            "_model_name": "DescriptionStyleModel",
            "_view_count": null,
            "_view_module": "@jupyter-widgets/base",
            "_view_module_version": "1.2.0",
            "_view_name": "StyleView",
            "description_width": ""
          }
        },
        "5cebcd8465f9438fa57adb57de898e78": {
          "model_module": "@jupyter-widgets/controls",
          "model_name": "HBoxModel",
          "model_module_version": "1.5.0",
          "state": {
            "_dom_classes": [],
            "_model_module": "@jupyter-widgets/controls",
            "_model_module_version": "1.5.0",
            "_model_name": "HBoxModel",
            "_view_count": null,
            "_view_module": "@jupyter-widgets/controls",
            "_view_module_version": "1.5.0",
            "_view_name": "HBoxView",
            "box_style": "",
            "children": [
              "IPY_MODEL_efd1580f75954855ab065b7458f6150b",
              "IPY_MODEL_ae0ee36425694103ad767d8331e97e43",
              "IPY_MODEL_bf202fa5ff184ea2a9e31b751ce76bbc"
            ],
            "layout": "IPY_MODEL_5b909e8e7901434184604f6862fe7531"
          }
        },
        "efd1580f75954855ab065b7458f6150b": {
          "model_module": "@jupyter-widgets/controls",
          "model_name": "HTMLModel",
          "model_module_version": "1.5.0",
          "state": {
            "_dom_classes": [],
            "_model_module": "@jupyter-widgets/controls",
            "_model_module_version": "1.5.0",
            "_model_name": "HTMLModel",
            "_view_count": null,
            "_view_module": "@jupyter-widgets/controls",
            "_view_module_version": "1.5.0",
            "_view_name": "HTMLView",
            "description": "",
            "description_tooltip": null,
            "layout": "IPY_MODEL_320a57f884544bf4bc00537c39b453af",
            "placeholder": "​",
            "style": "IPY_MODEL_ae63a7f99f3545ff910558da065457ab",
            "value": "model.safetensors: 100%"
          }
        },
        "ae0ee36425694103ad767d8331e97e43": {
          "model_module": "@jupyter-widgets/controls",
          "model_name": "FloatProgressModel",
          "model_module_version": "1.5.0",
          "state": {
            "_dom_classes": [],
            "_model_module": "@jupyter-widgets/controls",
            "_model_module_version": "1.5.0",
            "_model_name": "FloatProgressModel",
            "_view_count": null,
            "_view_module": "@jupyter-widgets/controls",
            "_view_module_version": "1.5.0",
            "_view_name": "ProgressView",
            "bar_style": "success",
            "description": "",
            "description_tooltip": null,
            "layout": "IPY_MODEL_552385dbbead477e8833eb8ddb246b6a",
            "max": 496324072,
            "min": 0,
            "orientation": "horizontal",
            "style": "IPY_MODEL_f2db5dabb56b4be8a99f5536312933f2",
            "value": 496324072
          }
        },
        "bf202fa5ff184ea2a9e31b751ce76bbc": {
          "model_module": "@jupyter-widgets/controls",
          "model_name": "HTMLModel",
          "model_module_version": "1.5.0",
          "state": {
            "_dom_classes": [],
            "_model_module": "@jupyter-widgets/controls",
            "_model_module_version": "1.5.0",
            "_model_name": "HTMLModel",
            "_view_count": null,
            "_view_module": "@jupyter-widgets/controls",
            "_view_module_version": "1.5.0",
            "_view_name": "HTMLView",
            "description": "",
            "description_tooltip": null,
            "layout": "IPY_MODEL_db2ce2b71d5d4ed194fa593a46169bfa",
            "placeholder": "​",
            "style": "IPY_MODEL_19e45e0b13c848838916bfde3bab8be9",
            "value": " 496M/496M [00:09&lt;00:00, 49.1MB/s]"
          }
        },
        "5b909e8e7901434184604f6862fe7531": {
          "model_module": "@jupyter-widgets/base",
          "model_name": "LayoutModel",
          "model_module_version": "1.2.0",
          "state": {
            "_model_module": "@jupyter-widgets/base",
            "_model_module_version": "1.2.0",
            "_model_name": "LayoutModel",
            "_view_count": null,
            "_view_module": "@jupyter-widgets/base",
            "_view_module_version": "1.2.0",
            "_view_name": "LayoutView",
            "align_content": null,
            "align_items": null,
            "align_self": null,
            "border": null,
            "bottom": null,
            "display": null,
            "flex": null,
            "flex_flow": null,
            "grid_area": null,
            "grid_auto_columns": null,
            "grid_auto_flow": null,
            "grid_auto_rows": null,
            "grid_column": null,
            "grid_gap": null,
            "grid_row": null,
            "grid_template_areas": null,
            "grid_template_columns": null,
            "grid_template_rows": null,
            "height": null,
            "justify_content": null,
            "justify_items": null,
            "left": null,
            "margin": null,
            "max_height": null,
            "max_width": null,
            "min_height": null,
            "min_width": null,
            "object_fit": null,
            "object_position": null,
            "order": null,
            "overflow": null,
            "overflow_x": null,
            "overflow_y": null,
            "padding": null,
            "right": null,
            "top": null,
            "visibility": null,
            "width": null
          }
        },
        "320a57f884544bf4bc00537c39b453af": {
          "model_module": "@jupyter-widgets/base",
          "model_name": "LayoutModel",
          "model_module_version": "1.2.0",
          "state": {
            "_model_module": "@jupyter-widgets/base",
            "_model_module_version": "1.2.0",
            "_model_name": "LayoutModel",
            "_view_count": null,
            "_view_module": "@jupyter-widgets/base",
            "_view_module_version": "1.2.0",
            "_view_name": "LayoutView",
            "align_content": null,
            "align_items": null,
            "align_self": null,
            "border": null,
            "bottom": null,
            "display": null,
            "flex": null,
            "flex_flow": null,
            "grid_area": null,
            "grid_auto_columns": null,
            "grid_auto_flow": null,
            "grid_auto_rows": null,
            "grid_column": null,
            "grid_gap": null,
            "grid_row": null,
            "grid_template_areas": null,
            "grid_template_columns": null,
            "grid_template_rows": null,
            "height": null,
            "justify_content": null,
            "justify_items": null,
            "left": null,
            "margin": null,
            "max_height": null,
            "max_width": null,
            "min_height": null,
            "min_width": null,
            "object_fit": null,
            "object_position": null,
            "order": null,
            "overflow": null,
            "overflow_x": null,
            "overflow_y": null,
            "padding": null,
            "right": null,
            "top": null,
            "visibility": null,
            "width": null
          }
        },
        "ae63a7f99f3545ff910558da065457ab": {
          "model_module": "@jupyter-widgets/controls",
          "model_name": "DescriptionStyleModel",
          "model_module_version": "1.5.0",
          "state": {
            "_model_module": "@jupyter-widgets/controls",
            "_model_module_version": "1.5.0",
            "_model_name": "DescriptionStyleModel",
            "_view_count": null,
            "_view_module": "@jupyter-widgets/base",
            "_view_module_version": "1.2.0",
            "_view_name": "StyleView",
            "description_width": ""
          }
        },
        "552385dbbead477e8833eb8ddb246b6a": {
          "model_module": "@jupyter-widgets/base",
          "model_name": "LayoutModel",
          "model_module_version": "1.2.0",
          "state": {
            "_model_module": "@jupyter-widgets/base",
            "_model_module_version": "1.2.0",
            "_model_name": "LayoutModel",
            "_view_count": null,
            "_view_module": "@jupyter-widgets/base",
            "_view_module_version": "1.2.0",
            "_view_name": "LayoutView",
            "align_content": null,
            "align_items": null,
            "align_self": null,
            "border": null,
            "bottom": null,
            "display": null,
            "flex": null,
            "flex_flow": null,
            "grid_area": null,
            "grid_auto_columns": null,
            "grid_auto_flow": null,
            "grid_auto_rows": null,
            "grid_column": null,
            "grid_gap": null,
            "grid_row": null,
            "grid_template_areas": null,
            "grid_template_columns": null,
            "grid_template_rows": null,
            "height": null,
            "justify_content": null,
            "justify_items": null,
            "left": null,
            "margin": null,
            "max_height": null,
            "max_width": null,
            "min_height": null,
            "min_width": null,
            "object_fit": null,
            "object_position": null,
            "order": null,
            "overflow": null,
            "overflow_x": null,
            "overflow_y": null,
            "padding": null,
            "right": null,
            "top": null,
            "visibility": null,
            "width": null
          }
        },
        "f2db5dabb56b4be8a99f5536312933f2": {
          "model_module": "@jupyter-widgets/controls",
          "model_name": "ProgressStyleModel",
          "model_module_version": "1.5.0",
          "state": {
            "_model_module": "@jupyter-widgets/controls",
            "_model_module_version": "1.5.0",
            "_model_name": "ProgressStyleModel",
            "_view_count": null,
            "_view_module": "@jupyter-widgets/base",
            "_view_module_version": "1.2.0",
            "_view_name": "StyleView",
            "bar_color": null,
            "description_width": ""
          }
        },
        "db2ce2b71d5d4ed194fa593a46169bfa": {
          "model_module": "@jupyter-widgets/base",
          "model_name": "LayoutModel",
          "model_module_version": "1.2.0",
          "state": {
            "_model_module": "@jupyter-widgets/base",
            "_model_module_version": "1.2.0",
            "_model_name": "LayoutModel",
            "_view_count": null,
            "_view_module": "@jupyter-widgets/base",
            "_view_module_version": "1.2.0",
            "_view_name": "LayoutView",
            "align_content": null,
            "align_items": null,
            "align_self": null,
            "border": null,
            "bottom": null,
            "display": null,
            "flex": null,
            "flex_flow": null,
            "grid_area": null,
            "grid_auto_columns": null,
            "grid_auto_flow": null,
            "grid_auto_rows": null,
            "grid_column": null,
            "grid_gap": null,
            "grid_row": null,
            "grid_template_areas": null,
            "grid_template_columns": null,
            "grid_template_rows": null,
            "height": null,
            "justify_content": null,
            "justify_items": null,
            "left": null,
            "margin": null,
            "max_height": null,
            "max_width": null,
            "min_height": null,
            "min_width": null,
            "object_fit": null,
            "object_position": null,
            "order": null,
            "overflow": null,
            "overflow_x": null,
            "overflow_y": null,
            "padding": null,
            "right": null,
            "top": null,
            "visibility": null,
            "width": null
          }
        },
        "19e45e0b13c848838916bfde3bab8be9": {
          "model_module": "@jupyter-widgets/controls",
          "model_name": "DescriptionStyleModel",
          "model_module_version": "1.5.0",
          "state": {
            "_model_module": "@jupyter-widgets/controls",
            "_model_module_version": "1.5.0",
            "_model_name": "DescriptionStyleModel",
            "_view_count": null,
            "_view_module": "@jupyter-widgets/base",
            "_view_module_version": "1.2.0",
            "_view_name": "StyleView",
            "description_width": ""
          }
        },
        "8c9eab0f186d4098a60cd0f0aceef97c": {
          "model_module": "@jupyter-widgets/controls",
          "model_name": "HBoxModel",
          "model_module_version": "1.5.0",
          "state": {
            "_dom_classes": [],
            "_model_module": "@jupyter-widgets/controls",
            "_model_module_version": "1.5.0",
            "_model_name": "HBoxModel",
            "_view_count": null,
            "_view_module": "@jupyter-widgets/controls",
            "_view_module_version": "1.5.0",
            "_view_name": "HBoxView",
            "box_style": "",
            "children": [
              "IPY_MODEL_b802fb3ee80f4d2c99ff080ee69e7f2e",
              "IPY_MODEL_61eef6d8e77c4bcf8d89aff047e2ef32",
              "IPY_MODEL_67d1056cc7544b2dbfa8b9060c0948f3"
            ],
            "layout": "IPY_MODEL_023954eacc644eb2a71b9cb8b6fd29ed"
          }
        },
        "b802fb3ee80f4d2c99ff080ee69e7f2e": {
          "model_module": "@jupyter-widgets/controls",
          "model_name": "HTMLModel",
          "model_module_version": "1.5.0",
          "state": {
            "_dom_classes": [],
            "_model_module": "@jupyter-widgets/controls",
            "_model_module_version": "1.5.0",
            "_model_name": "HTMLModel",
            "_view_count": null,
            "_view_module": "@jupyter-widgets/controls",
            "_view_module_version": "1.5.0",
            "_view_name": "HTMLView",
            "description": "",
            "description_tooltip": null,
            "layout": "IPY_MODEL_a16e354f54e04570b34a7f231b6503a1",
            "placeholder": "​",
            "style": "IPY_MODEL_a4c3748f2e984df8ab48185991e292df",
            "value": "tokenizer_config.json: 100%"
          }
        },
        "61eef6d8e77c4bcf8d89aff047e2ef32": {
          "model_module": "@jupyter-widgets/controls",
          "model_name": "FloatProgressModel",
          "model_module_version": "1.5.0",
          "state": {
            "_dom_classes": [],
            "_model_module": "@jupyter-widgets/controls",
            "_model_module_version": "1.5.0",
            "_model_name": "FloatProgressModel",
            "_view_count": null,
            "_view_module": "@jupyter-widgets/controls",
            "_view_module_version": "1.5.0",
            "_view_name": "ProgressView",
            "bar_style": "success",
            "description": "",
            "description_tooltip": null,
            "layout": "IPY_MODEL_07ffe4224db546279fae57530f3ccdf2",
            "max": 1242,
            "min": 0,
            "orientation": "horizontal",
            "style": "IPY_MODEL_92cf8e23de8e4d05b2fcce390e8f30ae",
            "value": 1242
          }
        },
        "67d1056cc7544b2dbfa8b9060c0948f3": {
          "model_module": "@jupyter-widgets/controls",
          "model_name": "HTMLModel",
          "model_module_version": "1.5.0",
          "state": {
            "_dom_classes": [],
            "_model_module": "@jupyter-widgets/controls",
            "_model_module_version": "1.5.0",
            "_model_name": "HTMLModel",
            "_view_count": null,
            "_view_module": "@jupyter-widgets/controls",
            "_view_module_version": "1.5.0",
            "_view_name": "HTMLView",
            "description": "",
            "description_tooltip": null,
            "layout": "IPY_MODEL_13ae03d1527c485aa3a0bc44c3e508fe",
            "placeholder": "​",
            "style": "IPY_MODEL_d51eae81c9b245eb97132ec4443917cf",
            "value": " 1.24k/1.24k [00:00&lt;00:00, 17.7kB/s]"
          }
        },
        "023954eacc644eb2a71b9cb8b6fd29ed": {
          "model_module": "@jupyter-widgets/base",
          "model_name": "LayoutModel",
          "model_module_version": "1.2.0",
          "state": {
            "_model_module": "@jupyter-widgets/base",
            "_model_module_version": "1.2.0",
            "_model_name": "LayoutModel",
            "_view_count": null,
            "_view_module": "@jupyter-widgets/base",
            "_view_module_version": "1.2.0",
            "_view_name": "LayoutView",
            "align_content": null,
            "align_items": null,
            "align_self": null,
            "border": null,
            "bottom": null,
            "display": null,
            "flex": null,
            "flex_flow": null,
            "grid_area": null,
            "grid_auto_columns": null,
            "grid_auto_flow": null,
            "grid_auto_rows": null,
            "grid_column": null,
            "grid_gap": null,
            "grid_row": null,
            "grid_template_areas": null,
            "grid_template_columns": null,
            "grid_template_rows": null,
            "height": null,
            "justify_content": null,
            "justify_items": null,
            "left": null,
            "margin": null,
            "max_height": null,
            "max_width": null,
            "min_height": null,
            "min_width": null,
            "object_fit": null,
            "object_position": null,
            "order": null,
            "overflow": null,
            "overflow_x": null,
            "overflow_y": null,
            "padding": null,
            "right": null,
            "top": null,
            "visibility": null,
            "width": null
          }
        },
        "a16e354f54e04570b34a7f231b6503a1": {
          "model_module": "@jupyter-widgets/base",
          "model_name": "LayoutModel",
          "model_module_version": "1.2.0",
          "state": {
            "_model_module": "@jupyter-widgets/base",
            "_model_module_version": "1.2.0",
            "_model_name": "LayoutModel",
            "_view_count": null,
            "_view_module": "@jupyter-widgets/base",
            "_view_module_version": "1.2.0",
            "_view_name": "LayoutView",
            "align_content": null,
            "align_items": null,
            "align_self": null,
            "border": null,
            "bottom": null,
            "display": null,
            "flex": null,
            "flex_flow": null,
            "grid_area": null,
            "grid_auto_columns": null,
            "grid_auto_flow": null,
            "grid_auto_rows": null,
            "grid_column": null,
            "grid_gap": null,
            "grid_row": null,
            "grid_template_areas": null,
            "grid_template_columns": null,
            "grid_template_rows": null,
            "height": null,
            "justify_content": null,
            "justify_items": null,
            "left": null,
            "margin": null,
            "max_height": null,
            "max_width": null,
            "min_height": null,
            "min_width": null,
            "object_fit": null,
            "object_position": null,
            "order": null,
            "overflow": null,
            "overflow_x": null,
            "overflow_y": null,
            "padding": null,
            "right": null,
            "top": null,
            "visibility": null,
            "width": null
          }
        },
        "a4c3748f2e984df8ab48185991e292df": {
          "model_module": "@jupyter-widgets/controls",
          "model_name": "DescriptionStyleModel",
          "model_module_version": "1.5.0",
          "state": {
            "_model_module": "@jupyter-widgets/controls",
            "_model_module_version": "1.5.0",
            "_model_name": "DescriptionStyleModel",
            "_view_count": null,
            "_view_module": "@jupyter-widgets/base",
            "_view_module_version": "1.2.0",
            "_view_name": "StyleView",
            "description_width": ""
          }
        },
        "07ffe4224db546279fae57530f3ccdf2": {
          "model_module": "@jupyter-widgets/base",
          "model_name": "LayoutModel",
          "model_module_version": "1.2.0",
          "state": {
            "_model_module": "@jupyter-widgets/base",
            "_model_module_version": "1.2.0",
            "_model_name": "LayoutModel",
            "_view_count": null,
            "_view_module": "@jupyter-widgets/base",
            "_view_module_version": "1.2.0",
            "_view_name": "LayoutView",
            "align_content": null,
            "align_items": null,
            "align_self": null,
            "border": null,
            "bottom": null,
            "display": null,
            "flex": null,
            "flex_flow": null,
            "grid_area": null,
            "grid_auto_columns": null,
            "grid_auto_flow": null,
            "grid_auto_rows": null,
            "grid_column": null,
            "grid_gap": null,
            "grid_row": null,
            "grid_template_areas": null,
            "grid_template_columns": null,
            "grid_template_rows": null,
            "height": null,
            "justify_content": null,
            "justify_items": null,
            "left": null,
            "margin": null,
            "max_height": null,
            "max_width": null,
            "min_height": null,
            "min_width": null,
            "object_fit": null,
            "object_position": null,
            "order": null,
            "overflow": null,
            "overflow_x": null,
            "overflow_y": null,
            "padding": null,
            "right": null,
            "top": null,
            "visibility": null,
            "width": null
          }
        },
        "92cf8e23de8e4d05b2fcce390e8f30ae": {
          "model_module": "@jupyter-widgets/controls",
          "model_name": "ProgressStyleModel",
          "model_module_version": "1.5.0",
          "state": {
            "_model_module": "@jupyter-widgets/controls",
            "_model_module_version": "1.5.0",
            "_model_name": "ProgressStyleModel",
            "_view_count": null,
            "_view_module": "@jupyter-widgets/base",
            "_view_module_version": "1.2.0",
            "_view_name": "StyleView",
            "bar_color": null,
            "description_width": ""
          }
        },
        "13ae03d1527c485aa3a0bc44c3e508fe": {
          "model_module": "@jupyter-widgets/base",
          "model_name": "LayoutModel",
          "model_module_version": "1.2.0",
          "state": {
            "_model_module": "@jupyter-widgets/base",
            "_model_module_version": "1.2.0",
            "_model_name": "LayoutModel",
            "_view_count": null,
            "_view_module": "@jupyter-widgets/base",
            "_view_module_version": "1.2.0",
            "_view_name": "LayoutView",
            "align_content": null,
            "align_items": null,
            "align_self": null,
            "border": null,
            "bottom": null,
            "display": null,
            "flex": null,
            "flex_flow": null,
            "grid_area": null,
            "grid_auto_columns": null,
            "grid_auto_flow": null,
            "grid_auto_rows": null,
            "grid_column": null,
            "grid_gap": null,
            "grid_row": null,
            "grid_template_areas": null,
            "grid_template_columns": null,
            "grid_template_rows": null,
            "height": null,
            "justify_content": null,
            "justify_items": null,
            "left": null,
            "margin": null,
            "max_height": null,
            "max_width": null,
            "min_height": null,
            "min_width": null,
            "object_fit": null,
            "object_position": null,
            "order": null,
            "overflow": null,
            "overflow_x": null,
            "overflow_y": null,
            "padding": null,
            "right": null,
            "top": null,
            "visibility": null,
            "width": null
          }
        },
        "d51eae81c9b245eb97132ec4443917cf": {
          "model_module": "@jupyter-widgets/controls",
          "model_name": "DescriptionStyleModel",
          "model_module_version": "1.5.0",
          "state": {
            "_model_module": "@jupyter-widgets/controls",
            "_model_module_version": "1.5.0",
            "_model_name": "DescriptionStyleModel",
            "_view_count": null,
            "_view_module": "@jupyter-widgets/base",
            "_view_module_version": "1.2.0",
            "_view_name": "StyleView",
            "description_width": ""
          }
        },
        "0f6238e069054e6880c55b406f5b75fe": {
          "model_module": "@jupyter-widgets/controls",
          "model_name": "HBoxModel",
          "model_module_version": "1.5.0",
          "state": {
            "_dom_classes": [],
            "_model_module": "@jupyter-widgets/controls",
            "_model_module_version": "1.5.0",
            "_model_name": "HBoxModel",
            "_view_count": null,
            "_view_module": "@jupyter-widgets/controls",
            "_view_module_version": "1.5.0",
            "_view_name": "HBoxView",
            "box_style": "",
            "children": [
              "IPY_MODEL_b038178293e0493e99cb9182da7c68a0",
              "IPY_MODEL_1e66572e0cdf4acb8a73bb49e430d3f8",
              "IPY_MODEL_8c470b9ec38c46d085f8e7e41b13a9a9"
            ],
            "layout": "IPY_MODEL_15b5ccb927c7439793337fcee13b43bb"
          }
        },
        "b038178293e0493e99cb9182da7c68a0": {
          "model_module": "@jupyter-widgets/controls",
          "model_name": "HTMLModel",
          "model_module_version": "1.5.0",
          "state": {
            "_dom_classes": [],
            "_model_module": "@jupyter-widgets/controls",
            "_model_module_version": "1.5.0",
            "_model_name": "HTMLModel",
            "_view_count": null,
            "_view_module": "@jupyter-widgets/controls",
            "_view_module_version": "1.5.0",
            "_view_name": "HTMLView",
            "description": "",
            "description_tooltip": null,
            "layout": "IPY_MODEL_3a6f4d93f6b24a2c96bd7a0b5b274b81",
            "placeholder": "​",
            "style": "IPY_MODEL_d2b4319c286145af8783bb0c156e7fea",
            "value": "vocab.json: 100%"
          }
        },
        "1e66572e0cdf4acb8a73bb49e430d3f8": {
          "model_module": "@jupyter-widgets/controls",
          "model_name": "FloatProgressModel",
          "model_module_version": "1.5.0",
          "state": {
            "_dom_classes": [],
            "_model_module": "@jupyter-widgets/controls",
            "_model_module_version": "1.5.0",
            "_model_name": "FloatProgressModel",
            "_view_count": null,
            "_view_module": "@jupyter-widgets/controls",
            "_view_module_version": "1.5.0",
            "_view_name": "ProgressView",
            "bar_style": "success",
            "description": "",
            "description_tooltip": null,
            "layout": "IPY_MODEL_a069723793e74f52b6942e22d7926634",
            "max": 808408,
            "min": 0,
            "orientation": "horizontal",
            "style": "IPY_MODEL_775968f4f21e45bd875ad059864b7f76",
            "value": 808408
          }
        },
        "8c470b9ec38c46d085f8e7e41b13a9a9": {
          "model_module": "@jupyter-widgets/controls",
          "model_name": "HTMLModel",
          "model_module_version": "1.5.0",
          "state": {
            "_dom_classes": [],
            "_model_module": "@jupyter-widgets/controls",
            "_model_module_version": "1.5.0",
            "_model_name": "HTMLModel",
            "_view_count": null,
            "_view_module": "@jupyter-widgets/controls",
            "_view_module_version": "1.5.0",
            "_view_name": "HTMLView",
            "description": "",
            "description_tooltip": null,
            "layout": "IPY_MODEL_83ef4d88519d4af989171d68e8c093ec",
            "placeholder": "​",
            "style": "IPY_MODEL_dd4054485e9d48bc8220f34c45a264f3",
            "value": " 808k/808k [00:00&lt;00:00, 5.74MB/s]"
          }
        },
        "15b5ccb927c7439793337fcee13b43bb": {
          "model_module": "@jupyter-widgets/base",
          "model_name": "LayoutModel",
          "model_module_version": "1.2.0",
          "state": {
            "_model_module": "@jupyter-widgets/base",
            "_model_module_version": "1.2.0",
            "_model_name": "LayoutModel",
            "_view_count": null,
            "_view_module": "@jupyter-widgets/base",
            "_view_module_version": "1.2.0",
            "_view_name": "LayoutView",
            "align_content": null,
            "align_items": null,
            "align_self": null,
            "border": null,
            "bottom": null,
            "display": null,
            "flex": null,
            "flex_flow": null,
            "grid_area": null,
            "grid_auto_columns": null,
            "grid_auto_flow": null,
            "grid_auto_rows": null,
            "grid_column": null,
            "grid_gap": null,
            "grid_row": null,
            "grid_template_areas": null,
            "grid_template_columns": null,
            "grid_template_rows": null,
            "height": null,
            "justify_content": null,
            "justify_items": null,
            "left": null,
            "margin": null,
            "max_height": null,
            "max_width": null,
            "min_height": null,
            "min_width": null,
            "object_fit": null,
            "object_position": null,
            "order": null,
            "overflow": null,
            "overflow_x": null,
            "overflow_y": null,
            "padding": null,
            "right": null,
            "top": null,
            "visibility": null,
            "width": null
          }
        },
        "3a6f4d93f6b24a2c96bd7a0b5b274b81": {
          "model_module": "@jupyter-widgets/base",
          "model_name": "LayoutModel",
          "model_module_version": "1.2.0",
          "state": {
            "_model_module": "@jupyter-widgets/base",
            "_model_module_version": "1.2.0",
            "_model_name": "LayoutModel",
            "_view_count": null,
            "_view_module": "@jupyter-widgets/base",
            "_view_module_version": "1.2.0",
            "_view_name": "LayoutView",
            "align_content": null,
            "align_items": null,
            "align_self": null,
            "border": null,
            "bottom": null,
            "display": null,
            "flex": null,
            "flex_flow": null,
            "grid_area": null,
            "grid_auto_columns": null,
            "grid_auto_flow": null,
            "grid_auto_rows": null,
            "grid_column": null,
            "grid_gap": null,
            "grid_row": null,
            "grid_template_areas": null,
            "grid_template_columns": null,
            "grid_template_rows": null,
            "height": null,
            "justify_content": null,
            "justify_items": null,
            "left": null,
            "margin": null,
            "max_height": null,
            "max_width": null,
            "min_height": null,
            "min_width": null,
            "object_fit": null,
            "object_position": null,
            "order": null,
            "overflow": null,
            "overflow_x": null,
            "overflow_y": null,
            "padding": null,
            "right": null,
            "top": null,
            "visibility": null,
            "width": null
          }
        },
        "d2b4319c286145af8783bb0c156e7fea": {
          "model_module": "@jupyter-widgets/controls",
          "model_name": "DescriptionStyleModel",
          "model_module_version": "1.5.0",
          "state": {
            "_model_module": "@jupyter-widgets/controls",
            "_model_module_version": "1.5.0",
            "_model_name": "DescriptionStyleModel",
            "_view_count": null,
            "_view_module": "@jupyter-widgets/base",
            "_view_module_version": "1.2.0",
            "_view_name": "StyleView",
            "description_width": ""
          }
        },
        "a069723793e74f52b6942e22d7926634": {
          "model_module": "@jupyter-widgets/base",
          "model_name": "LayoutModel",
          "model_module_version": "1.2.0",
          "state": {
            "_model_module": "@jupyter-widgets/base",
            "_model_module_version": "1.2.0",
            "_model_name": "LayoutModel",
            "_view_count": null,
            "_view_module": "@jupyter-widgets/base",
            "_view_module_version": "1.2.0",
            "_view_name": "LayoutView",
            "align_content": null,
            "align_items": null,
            "align_self": null,
            "border": null,
            "bottom": null,
            "display": null,
            "flex": null,
            "flex_flow": null,
            "grid_area": null,
            "grid_auto_columns": null,
            "grid_auto_flow": null,
            "grid_auto_rows": null,
            "grid_column": null,
            "grid_gap": null,
            "grid_row": null,
            "grid_template_areas": null,
            "grid_template_columns": null,
            "grid_template_rows": null,
            "height": null,
            "justify_content": null,
            "justify_items": null,
            "left": null,
            "margin": null,
            "max_height": null,
            "max_width": null,
            "min_height": null,
            "min_width": null,
            "object_fit": null,
            "object_position": null,
            "order": null,
            "overflow": null,
            "overflow_x": null,
            "overflow_y": null,
            "padding": null,
            "right": null,
            "top": null,
            "visibility": null,
            "width": null
          }
        },
        "775968f4f21e45bd875ad059864b7f76": {
          "model_module": "@jupyter-widgets/controls",
          "model_name": "ProgressStyleModel",
          "model_module_version": "1.5.0",
          "state": {
            "_model_module": "@jupyter-widgets/controls",
            "_model_module_version": "1.5.0",
            "_model_name": "ProgressStyleModel",
            "_view_count": null,
            "_view_module": "@jupyter-widgets/base",
            "_view_module_version": "1.2.0",
            "_view_name": "StyleView",
            "bar_color": null,
            "description_width": ""
          }
        },
        "83ef4d88519d4af989171d68e8c093ec": {
          "model_module": "@jupyter-widgets/base",
          "model_name": "LayoutModel",
          "model_module_version": "1.2.0",
          "state": {
            "_model_module": "@jupyter-widgets/base",
            "_model_module_version": "1.2.0",
            "_model_name": "LayoutModel",
            "_view_count": null,
            "_view_module": "@jupyter-widgets/base",
            "_view_module_version": "1.2.0",
            "_view_name": "LayoutView",
            "align_content": null,
            "align_items": null,
            "align_self": null,
            "border": null,
            "bottom": null,
            "display": null,
            "flex": null,
            "flex_flow": null,
            "grid_area": null,
            "grid_auto_columns": null,
            "grid_auto_flow": null,
            "grid_auto_rows": null,
            "grid_column": null,
            "grid_gap": null,
            "grid_row": null,
            "grid_template_areas": null,
            "grid_template_columns": null,
            "grid_template_rows": null,
            "height": null,
            "justify_content": null,
            "justify_items": null,
            "left": null,
            "margin": null,
            "max_height": null,
            "max_width": null,
            "min_height": null,
            "min_width": null,
            "object_fit": null,
            "object_position": null,
            "order": null,
            "overflow": null,
            "overflow_x": null,
            "overflow_y": null,
            "padding": null,
            "right": null,
            "top": null,
            "visibility": null,
            "width": null
          }
        },
        "dd4054485e9d48bc8220f34c45a264f3": {
          "model_module": "@jupyter-widgets/controls",
          "model_name": "DescriptionStyleModel",
          "model_module_version": "1.5.0",
          "state": {
            "_model_module": "@jupyter-widgets/controls",
            "_model_module_version": "1.5.0",
            "_model_name": "DescriptionStyleModel",
            "_view_count": null,
            "_view_module": "@jupyter-widgets/base",
            "_view_module_version": "1.2.0",
            "_view_name": "StyleView",
            "description_width": ""
          }
        },
        "db66d136b13f4b2cb475ca0c32778b6b": {
          "model_module": "@jupyter-widgets/controls",
          "model_name": "HBoxModel",
          "model_module_version": "1.5.0",
          "state": {
            "_dom_classes": [],
            "_model_module": "@jupyter-widgets/controls",
            "_model_module_version": "1.5.0",
            "_model_name": "HBoxModel",
            "_view_count": null,
            "_view_module": "@jupyter-widgets/controls",
            "_view_module_version": "1.5.0",
            "_view_name": "HBoxView",
            "box_style": "",
            "children": [
              "IPY_MODEL_56980765561a4e2294f7063f503899cc",
              "IPY_MODEL_cb40c905af4c4e0aafe2318cf1d5703e",
              "IPY_MODEL_59cfc2d30fa1412a8a35cc80f86035bc"
            ],
            "layout": "IPY_MODEL_9c4d305a8875440ab63e397b4d77510f"
          }
        },
        "56980765561a4e2294f7063f503899cc": {
          "model_module": "@jupyter-widgets/controls",
          "model_name": "HTMLModel",
          "model_module_version": "1.5.0",
          "state": {
            "_dom_classes": [],
            "_model_module": "@jupyter-widgets/controls",
            "_model_module_version": "1.5.0",
            "_model_name": "HTMLModel",
            "_view_count": null,
            "_view_module": "@jupyter-widgets/controls",
            "_view_module_version": "1.5.0",
            "_view_name": "HTMLView",
            "description": "",
            "description_tooltip": null,
            "layout": "IPY_MODEL_3b22273c92d24f5ca91043f9f4ce33a1",
            "placeholder": "​",
            "style": "IPY_MODEL_b40b1d415ea248c0863865e29de3d7ed",
            "value": "merges.txt: 100%"
          }
        },
        "cb40c905af4c4e0aafe2318cf1d5703e": {
          "model_module": "@jupyter-widgets/controls",
          "model_name": "FloatProgressModel",
          "model_module_version": "1.5.0",
          "state": {
            "_dom_classes": [],
            "_model_module": "@jupyter-widgets/controls",
            "_model_module_version": "1.5.0",
            "_model_name": "FloatProgressModel",
            "_view_count": null,
            "_view_module": "@jupyter-widgets/controls",
            "_view_module_version": "1.5.0",
            "_view_name": "ProgressView",
            "bar_style": "success",
            "description": "",
            "description_tooltip": null,
            "layout": "IPY_MODEL_44eafcd66cc840a49f31915ba15fe618",
            "max": 466674,
            "min": 0,
            "orientation": "horizontal",
            "style": "IPY_MODEL_7d02fb628ea34fa6a8451a12e610ef2b",
            "value": 466674
          }
        },
        "59cfc2d30fa1412a8a35cc80f86035bc": {
          "model_module": "@jupyter-widgets/controls",
          "model_name": "HTMLModel",
          "model_module_version": "1.5.0",
          "state": {
            "_dom_classes": [],
            "_model_module": "@jupyter-widgets/controls",
            "_model_module_version": "1.5.0",
            "_model_name": "HTMLModel",
            "_view_count": null,
            "_view_module": "@jupyter-widgets/controls",
            "_view_module_version": "1.5.0",
            "_view_name": "HTMLView",
            "description": "",
            "description_tooltip": null,
            "layout": "IPY_MODEL_6850ab20c9ee49a1a0f7232ca54279c6",
            "placeholder": "​",
            "style": "IPY_MODEL_c2f59446d8834d70b5f2e30e3aa8e3c5",
            "value": " 467k/467k [00:00&lt;00:00, 5.02MB/s]"
          }
        },
        "9c4d305a8875440ab63e397b4d77510f": {
          "model_module": "@jupyter-widgets/base",
          "model_name": "LayoutModel",
          "model_module_version": "1.2.0",
          "state": {
            "_model_module": "@jupyter-widgets/base",
            "_model_module_version": "1.2.0",
            "_model_name": "LayoutModel",
            "_view_count": null,
            "_view_module": "@jupyter-widgets/base",
            "_view_module_version": "1.2.0",
            "_view_name": "LayoutView",
            "align_content": null,
            "align_items": null,
            "align_self": null,
            "border": null,
            "bottom": null,
            "display": null,
            "flex": null,
            "flex_flow": null,
            "grid_area": null,
            "grid_auto_columns": null,
            "grid_auto_flow": null,
            "grid_auto_rows": null,
            "grid_column": null,
            "grid_gap": null,
            "grid_row": null,
            "grid_template_areas": null,
            "grid_template_columns": null,
            "grid_template_rows": null,
            "height": null,
            "justify_content": null,
            "justify_items": null,
            "left": null,
            "margin": null,
            "max_height": null,
            "max_width": null,
            "min_height": null,
            "min_width": null,
            "object_fit": null,
            "object_position": null,
            "order": null,
            "overflow": null,
            "overflow_x": null,
            "overflow_y": null,
            "padding": null,
            "right": null,
            "top": null,
            "visibility": null,
            "width": null
          }
        },
        "3b22273c92d24f5ca91043f9f4ce33a1": {
          "model_module": "@jupyter-widgets/base",
          "model_name": "LayoutModel",
          "model_module_version": "1.2.0",
          "state": {
            "_model_module": "@jupyter-widgets/base",
            "_model_module_version": "1.2.0",
            "_model_name": "LayoutModel",
            "_view_count": null,
            "_view_module": "@jupyter-widgets/base",
            "_view_module_version": "1.2.0",
            "_view_name": "LayoutView",
            "align_content": null,
            "align_items": null,
            "align_self": null,
            "border": null,
            "bottom": null,
            "display": null,
            "flex": null,
            "flex_flow": null,
            "grid_area": null,
            "grid_auto_columns": null,
            "grid_auto_flow": null,
            "grid_auto_rows": null,
            "grid_column": null,
            "grid_gap": null,
            "grid_row": null,
            "grid_template_areas": null,
            "grid_template_columns": null,
            "grid_template_rows": null,
            "height": null,
            "justify_content": null,
            "justify_items": null,
            "left": null,
            "margin": null,
            "max_height": null,
            "max_width": null,
            "min_height": null,
            "min_width": null,
            "object_fit": null,
            "object_position": null,
            "order": null,
            "overflow": null,
            "overflow_x": null,
            "overflow_y": null,
            "padding": null,
            "right": null,
            "top": null,
            "visibility": null,
            "width": null
          }
        },
        "b40b1d415ea248c0863865e29de3d7ed": {
          "model_module": "@jupyter-widgets/controls",
          "model_name": "DescriptionStyleModel",
          "model_module_version": "1.5.0",
          "state": {
            "_model_module": "@jupyter-widgets/controls",
            "_model_module_version": "1.5.0",
            "_model_name": "DescriptionStyleModel",
            "_view_count": null,
            "_view_module": "@jupyter-widgets/base",
            "_view_module_version": "1.2.0",
            "_view_name": "StyleView",
            "description_width": ""
          }
        },
        "44eafcd66cc840a49f31915ba15fe618": {
          "model_module": "@jupyter-widgets/base",
          "model_name": "LayoutModel",
          "model_module_version": "1.2.0",
          "state": {
            "_model_module": "@jupyter-widgets/base",
            "_model_module_version": "1.2.0",
            "_model_name": "LayoutModel",
            "_view_count": null,
            "_view_module": "@jupyter-widgets/base",
            "_view_module_version": "1.2.0",
            "_view_name": "LayoutView",
            "align_content": null,
            "align_items": null,
            "align_self": null,
            "border": null,
            "bottom": null,
            "display": null,
            "flex": null,
            "flex_flow": null,
            "grid_area": null,
            "grid_auto_columns": null,
            "grid_auto_flow": null,
            "grid_auto_rows": null,
            "grid_column": null,
            "grid_gap": null,
            "grid_row": null,
            "grid_template_areas": null,
            "grid_template_columns": null,
            "grid_template_rows": null,
            "height": null,
            "justify_content": null,
            "justify_items": null,
            "left": null,
            "margin": null,
            "max_height": null,
            "max_width": null,
            "min_height": null,
            "min_width": null,
            "object_fit": null,
            "object_position": null,
            "order": null,
            "overflow": null,
            "overflow_x": null,
            "overflow_y": null,
            "padding": null,
            "right": null,
            "top": null,
            "visibility": null,
            "width": null
          }
        },
        "7d02fb628ea34fa6a8451a12e610ef2b": {
          "model_module": "@jupyter-widgets/controls",
          "model_name": "ProgressStyleModel",
          "model_module_version": "1.5.0",
          "state": {
            "_model_module": "@jupyter-widgets/controls",
            "_model_module_version": "1.5.0",
            "_model_name": "ProgressStyleModel",
            "_view_count": null,
            "_view_module": "@jupyter-widgets/base",
            "_view_module_version": "1.2.0",
            "_view_name": "StyleView",
            "bar_color": null,
            "description_width": ""
          }
        },
        "6850ab20c9ee49a1a0f7232ca54279c6": {
          "model_module": "@jupyter-widgets/base",
          "model_name": "LayoutModel",
          "model_module_version": "1.2.0",
          "state": {
            "_model_module": "@jupyter-widgets/base",
            "_model_module_version": "1.2.0",
            "_model_name": "LayoutModel",
            "_view_count": null,
            "_view_module": "@jupyter-widgets/base",
            "_view_module_version": "1.2.0",
            "_view_name": "LayoutView",
            "align_content": null,
            "align_items": null,
            "align_self": null,
            "border": null,
            "bottom": null,
            "display": null,
            "flex": null,
            "flex_flow": null,
            "grid_area": null,
            "grid_auto_columns": null,
            "grid_auto_flow": null,
            "grid_auto_rows": null,
            "grid_column": null,
            "grid_gap": null,
            "grid_row": null,
            "grid_template_areas": null,
            "grid_template_columns": null,
            "grid_template_rows": null,
            "height": null,
            "justify_content": null,
            "justify_items": null,
            "left": null,
            "margin": null,
            "max_height": null,
            "max_width": null,
            "min_height": null,
            "min_width": null,
            "object_fit": null,
            "object_position": null,
            "order": null,
            "overflow": null,
            "overflow_x": null,
            "overflow_y": null,
            "padding": null,
            "right": null,
            "top": null,
            "visibility": null,
            "width": null
          }
        },
        "c2f59446d8834d70b5f2e30e3aa8e3c5": {
          "model_module": "@jupyter-widgets/controls",
          "model_name": "DescriptionStyleModel",
          "model_module_version": "1.5.0",
          "state": {
            "_model_module": "@jupyter-widgets/controls",
            "_model_module_version": "1.5.0",
            "_model_name": "DescriptionStyleModel",
            "_view_count": null,
            "_view_module": "@jupyter-widgets/base",
            "_view_module_version": "1.2.0",
            "_view_name": "StyleView",
            "description_width": ""
          }
        },
        "afae0a1e342e4675aab65bd7e210f122": {
          "model_module": "@jupyter-widgets/controls",
          "model_name": "HBoxModel",
          "model_module_version": "1.5.0",
          "state": {
            "_dom_classes": [],
            "_model_module": "@jupyter-widgets/controls",
            "_model_module_version": "1.5.0",
            "_model_name": "HBoxModel",
            "_view_count": null,
            "_view_module": "@jupyter-widgets/controls",
            "_view_module_version": "1.5.0",
            "_view_name": "HBoxView",
            "box_style": "",
            "children": [
              "IPY_MODEL_667dd2671e3c4f9dbe39f482514fd014",
              "IPY_MODEL_930ea8dec1ae436e8ae1a427dd1dc6e6",
              "IPY_MODEL_ed9ec0dd34eb47e0826054035439ff46"
            ],
            "layout": "IPY_MODEL_a127616a631d47d793ed3489a6d66f9b"
          }
        },
        "667dd2671e3c4f9dbe39f482514fd014": {
          "model_module": "@jupyter-widgets/controls",
          "model_name": "HTMLModel",
          "model_module_version": "1.5.0",
          "state": {
            "_dom_classes": [],
            "_model_module": "@jupyter-widgets/controls",
            "_model_module_version": "1.5.0",
            "_model_name": "HTMLModel",
            "_view_count": null,
            "_view_module": "@jupyter-widgets/controls",
            "_view_module_version": "1.5.0",
            "_view_name": "HTMLView",
            "description": "",
            "description_tooltip": null,
            "layout": "IPY_MODEL_4c5041228ca14ec7ab29823ed46cc49d",
            "placeholder": "​",
            "style": "IPY_MODEL_04c4d1a15fae4421bd486dab8bce561c",
            "value": "tokenizer.json: 100%"
          }
        },
        "930ea8dec1ae436e8ae1a427dd1dc6e6": {
          "model_module": "@jupyter-widgets/controls",
          "model_name": "FloatProgressModel",
          "model_module_version": "1.5.0",
          "state": {
            "_dom_classes": [],
            "_model_module": "@jupyter-widgets/controls",
            "_model_module_version": "1.5.0",
            "_model_name": "FloatProgressModel",
            "_view_count": null,
            "_view_module": "@jupyter-widgets/controls",
            "_view_module_version": "1.5.0",
            "_view_name": "ProgressView",
            "bar_style": "success",
            "description": "",
            "description_tooltip": null,
            "layout": "IPY_MODEL_4c32bbdd6d9442a2b6d4c9fa3ff6be7d",
            "max": 2128878,
            "min": 0,
            "orientation": "horizontal",
            "style": "IPY_MODEL_92a91cc90bfe4b0cbb6f9b8fdf764bc4",
            "value": 2128878
          }
        },
        "ed9ec0dd34eb47e0826054035439ff46": {
          "model_module": "@jupyter-widgets/controls",
          "model_name": "HTMLModel",
          "model_module_version": "1.5.0",
          "state": {
            "_dom_classes": [],
            "_model_module": "@jupyter-widgets/controls",
            "_model_module_version": "1.5.0",
            "_model_name": "HTMLModel",
            "_view_count": null,
            "_view_module": "@jupyter-widgets/controls",
            "_view_module_version": "1.5.0",
            "_view_name": "HTMLView",
            "description": "",
            "description_tooltip": null,
            "layout": "IPY_MODEL_8efcc9d537844b1285ad60049e4dae90",
            "placeholder": "​",
            "style": "IPY_MODEL_36dd352a194d4b5ba3eae4cd4c752c3c",
            "value": " 2.13M/2.13M [00:00&lt;00:00, 20.6MB/s]"
          }
        },
        "a127616a631d47d793ed3489a6d66f9b": {
          "model_module": "@jupyter-widgets/base",
          "model_name": "LayoutModel",
          "model_module_version": "1.2.0",
          "state": {
            "_model_module": "@jupyter-widgets/base",
            "_model_module_version": "1.2.0",
            "_model_name": "LayoutModel",
            "_view_count": null,
            "_view_module": "@jupyter-widgets/base",
            "_view_module_version": "1.2.0",
            "_view_name": "LayoutView",
            "align_content": null,
            "align_items": null,
            "align_self": null,
            "border": null,
            "bottom": null,
            "display": null,
            "flex": null,
            "flex_flow": null,
            "grid_area": null,
            "grid_auto_columns": null,
            "grid_auto_flow": null,
            "grid_auto_rows": null,
            "grid_column": null,
            "grid_gap": null,
            "grid_row": null,
            "grid_template_areas": null,
            "grid_template_columns": null,
            "grid_template_rows": null,
            "height": null,
            "justify_content": null,
            "justify_items": null,
            "left": null,
            "margin": null,
            "max_height": null,
            "max_width": null,
            "min_height": null,
            "min_width": null,
            "object_fit": null,
            "object_position": null,
            "order": null,
            "overflow": null,
            "overflow_x": null,
            "overflow_y": null,
            "padding": null,
            "right": null,
            "top": null,
            "visibility": null,
            "width": null
          }
        },
        "4c5041228ca14ec7ab29823ed46cc49d": {
          "model_module": "@jupyter-widgets/base",
          "model_name": "LayoutModel",
          "model_module_version": "1.2.0",
          "state": {
            "_model_module": "@jupyter-widgets/base",
            "_model_module_version": "1.2.0",
            "_model_name": "LayoutModel",
            "_view_count": null,
            "_view_module": "@jupyter-widgets/base",
            "_view_module_version": "1.2.0",
            "_view_name": "LayoutView",
            "align_content": null,
            "align_items": null,
            "align_self": null,
            "border": null,
            "bottom": null,
            "display": null,
            "flex": null,
            "flex_flow": null,
            "grid_area": null,
            "grid_auto_columns": null,
            "grid_auto_flow": null,
            "grid_auto_rows": null,
            "grid_column": null,
            "grid_gap": null,
            "grid_row": null,
            "grid_template_areas": null,
            "grid_template_columns": null,
            "grid_template_rows": null,
            "height": null,
            "justify_content": null,
            "justify_items": null,
            "left": null,
            "margin": null,
            "max_height": null,
            "max_width": null,
            "min_height": null,
            "min_width": null,
            "object_fit": null,
            "object_position": null,
            "order": null,
            "overflow": null,
            "overflow_x": null,
            "overflow_y": null,
            "padding": null,
            "right": null,
            "top": null,
            "visibility": null,
            "width": null
          }
        },
        "04c4d1a15fae4421bd486dab8bce561c": {
          "model_module": "@jupyter-widgets/controls",
          "model_name": "DescriptionStyleModel",
          "model_module_version": "1.5.0",
          "state": {
            "_model_module": "@jupyter-widgets/controls",
            "_model_module_version": "1.5.0",
            "_model_name": "DescriptionStyleModel",
            "_view_count": null,
            "_view_module": "@jupyter-widgets/base",
            "_view_module_version": "1.2.0",
            "_view_name": "StyleView",
            "description_width": ""
          }
        },
        "4c32bbdd6d9442a2b6d4c9fa3ff6be7d": {
          "model_module": "@jupyter-widgets/base",
          "model_name": "LayoutModel",
          "model_module_version": "1.2.0",
          "state": {
            "_model_module": "@jupyter-widgets/base",
            "_model_module_version": "1.2.0",
            "_model_name": "LayoutModel",
            "_view_count": null,
            "_view_module": "@jupyter-widgets/base",
            "_view_module_version": "1.2.0",
            "_view_name": "LayoutView",
            "align_content": null,
            "align_items": null,
            "align_self": null,
            "border": null,
            "bottom": null,
            "display": null,
            "flex": null,
            "flex_flow": null,
            "grid_area": null,
            "grid_auto_columns": null,
            "grid_auto_flow": null,
            "grid_auto_rows": null,
            "grid_column": null,
            "grid_gap": null,
            "grid_row": null,
            "grid_template_areas": null,
            "grid_template_columns": null,
            "grid_template_rows": null,
            "height": null,
            "justify_content": null,
            "justify_items": null,
            "left": null,
            "margin": null,
            "max_height": null,
            "max_width": null,
            "min_height": null,
            "min_width": null,
            "object_fit": null,
            "object_position": null,
            "order": null,
            "overflow": null,
            "overflow_x": null,
            "overflow_y": null,
            "padding": null,
            "right": null,
            "top": null,
            "visibility": null,
            "width": null
          }
        },
        "92a91cc90bfe4b0cbb6f9b8fdf764bc4": {
          "model_module": "@jupyter-widgets/controls",
          "model_name": "ProgressStyleModel",
          "model_module_version": "1.5.0",
          "state": {
            "_model_module": "@jupyter-widgets/controls",
            "_model_module_version": "1.5.0",
            "_model_name": "ProgressStyleModel",
            "_view_count": null,
            "_view_module": "@jupyter-widgets/base",
            "_view_module_version": "1.2.0",
            "_view_name": "StyleView",
            "bar_color": null,
            "description_width": ""
          }
        },
        "8efcc9d537844b1285ad60049e4dae90": {
          "model_module": "@jupyter-widgets/base",
          "model_name": "LayoutModel",
          "model_module_version": "1.2.0",
          "state": {
            "_model_module": "@jupyter-widgets/base",
            "_model_module_version": "1.2.0",
            "_model_name": "LayoutModel",
            "_view_count": null,
            "_view_module": "@jupyter-widgets/base",
            "_view_module_version": "1.2.0",
            "_view_name": "LayoutView",
            "align_content": null,
            "align_items": null,
            "align_self": null,
            "border": null,
            "bottom": null,
            "display": null,
            "flex": null,
            "flex_flow": null,
            "grid_area": null,
            "grid_auto_columns": null,
            "grid_auto_flow": null,
            "grid_auto_rows": null,
            "grid_column": null,
            "grid_gap": null,
            "grid_row": null,
            "grid_template_areas": null,
            "grid_template_columns": null,
            "grid_template_rows": null,
            "height": null,
            "justify_content": null,
            "justify_items": null,
            "left": null,
            "margin": null,
            "max_height": null,
            "max_width": null,
            "min_height": null,
            "min_width": null,
            "object_fit": null,
            "object_position": null,
            "order": null,
            "overflow": null,
            "overflow_x": null,
            "overflow_y": null,
            "padding": null,
            "right": null,
            "top": null,
            "visibility": null,
            "width": null
          }
        },
        "36dd352a194d4b5ba3eae4cd4c752c3c": {
          "model_module": "@jupyter-widgets/controls",
          "model_name": "DescriptionStyleModel",
          "model_module_version": "1.5.0",
          "state": {
            "_model_module": "@jupyter-widgets/controls",
            "_model_module_version": "1.5.0",
            "_model_name": "DescriptionStyleModel",
            "_view_count": null,
            "_view_module": "@jupyter-widgets/base",
            "_view_module_version": "1.2.0",
            "_view_name": "StyleView",
            "description_width": ""
          }
        },
        "d6ca1a322de94fa5a018d1cd07b0c99b": {
          "model_module": "@jupyter-widgets/controls",
          "model_name": "HBoxModel",
          "model_module_version": "1.5.0",
          "state": {
            "_dom_classes": [],
            "_model_module": "@jupyter-widgets/controls",
            "_model_module_version": "1.5.0",
            "_model_name": "HBoxModel",
            "_view_count": null,
            "_view_module": "@jupyter-widgets/controls",
            "_view_module_version": "1.5.0",
            "_view_name": "HBoxView",
            "box_style": "",
            "children": [
              "IPY_MODEL_acc8375ba43a4170ac3b41d36761f257",
              "IPY_MODEL_59eeb3ba55b042bf90cf33a086fb841a",
              "IPY_MODEL_5908f183d44c45dab2138ae7b402581d"
            ],
            "layout": "IPY_MODEL_ee3f5d5932e0411ab8055f8b4cf8f1bf"
          }
        },
        "acc8375ba43a4170ac3b41d36761f257": {
          "model_module": "@jupyter-widgets/controls",
          "model_name": "HTMLModel",
          "model_module_version": "1.5.0",
          "state": {
            "_dom_classes": [],
            "_model_module": "@jupyter-widgets/controls",
            "_model_module_version": "1.5.0",
            "_model_name": "HTMLModel",
            "_view_count": null,
            "_view_module": "@jupyter-widgets/controls",
            "_view_module_version": "1.5.0",
            "_view_name": "HTMLView",
            "description": "",
            "description_tooltip": null,
            "layout": "IPY_MODEL_f2c7b528dec5495b94a101d30493c996",
            "placeholder": "​",
            "style": "IPY_MODEL_0e4756b8044344758b19dff66a209087",
            "value": "special_tokens_map.json: 100%"
          }
        },
        "59eeb3ba55b042bf90cf33a086fb841a": {
          "model_module": "@jupyter-widgets/controls",
          "model_name": "FloatProgressModel",
          "model_module_version": "1.5.0",
          "state": {
            "_dom_classes": [],
            "_model_module": "@jupyter-widgets/controls",
            "_model_module_version": "1.5.0",
            "_model_name": "FloatProgressModel",
            "_view_count": null,
            "_view_module": "@jupyter-widgets/controls",
            "_view_module_version": "1.5.0",
            "_view_name": "ProgressView",
            "bar_style": "success",
            "description": "",
            "description_tooltip": null,
            "layout": "IPY_MODEL_39298e3c2aa54d91a93940c70675e176",
            "max": 964,
            "min": 0,
            "orientation": "horizontal",
            "style": "IPY_MODEL_e7c2021e40b443e8aba292e5a3a101f2",
            "value": 964
          }
        },
        "5908f183d44c45dab2138ae7b402581d": {
          "model_module": "@jupyter-widgets/controls",
          "model_name": "HTMLModel",
          "model_module_version": "1.5.0",
          "state": {
            "_dom_classes": [],
            "_model_module": "@jupyter-widgets/controls",
            "_model_module_version": "1.5.0",
            "_model_name": "HTMLModel",
            "_view_count": null,
            "_view_module": "@jupyter-widgets/controls",
            "_view_module_version": "1.5.0",
            "_view_name": "HTMLView",
            "description": "",
            "description_tooltip": null,
            "layout": "IPY_MODEL_4810ffb91d7149e784dde34e2646c5f1",
            "placeholder": "​",
            "style": "IPY_MODEL_e4b2dfc647eb4834be3be9f19bb4c0d2",
            "value": " 964/964 [00:00&lt;00:00, 36.4kB/s]"
          }
        },
        "ee3f5d5932e0411ab8055f8b4cf8f1bf": {
          "model_module": "@jupyter-widgets/base",
          "model_name": "LayoutModel",
          "model_module_version": "1.2.0",
          "state": {
            "_model_module": "@jupyter-widgets/base",
            "_model_module_version": "1.2.0",
            "_model_name": "LayoutModel",
            "_view_count": null,
            "_view_module": "@jupyter-widgets/base",
            "_view_module_version": "1.2.0",
            "_view_name": "LayoutView",
            "align_content": null,
            "align_items": null,
            "align_self": null,
            "border": null,
            "bottom": null,
            "display": null,
            "flex": null,
            "flex_flow": null,
            "grid_area": null,
            "grid_auto_columns": null,
            "grid_auto_flow": null,
            "grid_auto_rows": null,
            "grid_column": null,
            "grid_gap": null,
            "grid_row": null,
            "grid_template_areas": null,
            "grid_template_columns": null,
            "grid_template_rows": null,
            "height": null,
            "justify_content": null,
            "justify_items": null,
            "left": null,
            "margin": null,
            "max_height": null,
            "max_width": null,
            "min_height": null,
            "min_width": null,
            "object_fit": null,
            "object_position": null,
            "order": null,
            "overflow": null,
            "overflow_x": null,
            "overflow_y": null,
            "padding": null,
            "right": null,
            "top": null,
            "visibility": null,
            "width": null
          }
        },
        "f2c7b528dec5495b94a101d30493c996": {
          "model_module": "@jupyter-widgets/base",
          "model_name": "LayoutModel",
          "model_module_version": "1.2.0",
          "state": {
            "_model_module": "@jupyter-widgets/base",
            "_model_module_version": "1.2.0",
            "_model_name": "LayoutModel",
            "_view_count": null,
            "_view_module": "@jupyter-widgets/base",
            "_view_module_version": "1.2.0",
            "_view_name": "LayoutView",
            "align_content": null,
            "align_items": null,
            "align_self": null,
            "border": null,
            "bottom": null,
            "display": null,
            "flex": null,
            "flex_flow": null,
            "grid_area": null,
            "grid_auto_columns": null,
            "grid_auto_flow": null,
            "grid_auto_rows": null,
            "grid_column": null,
            "grid_gap": null,
            "grid_row": null,
            "grid_template_areas": null,
            "grid_template_columns": null,
            "grid_template_rows": null,
            "height": null,
            "justify_content": null,
            "justify_items": null,
            "left": null,
            "margin": null,
            "max_height": null,
            "max_width": null,
            "min_height": null,
            "min_width": null,
            "object_fit": null,
            "object_position": null,
            "order": null,
            "overflow": null,
            "overflow_x": null,
            "overflow_y": null,
            "padding": null,
            "right": null,
            "top": null,
            "visibility": null,
            "width": null
          }
        },
        "0e4756b8044344758b19dff66a209087": {
          "model_module": "@jupyter-widgets/controls",
          "model_name": "DescriptionStyleModel",
          "model_module_version": "1.5.0",
          "state": {
            "_model_module": "@jupyter-widgets/controls",
            "_model_module_version": "1.5.0",
            "_model_name": "DescriptionStyleModel",
            "_view_count": null,
            "_view_module": "@jupyter-widgets/base",
            "_view_module_version": "1.2.0",
            "_view_name": "StyleView",
            "description_width": ""
          }
        },
        "39298e3c2aa54d91a93940c70675e176": {
          "model_module": "@jupyter-widgets/base",
          "model_name": "LayoutModel",
          "model_module_version": "1.2.0",
          "state": {
            "_model_module": "@jupyter-widgets/base",
            "_model_module_version": "1.2.0",
            "_model_name": "LayoutModel",
            "_view_count": null,
            "_view_module": "@jupyter-widgets/base",
            "_view_module_version": "1.2.0",
            "_view_name": "LayoutView",
            "align_content": null,
            "align_items": null,
            "align_self": null,
            "border": null,
            "bottom": null,
            "display": null,
            "flex": null,
            "flex_flow": null,
            "grid_area": null,
            "grid_auto_columns": null,
            "grid_auto_flow": null,
            "grid_auto_rows": null,
            "grid_column": null,
            "grid_gap": null,
            "grid_row": null,
            "grid_template_areas": null,
            "grid_template_columns": null,
            "grid_template_rows": null,
            "height": null,
            "justify_content": null,
            "justify_items": null,
            "left": null,
            "margin": null,
            "max_height": null,
            "max_width": null,
            "min_height": null,
            "min_width": null,
            "object_fit": null,
            "object_position": null,
            "order": null,
            "overflow": null,
            "overflow_x": null,
            "overflow_y": null,
            "padding": null,
            "right": null,
            "top": null,
            "visibility": null,
            "width": null
          }
        },
        "e7c2021e40b443e8aba292e5a3a101f2": {
          "model_module": "@jupyter-widgets/controls",
          "model_name": "ProgressStyleModel",
          "model_module_version": "1.5.0",
          "state": {
            "_model_module": "@jupyter-widgets/controls",
            "_model_module_version": "1.5.0",
            "_model_name": "ProgressStyleModel",
            "_view_count": null,
            "_view_module": "@jupyter-widgets/base",
            "_view_module_version": "1.2.0",
            "_view_name": "StyleView",
            "bar_color": null,
            "description_width": ""
          }
        },
        "4810ffb91d7149e784dde34e2646c5f1": {
          "model_module": "@jupyter-widgets/base",
          "model_name": "LayoutModel",
          "model_module_version": "1.2.0",
          "state": {
            "_model_module": "@jupyter-widgets/base",
            "_model_module_version": "1.2.0",
            "_model_name": "LayoutModel",
            "_view_count": null,
            "_view_module": "@jupyter-widgets/base",
            "_view_module_version": "1.2.0",
            "_view_name": "LayoutView",
            "align_content": null,
            "align_items": null,
            "align_self": null,
            "border": null,
            "bottom": null,
            "display": null,
            "flex": null,
            "flex_flow": null,
            "grid_area": null,
            "grid_auto_columns": null,
            "grid_auto_flow": null,
            "grid_auto_rows": null,
            "grid_column": null,
            "grid_gap": null,
            "grid_row": null,
            "grid_template_areas": null,
            "grid_template_columns": null,
            "grid_template_rows": null,
            "height": null,
            "justify_content": null,
            "justify_items": null,
            "left": null,
            "margin": null,
            "max_height": null,
            "max_width": null,
            "min_height": null,
            "min_width": null,
            "object_fit": null,
            "object_position": null,
            "order": null,
            "overflow": null,
            "overflow_x": null,
            "overflow_y": null,
            "padding": null,
            "right": null,
            "top": null,
            "visibility": null,
            "width": null
          }
        },
        "e4b2dfc647eb4834be3be9f19bb4c0d2": {
          "model_module": "@jupyter-widgets/controls",
          "model_name": "DescriptionStyleModel",
          "model_module_version": "1.5.0",
          "state": {
            "_model_module": "@jupyter-widgets/controls",
            "_model_module_version": "1.5.0",
            "_model_name": "DescriptionStyleModel",
            "_view_count": null,
            "_view_module": "@jupyter-widgets/base",
            "_view_module_version": "1.2.0",
            "_view_name": "StyleView",
            "description_width": ""
          }
        }
      }
    }
  },
  "cells": [
    {
      "cell_type": "code",
      "execution_count": null,
      "metadata": {
        "id": "qpCL3-eLixR4",
        "colab": {
          "base_uri": "https://localhost:8080/"
        },
        "outputId": "b65c0433-3dd3-4d45-f7ad-3a1c191d620c"
      },
      "outputs": [
        {
          "output_type": "stream",
          "name": "stderr",
          "text": [
            "[nltk_data] Downloading package stopwords to /root/nltk_data...\n",
            "[nltk_data]   Package stopwords is already up-to-date!\n"
          ]
        },
        {
          "output_type": "execute_result",
          "data": {
            "text/plain": [
              "True"
            ]
          },
          "metadata": {},
          "execution_count": 13
        }
      ],
      "source": [
        "from keras.models import Sequential\n",
        "from keras.layers import Dense, Dropout, Conv1D, MaxPool1D, GlobalMaxPool1D, GlobalAveragePooling1D, GlobalAveragePooling3D, LSTM, Embedding, Activation, Flatten, AveragePooling1D, BatchNormalization, Reshape, Concatenate, Input\n",
        "from keras.callbacks import EarlyStopping, ModelCheckpoint, LearningRateScheduler\n",
        "from keras.losses import CategoricalCrossentropy, SparseCategoricalCrossentropy\n",
        "# from keras.metrics import Recall, Precision, F1Score, Accuracy, categorical_accuracy\n",
        "from keras import backend as K\n",
        "from keras.preprocessing.sequence import pad_sequences\n",
        "from keras.preprocessing.text import Tokenizer\n",
        "# !pip install tensorflow-addons\n",
        "# import tensorflow_addons as tfa\n",
        "from tensorflow.keras.models import Model\n",
        "from tensorflow.keras.metrics import Recall, Precision, F1Score\n",
        "from sklearn.preprocessing import OneHotEncoder\n",
        "from sklearn.model_selection import train_test_split, StratifiedKFold\n",
        "from sklearn.metrics import recall_score, precision_score, f1_score, confusion_matrix\n",
        "from gensim.models import Word2Vec, fasttext\n",
        "# from keras.initializers import Constant\n",
        "# from keras.regularizers import  c\n",
        "# from nltk.corpus import stopwords\n",
        "# from tqdm import tqdm\n",
        "from transformers import pipeline\n",
        "import pickle\n",
        "\n",
        "# from Sastrawi.Stemmer.StemmerFactory import StemmerFactory\n",
        "import keras\n",
        "import os\n",
        "import json\n",
        "import tensorflow as tf\n",
        "import pandas as pd\n",
        "import numpy as np\n",
        "import matplotlib.pyplot as plt\n",
        "import re\n",
        "import nltk\n",
        "from nltk.corpus import stopwords\n",
        "nltk.download('stopwords')"
      ]
    },
    {
      "cell_type": "markdown",
      "source": [
        "# Loading Data"
      ],
      "metadata": {
        "id": "iStENL0BSG13"
      }
    },
    {
      "cell_type": "code",
      "source": [
        "pt_nonstop = pd.read_csv(\"/content/drive/MyDrive/Skripsi/emotion_detection_CNN-LSTM/Data/readyToTrain/postag_without_stopwords/postag_without_stopwords.csv\")\n",
        "pt_nonstop[\"Tweet\"].fillna(\"\", inplace=True)\n",
        "clearDf = pt_nonstop.copy()\n",
        "max_token_sentence = max([len(text.split()) for text in clearDf[\"Tweet\"]])\n",
        "num_of_long_sentences = len([len(text.split()) for text in clearDf[\"Tweet\"] if len(text.split())>100])\n",
        "max_token_sentence\n",
        "index_long_sentence = [i for i, text in enumerate(clearDf[\"Tweet\"]) if len(text.split())>100]\n",
        "clearDf.drop(index_long_sentence, axis = 0, inplace = True)"
      ],
      "metadata": {
        "id": "bri99OnNjrZA"
      },
      "execution_count": null,
      "outputs": []
    },
    {
      "cell_type": "code",
      "source": [
        "embedding_matrix = np.load(\"/content/drive/MyDrive/Skripsi/emotion_detection_CNN-LSTM/Data/readyToTrain/postag_without_stopwords/embedding_matrix.npy\")"
      ],
      "metadata": {
        "id": "Lgt4nUXgjL4Y"
      },
      "execution_count": null,
      "outputs": []
    },
    {
      "cell_type": "code",
      "source": [
        "# encode_text = w2v_tokenizer_fit_to_texts(formalDf[\"Tweet\"]) # Word2Vec Tokenizer\n",
        "# encode_text[0]\n",
        "# loading\n",
        "with open('/content/drive/MyDrive/Skripsi/emotion_detection_CNN-LSTM/Data/readyToTrain/postag_without_stopwords/ft_tokenizer.pickle', 'rb') as handle:\n",
        "    ft_tokenizer = pickle.load(handle)\n",
        "encode_text = ft_tokenizer.texts_to_sequences(clearDf[\"Tweet\"])\n",
        "# encode_text[0:5]"
      ],
      "metadata": {
        "id": "RhnRxEnBjOJQ"
      },
      "execution_count": null,
      "outputs": []
    },
    {
      "cell_type": "code",
      "execution_count": null,
      "metadata": {
        "id": "1-ATdl2Jy9Ey"
      },
      "outputs": [],
      "source": [
        "# PARAM FOR EMBEDDING LAYER\n",
        "max_sen_len = 100  # max sentence of a review\n",
        "vocab_size = len(ft_tokenizer.index_word)+1  # total number of words\n",
        "embed_dim = 300\n",
        "input_dim = vocab_size\n",
        "output_dim = embed_dim"
      ]
    },
    {
      "cell_type": "markdown",
      "metadata": {
        "id": "5VpCiadoxSmY"
      },
      "source": [
        "# Encoding Label"
      ]
    },
    {
      "cell_type": "code",
      "execution_count": null,
      "metadata": {
        "colab": {
          "base_uri": "https://localhost:8080/"
        },
        "id": "X32rz1EonlNk",
        "outputId": "8c8de577-6d8b-412f-c7ef-874f6952a58d"
      },
      "outputs": [
        {
          "output_type": "execute_result",
          "data": {
            "text/plain": [
              "['Fear', 'Love', 'Anger', 'Neutral', 'Sad', 'Joy']"
            ]
          },
          "metadata": {},
          "execution_count": 9
        }
      ],
      "source": [
        "emotions = list(clearDf.iloc[:,1].unique())\n",
        "emotions"
      ]
    },
    {
      "cell_type": "code",
      "execution_count": null,
      "metadata": {
        "colab": {
          "base_uri": "https://localhost:8080/"
        },
        "id": "0ZMwaGFFp4pU",
        "outputId": "99dec0be-5f35-47ff-f954-b80eb4675aef"
      },
      "outputs": [
        {
          "output_type": "execute_result",
          "data": {
            "text/plain": [
              "array([[0., 1., 0., 0., 0., 0.],\n",
              "       [0., 0., 0., 1., 0., 0.],\n",
              "       [1., 0., 0., 0., 0., 0.],\n",
              "       ...,\n",
              "       [1., 0., 0., 0., 0., 0.],\n",
              "       [0., 0., 1., 0., 0., 0.],\n",
              "       [0., 0., 0., 0., 0., 1.]])"
            ]
          },
          "metadata": {},
          "execution_count": 10
        }
      ],
      "source": [
        "# now padding to have a amximum length of 1565\n",
        "X = pad_sequences(encode_text, maxlen=max_sen_len, padding='pre', value = 0)\n",
        "\n",
        "# y = formalDf.apply(lambda row : emotions.index(row[\"Label\"]), axis = 1).values.astype(\"int32\") # Label Encoding\n",
        "encoder = OneHotEncoder(sparse_output = False) #Onehot encoding\n",
        "y = encoder.fit_transform(clearDf[[\"Label\"]])\n",
        "lossfun = CategoricalCrossentropy()\n",
        "y"
      ]
    },
    {
      "cell_type": "code",
      "source": [
        "encoder.inverse_transform(y)"
      ],
      "metadata": {
        "colab": {
          "base_uri": "https://localhost:8080/"
        },
        "id": "KDo6SJM9kuZl",
        "outputId": "fbfa1a69-acf1-45b0-c2c5-d9a3754fb807"
      },
      "execution_count": null,
      "outputs": [
        {
          "output_type": "execute_result",
          "data": {
            "text/plain": [
              "array([['Fear'],\n",
              "       ['Love'],\n",
              "       ['Anger'],\n",
              "       ...,\n",
              "       ['Anger'],\n",
              "       ['Joy'],\n",
              "       ['Sad']], dtype=object)"
            ]
          },
          "metadata": {},
          "execution_count": 9
        }
      ]
    },
    {
      "cell_type": "code",
      "source": [
        "encode_text"
      ],
      "metadata": {
        "id": "J2lDqMSVk7GV"
      },
      "execution_count": null,
      "outputs": []
    },
    {
      "cell_type": "markdown",
      "metadata": {
        "id": "7EXmHefaaZLg"
      },
      "source": [
        "# Split Dataset"
      ]
    },
    {
      "cell_type": "code",
      "execution_count": null,
      "metadata": {
        "colab": {
          "base_uri": "https://localhost:8080/"
        },
        "id": "3k9OMEUff9aD",
        "outputId": "5feb899d-e0e0-4ae5-ec1d-859b9ff4c62b"
      },
      "outputs": [
        {
          "output_type": "execute_result",
          "data": {
            "text/plain": [
              "(1416, 100)"
            ]
          },
          "metadata": {},
          "execution_count": 11
        }
      ],
      "source": [
        "X_train,X_test, y_train, y_test = train_test_split(\n",
        "    X, y, random_state = 42, test_size = 0.2, stratify = y\n",
        ")\n",
        "X_test.shape\n",
        "# X_train"
      ]
    },
    {
      "cell_type": "markdown",
      "source": [
        "# Function Pipeline"
      ],
      "metadata": {
        "id": "sezpZ6YaN_ND"
      }
    },
    {
      "cell_type": "code",
      "source": [
        "slangDf = pd.read_csv(\"https://raw.githubusercontent.com/nasalsabila/kamus-alay/master/colloquial-indonesian-lexicon.csv\")\n",
        "slangDf2 = pd.read_csv(\"https://raw.githubusercontent.com/haryoa/indo-collex/main/dict/inforformal-formal-Indonesian-dictionary.tsv\", delimiter='\\t')\n",
        "slangDf3 = pd.read_csv(\"https://raw.githubusercontent.com/meisaputri21/Indonesian-Twitter-Emotion-Dataset/master/kamus_singkatan.csv\", delimiter=';', header = None)"
      ],
      "metadata": {
        "id": "xoAZYDBnQBOs"
      },
      "execution_count": null,
      "outputs": []
    },
    {
      "cell_type": "code",
      "source": [
        "slangDict = {}\n",
        "\n",
        "for slangIdx, row in slangDf.iterrows():\n",
        "  slangDict[row[\"slang\"]] = row[\"formal\"]\n",
        "for slangIdx, row in slangDf2.iterrows():\n",
        "  slangDict[row[\"informal\"]] = row[\"formal\"]\n",
        "for slangIdx, row in slangDf3.iterrows():\n",
        "  slangDict[row[0]] = row[1]"
      ],
      "metadata": {
        "id": "qXTR64xAQs4i"
      },
      "execution_count": null,
      "outputs": []
    },
    {
      "cell_type": "code",
      "source": [
        "pretrained_name = \"w11wo/indonesian-roberta-base-posp-tagger\"\n",
        "\n",
        "nlp = pipeline(\n",
        "    \"token-classification\",\n",
        "    model=pretrained_name,\n",
        "    tokenizer=pretrained_name\n",
        ")"
      ],
      "metadata": {
        "colab": {
          "base_uri": "https://localhost:8080/",
          "height": 345,
          "referenced_widgets": [
            "fa30f208cd814e28a907da6fff99d9c2",
            "e76609a3bb614546acbc58e44a47973b",
            "1b2dd2035ce34777b587a3b62f3ac6a1",
            "eefb4a276a9f411faa8801f697e895ea",
            "1cd3f96d3e2b4923b6e8212f6a6353df",
            "b9c34b1822bb48f0b2767d9cd4543be7",
            "f8731a85822d453fa2487ec45130faf5",
            "711d0b8a693a42499fcacd4fd1c55f32",
            "45ba61cc424546f0875ae50fb326dc38",
            "4ddc44008b7a4af0a81b9fe9caa138b3",
            "86f0fdac06bd496d9878084c07b576db",
            "5cebcd8465f9438fa57adb57de898e78",
            "efd1580f75954855ab065b7458f6150b",
            "ae0ee36425694103ad767d8331e97e43",
            "bf202fa5ff184ea2a9e31b751ce76bbc",
            "5b909e8e7901434184604f6862fe7531",
            "320a57f884544bf4bc00537c39b453af",
            "ae63a7f99f3545ff910558da065457ab",
            "552385dbbead477e8833eb8ddb246b6a",
            "f2db5dabb56b4be8a99f5536312933f2",
            "db2ce2b71d5d4ed194fa593a46169bfa",
            "19e45e0b13c848838916bfde3bab8be9",
            "8c9eab0f186d4098a60cd0f0aceef97c",
            "b802fb3ee80f4d2c99ff080ee69e7f2e",
            "61eef6d8e77c4bcf8d89aff047e2ef32",
            "67d1056cc7544b2dbfa8b9060c0948f3",
            "023954eacc644eb2a71b9cb8b6fd29ed",
            "a16e354f54e04570b34a7f231b6503a1",
            "a4c3748f2e984df8ab48185991e292df",
            "07ffe4224db546279fae57530f3ccdf2",
            "92cf8e23de8e4d05b2fcce390e8f30ae",
            "13ae03d1527c485aa3a0bc44c3e508fe",
            "d51eae81c9b245eb97132ec4443917cf",
            "0f6238e069054e6880c55b406f5b75fe",
            "b038178293e0493e99cb9182da7c68a0",
            "1e66572e0cdf4acb8a73bb49e430d3f8",
            "8c470b9ec38c46d085f8e7e41b13a9a9",
            "15b5ccb927c7439793337fcee13b43bb",
            "3a6f4d93f6b24a2c96bd7a0b5b274b81",
            "d2b4319c286145af8783bb0c156e7fea",
            "a069723793e74f52b6942e22d7926634",
            "775968f4f21e45bd875ad059864b7f76",
            "83ef4d88519d4af989171d68e8c093ec",
            "dd4054485e9d48bc8220f34c45a264f3",
            "db66d136b13f4b2cb475ca0c32778b6b",
            "56980765561a4e2294f7063f503899cc",
            "cb40c905af4c4e0aafe2318cf1d5703e",
            "59cfc2d30fa1412a8a35cc80f86035bc",
            "9c4d305a8875440ab63e397b4d77510f",
            "3b22273c92d24f5ca91043f9f4ce33a1",
            "b40b1d415ea248c0863865e29de3d7ed",
            "44eafcd66cc840a49f31915ba15fe618",
            "7d02fb628ea34fa6a8451a12e610ef2b",
            "6850ab20c9ee49a1a0f7232ca54279c6",
            "c2f59446d8834d70b5f2e30e3aa8e3c5",
            "afae0a1e342e4675aab65bd7e210f122",
            "667dd2671e3c4f9dbe39f482514fd014",
            "930ea8dec1ae436e8ae1a427dd1dc6e6",
            "ed9ec0dd34eb47e0826054035439ff46",
            "a127616a631d47d793ed3489a6d66f9b",
            "4c5041228ca14ec7ab29823ed46cc49d",
            "04c4d1a15fae4421bd486dab8bce561c",
            "4c32bbdd6d9442a2b6d4c9fa3ff6be7d",
            "92a91cc90bfe4b0cbb6f9b8fdf764bc4",
            "8efcc9d537844b1285ad60049e4dae90",
            "36dd352a194d4b5ba3eae4cd4c752c3c",
            "d6ca1a322de94fa5a018d1cd07b0c99b",
            "acc8375ba43a4170ac3b41d36761f257",
            "59eeb3ba55b042bf90cf33a086fb841a",
            "5908f183d44c45dab2138ae7b402581d",
            "ee3f5d5932e0411ab8055f8b4cf8f1bf",
            "f2c7b528dec5495b94a101d30493c996",
            "0e4756b8044344758b19dff66a209087",
            "39298e3c2aa54d91a93940c70675e176",
            "e7c2021e40b443e8aba292e5a3a101f2",
            "4810ffb91d7149e784dde34e2646c5f1",
            "e4b2dfc647eb4834be3be9f19bb4c0d2"
          ]
        },
        "collapsed": true,
        "id": "R6CopvcSRhQh",
        "outputId": "1e02ced8-c220-4001-ee9f-e1d93e96ccc8"
      },
      "execution_count": null,
      "outputs": [
        {
          "output_type": "stream",
          "name": "stderr",
          "text": [
            "/usr/local/lib/python3.10/dist-packages/huggingface_hub/utils/_token.py:88: UserWarning: \n",
            "The secret `HF_TOKEN` does not exist in your Colab secrets.\n",
            "To authenticate with the Hugging Face Hub, create a token in your settings tab (https://huggingface.co/settings/tokens), set it as secret in your Google Colab and restart your session.\n",
            "You will be able to reuse this secret in all of your notebooks.\n",
            "Please note that authentication is recommended but still optional to access public models or datasets.\n",
            "  warnings.warn(\n"
          ]
        },
        {
          "output_type": "display_data",
          "data": {
            "text/plain": [
              "config.json:   0%|          | 0.00/1.70k [00:00<?, ?B/s]"
            ],
            "application/vnd.jupyter.widget-view+json": {
              "version_major": 2,
              "version_minor": 0,
              "model_id": "fa30f208cd814e28a907da6fff99d9c2"
            }
          },
          "metadata": {}
        },
        {
          "output_type": "display_data",
          "data": {
            "text/plain": [
              "model.safetensors:   0%|          | 0.00/496M [00:00<?, ?B/s]"
            ],
            "application/vnd.jupyter.widget-view+json": {
              "version_major": 2,
              "version_minor": 0,
              "model_id": "5cebcd8465f9438fa57adb57de898e78"
            }
          },
          "metadata": {}
        },
        {
          "output_type": "display_data",
          "data": {
            "text/plain": [
              "tokenizer_config.json:   0%|          | 0.00/1.24k [00:00<?, ?B/s]"
            ],
            "application/vnd.jupyter.widget-view+json": {
              "version_major": 2,
              "version_minor": 0,
              "model_id": "8c9eab0f186d4098a60cd0f0aceef97c"
            }
          },
          "metadata": {}
        },
        {
          "output_type": "display_data",
          "data": {
            "text/plain": [
              "vocab.json:   0%|          | 0.00/808k [00:00<?, ?B/s]"
            ],
            "application/vnd.jupyter.widget-view+json": {
              "version_major": 2,
              "version_minor": 0,
              "model_id": "0f6238e069054e6880c55b406f5b75fe"
            }
          },
          "metadata": {}
        },
        {
          "output_type": "display_data",
          "data": {
            "text/plain": [
              "merges.txt:   0%|          | 0.00/467k [00:00<?, ?B/s]"
            ],
            "application/vnd.jupyter.widget-view+json": {
              "version_major": 2,
              "version_minor": 0,
              "model_id": "db66d136b13f4b2cb475ca0c32778b6b"
            }
          },
          "metadata": {}
        },
        {
          "output_type": "display_data",
          "data": {
            "text/plain": [
              "tokenizer.json:   0%|          | 0.00/2.13M [00:00<?, ?B/s]"
            ],
            "application/vnd.jupyter.widget-view+json": {
              "version_major": 2,
              "version_minor": 0,
              "model_id": "afae0a1e342e4675aab65bd7e210f122"
            }
          },
          "metadata": {}
        },
        {
          "output_type": "display_data",
          "data": {
            "text/plain": [
              "special_tokens_map.json:   0%|          | 0.00/964 [00:00<?, ?B/s]"
            ],
            "application/vnd.jupyter.widget-view+json": {
              "version_major": 2,
              "version_minor": 0,
              "model_id": "d6ca1a322de94fa5a018d1cd07b0c99b"
            }
          },
          "metadata": {}
        }
      ]
    },
    {
      "cell_type": "code",
      "source": [
        "with open('/content/drive/MyDrive/Skripsi/emotion_detection_CNN-LSTM/Data/readyToTrain/postag_without_stopwords/ft_tokenizer.pickle', 'rb') as handle:\n",
        "    ft_tokenizer = pickle.load(handle)"
      ],
      "metadata": {
        "id": "DufRqq_ASXrl"
      },
      "execution_count": null,
      "outputs": []
    },
    {
      "cell_type": "code",
      "source": [
        "def addingPOS(text) :\n",
        "  pos_text = []\n",
        "  pos = nlp(text)\n",
        "  for i, word in enumerate(text.split()):\n",
        "    pos_text.append(f\"<{pos[i]['entity'][2:]}>\")\n",
        "    pos_text.append(word)\n",
        "  return \" \".join(pos_text)"
      ],
      "metadata": {
        "id": "BNupc3BfRcsl"
      },
      "execution_count": null,
      "outputs": []
    },
    {
      "cell_type": "code",
      "source": [
        "def cutMultChar(teks : str):\n",
        "    teks = teks.split()\n",
        "    newText = []\n",
        "    for word in teks :\n",
        "        pre = re.search(r\"\\b(\\w)\\1\\1+\", word)\n",
        "\n",
        "        post = re.search(r\"(\\w)\\1\\1+\\b\", word)\n",
        "        if pre :\n",
        "            word = re.sub(r\"\\b(\\w)\\1\\1+\", pre.group()[0], word)\n",
        "        if post :\n",
        "            word = re.sub(r\"(\\w)\\1\\1+\\b\", post.group()[0], word)\n",
        "        newText.append(word)\n",
        "\n",
        "    return \" \".join(newText)"
      ],
      "metadata": {
        "id": "mymA8ffqOJgu"
      },
      "execution_count": null,
      "outputs": []
    },
    {
      "cell_type": "code",
      "source": [
        "def removeStopwordsPostag(text) :\n",
        "    arr = text.split()\n",
        "    removable_index = []\n",
        "    for i in range(len(arr)) :\n",
        "        if arr[i] in stopwords_list :\n",
        "            removable_index.append(i-1)\n",
        "            removable_index.append(i)\n",
        "\n",
        "    # del arr[removable_index]\n",
        "    text = [word for i,word in enumerate(arr) if i not in removable_index]\n",
        "    return \" \".join(text)"
      ],
      "metadata": {
        "id": "Rt_DEeKSSIOp"
      },
      "execution_count": null,
      "outputs": []
    },
    {
      "cell_type": "code",
      "source": [
        "not_stopwords_list = [\n",
        "    \"setidaknya\", \"tidakkah\",\"dia\",\"aku\",\"kamu\",\"kita\",\"mereka\",\"tidaklah\",\"tidak\", \"enggak\", \"enggaknya\", \"seseorang\", \"tadinya\", \"keterlaluan\", \"memberikan\", \"bagaimanakah\",\n",
        "    \"apa\", \"kenapa\", \"siapa\", \"mengapa\", \"ibu\", \"tanpa\", \"tak\", \"mengatakan\", \"menyatakan\", \"dikatakannya\",\"sesudahnya\", \"sudahlah\", \"menantikan\", \"bukannya\", \"bukan\", \"bukanlah\", \"kitalah\",\n",
        "    \"ibaratnya\", \"sebaliknya\", \"kalaulah\", \"semisalnya\", \"misalnya\", \"misalkan\", \"semisalnya\", \"misal\", \"kalau\", \"entah\", \"entahlah\", \"mengatakan\"\n",
        "]\n",
        "\n",
        "stopwords_list = set(stopwords.words('indonesian'))\n",
        "\n",
        "# stopwords_list.remove(not_stopwords_list)\n",
        "\n",
        "stopwords_list = set(stopwords_list).difference(not_stopwords_list)\n",
        "# with open(\"stopwords.txt\", 'w') as f :\n",
        "#     f.write(str(stopwords_list))"
      ],
      "metadata": {
        "id": "6uX3Kz3JSM2B"
      },
      "execution_count": null,
      "outputs": []
    },
    {
      "cell_type": "code",
      "source": [
        "def preprocessing(s) :\n",
        "    s = re.sub(r'[^\\w\\s]', '', s)\n",
        "    s = re.sub(r'[0-9]', '', s)\n",
        "    s = cutMultChar(s)\n",
        "    s = re.sub(r'\\b(wk)[wk]+', 'hahaha', s)\n",
        "    s = re.sub(r'\\b(kw)[wk]+', 'hahaha', s)\n",
        "    s = re.sub(r'\\b(hah)[ah]+', 'hahaha', s)\n",
        "    s = re.sub(r'\\b(ah)[ah]+', 'hahaha', s)\n",
        "    s = re.sub(r'\\b(heh)[eh]+', 'hehehe', s)\n",
        "    s = re.sub(r'\\b(eh)[eh]+', 'hehehe', s)\n",
        "    s = addingPOS(s)\n",
        "    s = removeStopwordsPostag(s)\n",
        "    s = ft_tokenizer.texts_to_sequences([s])\n",
        "    s = pad_sequences(s, maxlen=max_sen_len, padding='pre', value = 0)\n",
        "\n",
        "    return np.asarray(s)"
      ],
      "metadata": {
        "id": "y3vUAtxEOCtR"
      },
      "execution_count": null,
      "outputs": []
    },
    {
      "cell_type": "code",
      "source": [
        "input = preprocessing(\"Aku tidak senang saat ini\")"
      ],
      "metadata": {
        "id": "MvrDwzxJTcx9"
      },
      "execution_count": null,
      "outputs": []
    },
    {
      "cell_type": "markdown",
      "source": [
        "# LSTM"
      ],
      "metadata": {
        "id": "91Z2QTFpN3lz"
      }
    },
    {
      "cell_type": "code",
      "execution_count": null,
      "metadata": {
        "id": "mYDdLiud1w-_"
      },
      "outputs": [],
      "source": [
        "# from keras.src.layers.normalization.batch_normalization_v1 import BatchNormalization\n",
        "def buildModelLSTM(name = None, lstm_unit = 256, dropout_lstm = 0) :\n",
        "    model = Sequential() if not name else Sequential(name = name)\n",
        "    # model.add(Embedding(input_dim = input_dim, output_dim = output_dim, weights = [w2v_model.wv.vectors], input_length = max_rev_len, trainable = False, mask_zero = True, embeddings_regularizer=l2(.01)))\n",
        "    model.add(Embedding(input_dim = input_dim, output_dim = output_dim, weights = [embedding_matrix], input_length = max_sen_len, trainable = False))\n",
        "    model.add(LSTM(256, dropout=0.3, return_sequences = False))\n",
        "    model.add(Dense(6, activation='softmax'))\n",
        "    return model\n"
      ]
    },
    {
      "cell_type": "code",
      "source": [
        "lstm = buildModelLSTM(dropout_lstm=0.3)\n",
        "lstm.load_weights(\"/content/drive/MyDrive/Skripsi/emotion_detection_CNN-LSTM/Data/readyToTrain/postag_without_stopwords/lstm/bestweights1.h5\")\n"
      ],
      "metadata": {
        "collapsed": true,
        "id": "ytmqxXoqNGcN"
      },
      "execution_count": null,
      "outputs": []
    },
    {
      "cell_type": "code",
      "source": [
        "lstm.predict(input)"
      ],
      "metadata": {
        "colab": {
          "base_uri": "https://localhost:8080/"
        },
        "id": "4ugIIgIbVbRO",
        "outputId": "11e7fcda-1b07-4993-a793-680e547cd72f"
      },
      "execution_count": null,
      "outputs": [
        {
          "output_type": "stream",
          "name": "stdout",
          "text": [
            "1/1 [==============================] - 0s 118ms/step\n"
          ]
        },
        {
          "output_type": "execute_result",
          "data": {
            "text/plain": [
              "array([[0.02499781, 0.04026552, 0.28716916, 0.00590946, 0.53376013,\n",
              "        0.10789793]], dtype=float32)"
            ]
          },
          "metadata": {},
          "execution_count": 24
        }
      ]
    },
    {
      "cell_type": "code",
      "source": [
        "from joblib import dump, load\n",
        "\n",
        "encoder = load('/content/drive/MyDrive/Skripsi/emotion_detection_CNN-LSTM/Data/readyToTrain/postag_without_stopwords/encoder.joblib') # load and reuse the model"
      ],
      "metadata": {
        "id": "2Lpu2PecS1yc"
      },
      "execution_count": null,
      "outputs": []
    },
    {
      "cell_type": "code",
      "source": [
        "encoder.inverse_transform(lstm.predict(input))"
      ],
      "metadata": {
        "colab": {
          "base_uri": "https://localhost:8080/"
        },
        "id": "dn2ykzEEUnJ6",
        "outputId": "01765c2b-db75-4fa1-8b86-4a447c9f1606"
      },
      "execution_count": null,
      "outputs": [
        {
          "output_type": "stream",
          "name": "stdout",
          "text": [
            "1/1 [==============================] - 0s 144ms/step\n"
          ]
        },
        {
          "output_type": "execute_result",
          "data": {
            "text/plain": [
              "array([['Joy']], dtype=object)"
            ]
          },
          "metadata": {},
          "execution_count": 31
        }
      ]
    },
    {
      "cell_type": "code",
      "source": [
        "import keras\n",
        "keras.utils.plot_model(buildModelLSTM(\"LSTM Model\"), to_file='LSTM_model.png', show_shapes = True)"
      ],
      "metadata": {
        "colab": {
          "base_uri": "https://localhost:8080/",
          "height": 422
        },
        "id": "alpvRaNukUuB",
        "outputId": "5b73b6d3-7c98-4d9a-ad9c-53910d57fcbb"
      },
      "execution_count": null,
      "outputs": [
        {
          "output_type": "execute_result",
          "data": {
            "image/png": "[encoded data removed]",
            "text/plain": [
              "<IPython.core.display.Image object>"
            ]
          },
          "metadata": {},
          "execution_count": 32
        }
      ]
    },
    {
      "cell_type": "markdown",
      "source": [
        "## K-Fold Cross Validation Test"
      ],
      "metadata": {
        "id": "wGIqsKJvmt83"
      }
    },
    {
      "cell_type": "code",
      "source": [
        "for i,(train_index, test_index) in enumerate(fold10_index) :\n",
        "    model = buildModelLSTM(dropout_lstm=0.3)\n",
        "    checkpoint = ModelCheckpoint(f\"/content/drive/MyDrive/Skripsi/Revisi/split50_50/lstm/10-fold/bestweights{i}.h5\",monitor='val_loss', verbose=0, restore_best_weights=True, mode='min', save_weights_only = True)\n",
        "    model.fit(x=X_test[train_index], y = y_test[train_index], epochs = 50, validation_data = (X_test[test_index], y_test[test_index]), callbacks = [stop_early, checkpoint], verbose = False)"
      ],
      "metadata": {
        "id": "Y_hRQWym0i3A"
      },
      "execution_count": null,
      "outputs": []
    },
    {
      "cell_type": "code",
      "source": [
        "lstm10_fold_performance = []\n",
        "\n",
        "for i in range(10):\n",
        "    model = buildModelLSTM(dropout_lstm=0.3)\n",
        "    model.load_weights(f\"/content/drive/MyDrive/Skripsi/Revisi/split50_50/lstm/10-fold/bestweights{i}.h5\")\n",
        "    model.compile(loss=lossfun, optimizer=optimizer, metrics = metrics)\n",
        "    eval_metric = model.evaluate(X_test[fold10_index[i][1]],y_test[fold10_index[i][1]])\n",
        "    y_pred = model.predict(X_test[fold10_index[i][1]])\n",
        "    y_pred = [np.argmax(pred) for pred in y_pred]\n",
        "    y_true = [np.argmax(true) for true in y_test[fold10_index[i][1]]]\n",
        "    fold_metrics = {}\n",
        "    fold_metrics[\"num_fold\"] = i\n",
        "    for j, metric_name in enumerate(model.metrics_names) :\n",
        "        fold_metrics[metric_name] = eval_metric[j]\n",
        "    macro_precision = precision_score(y_true, y_pred, average='macro')\n",
        "    part_precision = precision_score(y_true, y_pred, average = None)\n",
        "    macro_recall = recall_score(y_true, y_pred, average = 'macro')\n",
        "    part_recall = recall_score(y_true, y_pred, average = None)\n",
        "    macro_f1 = f1_score(y_true, y_pred, average = 'macro')\n",
        "    part_f1 = f1_score(y_true, y_pred, average = None)\n",
        "    fold_metrics[\"macro_precision\"] = macro_precision\n",
        "    fold_metrics[\"macro_recall\"] = macro_recall\n",
        "    fold_metrics[\"macro_f1\"] = macro_f1\n",
        "    fold_metrics[\"part_precision\"] = part_precision.tolist()\n",
        "    fold_metrics[\"part_recall\"] = part_recall.tolist()\n",
        "    fold_metrics[\"part_f1\"] = part_f1.tolist()\n",
        "\n",
        "\n",
        "\n",
        "    lstm10_fold_performance.append(fold_metrics)"
      ],
      "metadata": {
        "colab": {
          "base_uri": "https://localhost:8080/"
        },
        "id": "BTg18lH5it8q",
        "outputId": "5c7cdb32-b46c-4132-a323-53301731d01c"
      },
      "execution_count": null,
      "outputs": [
        {
          "output_type": "stream",
          "name": "stdout",
          "text": [
            "12/12 [==============================] - 1s 6ms/step - loss: 0.9845 - accuracy: 0.6780\n",
            "12/12 [==============================] - 0s 4ms/step\n",
            "12/12 [==============================] - 1s 7ms/step - loss: 0.8745 - accuracy: 0.7288\n",
            "12/12 [==============================] - 1s 6ms/step\n",
            "12/12 [==============================] - 1s 7ms/step - loss: 0.8935 - accuracy: 0.6695\n",
            "12/12 [==============================] - 1s 5ms/step\n",
            "12/12 [==============================] - 1s 5ms/step - loss: 0.8338 - accuracy: 0.7034\n",
            "12/12 [==============================] - 0s 3ms/step\n",
            "12/12 [==============================] - 1s 5ms/step - loss: 0.9400 - accuracy: 0.6610\n",
            "12/12 [==============================] - 0s 4ms/step\n",
            "12/12 [==============================] - 1s 5ms/step - loss: 0.8857 - accuracy: 0.6949\n",
            "12/12 [==============================] - 0s 4ms/step\n",
            "12/12 [==============================] - 1s 5ms/step - loss: 0.8527 - accuracy: 0.6977\n",
            "12/12 [==============================] - 0s 4ms/step\n",
            "12/12 [==============================] - 1s 5ms/step - loss: 0.7909 - accuracy: 0.7203\n",
            "12/12 [==============================] - 0s 4ms/step\n",
            "12/12 [==============================] - 4s 7ms/step - loss: 0.8125 - accuracy: 0.6921\n",
            "12/12 [==============================] - 1s 5ms/step\n",
            "12/12 [==============================] - 1s 5ms/step - loss: 0.8902 - accuracy: 0.6997\n",
            "12/12 [==============================] - 0s 4ms/step\n"
          ]
        }
      ]
    },
    {
      "cell_type": "markdown",
      "source": [
        "#CNN-LSTM"
      ],
      "metadata": {
        "id": "l3v-H5nJN765"
      }
    },
    {
      "cell_type": "code",
      "source": [
        "def buildModelCNN3LSTMEksperimen(name = None, num_of_kernel = 64, kernel_size = [4,6,8], lstm_unit = 256, pool_size = 2, dropout_lstm = 0, dropout_rate = 0.5) :\n",
        "    input_layer = Input(shape = (max_sen_len,))\n",
        "    embedding_layer = Embedding(input_dim = input_dim, output_dim = output_dim, weights = [embedding_matrix], input_length = max_sen_len, trainable = False)(input_layer)\n",
        "    def add_conv_layer(filter_size):\n",
        "        return Conv1D(filters=num_of_kernel, kernel_size=filter_size, activation='relu', padding='same')(embedding_layer)\n",
        "\n",
        "    list_conv_layer = []\n",
        "    for ks in kernel_size :\n",
        "        list_conv_layer.append(add_conv_layer(ks))\n",
        "\n",
        "    # Concatenate the outputs of the three Conv1D layers\n",
        "    concatenate = Concatenate(axis=-1)(list_conv_layer)\n",
        "    dropout = Dropout(dropout_rate)(concatenate)\n",
        "    pooling_layer = MaxPool1D()(dropout)\n",
        "    dropout = Dropout(dropout_rate)(pooling_layer)\n",
        "    # model.add(BatchNormalization())\n",
        "    # model.add(Dropout(dropout_rate))\n",
        "    lstm = LSTM(lstm_unit, dropout = dropout_lstm, return_sequences = False)(dropout)\n",
        "    dropout = Dropout(dropout_rate)(lstm)\n",
        "    output_layer = Dense(6, activation='softmax')(dropout)\n",
        "    # output_layer = Dense(6, activation='softmax')(lstm)\n",
        "    model = Model(inputs = input_layer, outputs = output_layer)\n",
        "    # optimizer = keras.optimizers.legacy.Adam(learning_rate = 0.0001)\n",
        "    # model.compile(optimizer='adam', loss='categorical_crossentropy', metrics=metrics)\n",
        "    return model"
      ],
      "metadata": {
        "id": "ZeU7Ye7Sl1KG"
      },
      "execution_count": null,
      "outputs": []
    },
    {
      "cell_type": "code",
      "source": [
        "c3lstm = buildModelCNN3LSTMEksperimen()\n",
        "c3lstm.load_weights(\"/content/drive/MyDrive/Skripsi/emotion_detection_CNN-LSTM/HasilKFold/c3lstm_par3/bestModel12.h5\")\n"
      ],
      "metadata": {
        "id": "QTTaN4tqLhlC"
      },
      "execution_count": null,
      "outputs": []
    },
    {
      "cell_type": "code",
      "source": [
        "encoder.inverse_transform(c3lstm.predict(input))"
      ],
      "metadata": {
        "colab": {
          "base_uri": "https://localhost:8080/"
        },
        "id": "k7YfHhT1mWMt",
        "outputId": "3458c366-c6ea-4ef2-f72a-2be094777fbd"
      },
      "execution_count": null,
      "outputs": [
        {
          "output_type": "stream",
          "name": "stdout",
          "text": [
            "1/1 [==============================] - 0s 80ms/step\n"
          ]
        },
        {
          "output_type": "execute_result",
          "data": {
            "text/plain": [
              "array([['Neutral']], dtype=object)"
            ]
          },
          "metadata": {},
          "execution_count": 40
        }
      ]
    },
    {
      "cell_type": "code",
      "source": [
        "import keras\n",
        "keras.utils.plot_model(buildModelCNN3LSTMEksperimen(\"CNN-LSTM Model\"), to_file='CNN_LSTM_model.png', show_shapes = True)"
      ],
      "metadata": {
        "colab": {
          "base_uri": "https://localhost:8080/",
          "height": 1000
        },
        "id": "vEDfsPrVl4TU",
        "outputId": "4d24ddc7-b9d1-4a58-bc0d-7c8e8f04ba56"
      },
      "execution_count": null,
      "outputs": [
        {
          "output_type": "execute_result",
          "data": {
            "image/png": "[encoded data removed]",
            "text/plain": [
              "<IPython.core.display.Image object>"
            ]
          },
          "metadata": {},
          "execution_count": 25
        }
      ]
    }
  ]
}